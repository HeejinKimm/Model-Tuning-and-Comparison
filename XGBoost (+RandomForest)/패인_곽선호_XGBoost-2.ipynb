{
  "nbformat": 4,
  "nbformat_minor": 0,
  "metadata": {
    "colab": {
      "provenance": []
    },
    "kernelspec": {
      "name": "python3",
      "display_name": "Python 3"
    },
    "language_info": {
      "name": "python"
    },
    "widgets": {
      "application/vnd.jupyter.widget-state+json": {
        "6df4cc858a254d83950f53bbed43a609": {
          "model_module": "@jupyter-widgets/controls",
          "model_name": "HBoxModel",
          "model_module_version": "1.5.0",
          "state": {
            "_dom_classes": [],
            "_model_module": "@jupyter-widgets/controls",
            "_model_module_version": "1.5.0",
            "_model_name": "HBoxModel",
            "_view_count": null,
            "_view_module": "@jupyter-widgets/controls",
            "_view_module_version": "1.5.0",
            "_view_name": "HBoxView",
            "box_style": "",
            "children": [
              "IPY_MODEL_f87f8f56db674cca9091248bc656f59d",
              "IPY_MODEL_b544c0c992694d23b922b558352eb79f",
              "IPY_MODEL_5c71a876456b4a76bf06069f9f78bfcb"
            ],
            "layout": "IPY_MODEL_8fc817a482a948c8ab2dc9b424e382a0"
          }
        },
        "f87f8f56db674cca9091248bc656f59d": {
          "model_module": "@jupyter-widgets/controls",
          "model_name": "HTMLModel",
          "model_module_version": "1.5.0",
          "state": {
            "_dom_classes": [],
            "_model_module": "@jupyter-widgets/controls",
            "_model_module_version": "1.5.0",
            "_model_name": "HTMLModel",
            "_view_count": null,
            "_view_module": "@jupyter-widgets/controls",
            "_view_module_version": "1.5.0",
            "_view_name": "HTMLView",
            "description": "",
            "description_tooltip": null,
            "layout": "IPY_MODEL_c0136432de0a4119ab8d3aa69ceea9b1",
            "placeholder": "​",
            "style": "IPY_MODEL_8aa80335695043e490ff0ad9bcfe2081",
            "value": "Best trial: 124. Best value: 0.674775: 100%"
          }
        },
        "b544c0c992694d23b922b558352eb79f": {
          "model_module": "@jupyter-widgets/controls",
          "model_name": "FloatProgressModel",
          "model_module_version": "1.5.0",
          "state": {
            "_dom_classes": [],
            "_model_module": "@jupyter-widgets/controls",
            "_model_module_version": "1.5.0",
            "_model_name": "FloatProgressModel",
            "_view_count": null,
            "_view_module": "@jupyter-widgets/controls",
            "_view_module_version": "1.5.0",
            "_view_name": "ProgressView",
            "bar_style": "success",
            "description": "",
            "description_tooltip": null,
            "layout": "IPY_MODEL_98adb2349ba544cea1bb4678eef5384f",
            "max": 300,
            "min": 0,
            "orientation": "horizontal",
            "style": "IPY_MODEL_7b0d4e5f92ec4122b80acf6a5c8e60c8",
            "value": 300
          }
        },
        "5c71a876456b4a76bf06069f9f78bfcb": {
          "model_module": "@jupyter-widgets/controls",
          "model_name": "HTMLModel",
          "model_module_version": "1.5.0",
          "state": {
            "_dom_classes": [],
            "_model_module": "@jupyter-widgets/controls",
            "_model_module_version": "1.5.0",
            "_model_name": "HTMLModel",
            "_view_count": null,
            "_view_module": "@jupyter-widgets/controls",
            "_view_module_version": "1.5.0",
            "_view_name": "HTMLView",
            "description": "",
            "description_tooltip": null,
            "layout": "IPY_MODEL_960d42847ede4b938face3475587462a",
            "placeholder": "​",
            "style": "IPY_MODEL_2806cb67b94d48c1b07f5ede9357cd85",
            "value": " 300/300 [13:18&lt;00:00,  1.99s/it]"
          }
        },
        "8fc817a482a948c8ab2dc9b424e382a0": {
          "model_module": "@jupyter-widgets/base",
          "model_name": "LayoutModel",
          "model_module_version": "1.2.0",
          "state": {
            "_model_module": "@jupyter-widgets/base",
            "_model_module_version": "1.2.0",
            "_model_name": "LayoutModel",
            "_view_count": null,
            "_view_module": "@jupyter-widgets/base",
            "_view_module_version": "1.2.0",
            "_view_name": "LayoutView",
            "align_content": null,
            "align_items": null,
            "align_self": null,
            "border": null,
            "bottom": null,
            "display": null,
            "flex": null,
            "flex_flow": null,
            "grid_area": null,
            "grid_auto_columns": null,
            "grid_auto_flow": null,
            "grid_auto_rows": null,
            "grid_column": null,
            "grid_gap": null,
            "grid_row": null,
            "grid_template_areas": null,
            "grid_template_columns": null,
            "grid_template_rows": null,
            "height": null,
            "justify_content": null,
            "justify_items": null,
            "left": null,
            "margin": null,
            "max_height": null,
            "max_width": null,
            "min_height": null,
            "min_width": null,
            "object_fit": null,
            "object_position": null,
            "order": null,
            "overflow": null,
            "overflow_x": null,
            "overflow_y": null,
            "padding": null,
            "right": null,
            "top": null,
            "visibility": null,
            "width": null
          }
        },
        "c0136432de0a4119ab8d3aa69ceea9b1": {
          "model_module": "@jupyter-widgets/base",
          "model_name": "LayoutModel",
          "model_module_version": "1.2.0",
          "state": {
            "_model_module": "@jupyter-widgets/base",
            "_model_module_version": "1.2.0",
            "_model_name": "LayoutModel",
            "_view_count": null,
            "_view_module": "@jupyter-widgets/base",
            "_view_module_version": "1.2.0",
            "_view_name": "LayoutView",
            "align_content": null,
            "align_items": null,
            "align_self": null,
            "border": null,
            "bottom": null,
            "display": null,
            "flex": null,
            "flex_flow": null,
            "grid_area": null,
            "grid_auto_columns": null,
            "grid_auto_flow": null,
            "grid_auto_rows": null,
            "grid_column": null,
            "grid_gap": null,
            "grid_row": null,
            "grid_template_areas": null,
            "grid_template_columns": null,
            "grid_template_rows": null,
            "height": null,
            "justify_content": null,
            "justify_items": null,
            "left": null,
            "margin": null,
            "max_height": null,
            "max_width": null,
            "min_height": null,
            "min_width": null,
            "object_fit": null,
            "object_position": null,
            "order": null,
            "overflow": null,
            "overflow_x": null,
            "overflow_y": null,
            "padding": null,
            "right": null,
            "top": null,
            "visibility": null,
            "width": null
          }
        },
        "8aa80335695043e490ff0ad9bcfe2081": {
          "model_module": "@jupyter-widgets/controls",
          "model_name": "DescriptionStyleModel",
          "model_module_version": "1.5.0",
          "state": {
            "_model_module": "@jupyter-widgets/controls",
            "_model_module_version": "1.5.0",
            "_model_name": "DescriptionStyleModel",
            "_view_count": null,
            "_view_module": "@jupyter-widgets/base",
            "_view_module_version": "1.2.0",
            "_view_name": "StyleView",
            "description_width": ""
          }
        },
        "98adb2349ba544cea1bb4678eef5384f": {
          "model_module": "@jupyter-widgets/base",
          "model_name": "LayoutModel",
          "model_module_version": "1.2.0",
          "state": {
            "_model_module": "@jupyter-widgets/base",
            "_model_module_version": "1.2.0",
            "_model_name": "LayoutModel",
            "_view_count": null,
            "_view_module": "@jupyter-widgets/base",
            "_view_module_version": "1.2.0",
            "_view_name": "LayoutView",
            "align_content": null,
            "align_items": null,
            "align_self": null,
            "border": null,
            "bottom": null,
            "display": null,
            "flex": null,
            "flex_flow": null,
            "grid_area": null,
            "grid_auto_columns": null,
            "grid_auto_flow": null,
            "grid_auto_rows": null,
            "grid_column": null,
            "grid_gap": null,
            "grid_row": null,
            "grid_template_areas": null,
            "grid_template_columns": null,
            "grid_template_rows": null,
            "height": null,
            "justify_content": null,
            "justify_items": null,
            "left": null,
            "margin": null,
            "max_height": null,
            "max_width": null,
            "min_height": null,
            "min_width": null,
            "object_fit": null,
            "object_position": null,
            "order": null,
            "overflow": null,
            "overflow_x": null,
            "overflow_y": null,
            "padding": null,
            "right": null,
            "top": null,
            "visibility": null,
            "width": null
          }
        },
        "7b0d4e5f92ec4122b80acf6a5c8e60c8": {
          "model_module": "@jupyter-widgets/controls",
          "model_name": "ProgressStyleModel",
          "model_module_version": "1.5.0",
          "state": {
            "_model_module": "@jupyter-widgets/controls",
            "_model_module_version": "1.5.0",
            "_model_name": "ProgressStyleModel",
            "_view_count": null,
            "_view_module": "@jupyter-widgets/base",
            "_view_module_version": "1.2.0",
            "_view_name": "StyleView",
            "bar_color": null,
            "description_width": ""
          }
        },
        "960d42847ede4b938face3475587462a": {
          "model_module": "@jupyter-widgets/base",
          "model_name": "LayoutModel",
          "model_module_version": "1.2.0",
          "state": {
            "_model_module": "@jupyter-widgets/base",
            "_model_module_version": "1.2.0",
            "_model_name": "LayoutModel",
            "_view_count": null,
            "_view_module": "@jupyter-widgets/base",
            "_view_module_version": "1.2.0",
            "_view_name": "LayoutView",
            "align_content": null,
            "align_items": null,
            "align_self": null,
            "border": null,
            "bottom": null,
            "display": null,
            "flex": null,
            "flex_flow": null,
            "grid_area": null,
            "grid_auto_columns": null,
            "grid_auto_flow": null,
            "grid_auto_rows": null,
            "grid_column": null,
            "grid_gap": null,
            "grid_row": null,
            "grid_template_areas": null,
            "grid_template_columns": null,
            "grid_template_rows": null,
            "height": null,
            "justify_content": null,
            "justify_items": null,
            "left": null,
            "margin": null,
            "max_height": null,
            "max_width": null,
            "min_height": null,
            "min_width": null,
            "object_fit": null,
            "object_position": null,
            "order": null,
            "overflow": null,
            "overflow_x": null,
            "overflow_y": null,
            "padding": null,
            "right": null,
            "top": null,
            "visibility": null,
            "width": null
          }
        },
        "2806cb67b94d48c1b07f5ede9357cd85": {
          "model_module": "@jupyter-widgets/controls",
          "model_name": "DescriptionStyleModel",
          "model_module_version": "1.5.0",
          "state": {
            "_model_module": "@jupyter-widgets/controls",
            "_model_module_version": "1.5.0",
            "_model_name": "DescriptionStyleModel",
            "_view_count": null,
            "_view_module": "@jupyter-widgets/base",
            "_view_module_version": "1.2.0",
            "_view_name": "StyleView",
            "description_width": ""
          }
        }
      }
    }
  },
  "cells": [
    {
      "cell_type": "markdown",
      "source": [
        "###✔️ 전처리 해둔 데이터 사용"
      ],
      "metadata": {
        "id": "kJnXAVg-5FcL"
      }
    },
    {
      "cell_type": "code",
      "execution_count": 2,
      "metadata": {
        "id": "OrFgNw3QVKq_"
      },
      "outputs": [],
      "source": [
        "import pandas as pd\n",
        "from sklearn.model_selection import train_test_split\n",
        "\n",
        "train_df = pd.read_csv(\"train_processed.csv\")\n",
        "test_df = pd.read_csv(\"test_processed.csv\")\n",
        "\n",
        "X = train_df.drop(columns=['id', 'y', 'shares'])\n",
        "y = train_df['y']\n",
        "\n",
        "X_train, X_valid, y_train, y_valid = train_test_split(X, y, test_size=0.2, random_state=42, stratify=y)"
      ]
    },
    {
      "cell_type": "markdown",
      "source": [
        "### ✔️ XGBoost 모델 사용: ***65.4%***"
      ],
      "metadata": {
        "id": "0K-um3CE5UzQ"
      }
    },
    {
      "cell_type": "code",
      "source": [
        "import xgboost as xgb\n",
        "from sklearn.metrics import f1_score, accuracy_score, classification_report\n",
        "\n",
        "xgb_model = xgb.XGBClassifier(\n",
        "    n_estimators=300,\n",
        "    max_depth=6,\n",
        "    learning_rate=0.1,\n",
        "    subsample=0.8,\n",
        "    colsample_bytree=0.8,\n",
        "    random_state=42,\n",
        "    use_label_encoder=False,\n",
        "    eval_metric='logloss'\n",
        ")\n",
        "xgb_model.fit(X_train, y_train)\n",
        "y_pred_xgb = xgb_model.predict(X_valid)\n",
        "\n",
        "print(\"XGBoost Accuracy:\", accuracy_score(y_valid, y_pred_xgb))\n",
        "print(\"XGBoost F1 Score:\", f1_score(y_valid, y_pred_xgb))\n",
        "print(\"\\n Classification Report:\\n\")\n",
        "print(classification_report(y_valid, y_pred_xgb))\n"
      ],
      "metadata": {
        "colab": {
          "base_uri": "https://localhost:8080/"
        },
        "id": "OoN6tyMFVkz4",
        "outputId": "eff4d1ee-2c03-4cc9-fa30-7be5f1d8b04e"
      },
      "execution_count": 3,
      "outputs": [
        {
          "output_type": "stream",
          "name": "stderr",
          "text": [
            "/usr/local/lib/python3.11/dist-packages/xgboost/core.py:158: UserWarning: [08:11:14] WARNING: /workspace/src/learner.cc:740: \n",
            "Parameters: { \"use_label_encoder\" } are not used.\n",
            "\n",
            "  warnings.warn(smsg, UserWarning)\n"
          ]
        },
        {
          "output_type": "stream",
          "name": "stdout",
          "text": [
            "XGBoost Accuracy: 0.6547297297297298\n",
            "XGBoost F1 Score: 0.6496\n",
            "\n",
            " Classification Report:\n",
            "\n",
            "              precision    recall  f1-score   support\n",
            "\n",
            "           0       0.66      0.66      0.66      2239\n",
            "           1       0.65      0.65      0.65      2201\n",
            "\n",
            "    accuracy                           0.65      4440\n",
            "   macro avg       0.65      0.65      0.65      4440\n",
            "weighted avg       0.65      0.65      0.65      4440\n",
            "\n"
          ]
        }
      ]
    },
    {
      "cell_type": "markdown",
      "source": [
        "### 튜닝 시도 - RandomizedSearchCV : ***66.5%***"
      ],
      "metadata": {
        "id": "fU2oqfOpXBPq"
      }
    },
    {
      "cell_type": "code",
      "source": [
        "from sklearn.model_selection import RandomizedSearchCV\n",
        "from xgboost import XGBClassifier\n",
        "from sklearn.metrics import make_scorer, f1_score\n",
        "\n",
        "param_dist = {\n",
        "    'n_estimators': [100, 200, 300, 400],\n",
        "    'max_depth': [3, 5, 7, 9],\n",
        "    'learning_rate': [0.01, 0.05, 0.1, 0.2],\n",
        "    'subsample': [0.6, 0.8, 1.0],\n",
        "    'colsample_bytree': [0.6, 0.8, 1.0],\n",
        "    'gamma': [0, 0.1, 0.2, 0.5],\n",
        "    'min_child_weight': [1, 3, 5]\n",
        "}\n",
        "\n",
        "xgb_model = XGBClassifier(\n",
        "    eval_metric='logloss',\n",
        "    random_state= 42\n",
        ")\n",
        "\n",
        "scorer = make_scorer(f1_score)\n",
        "\n",
        "rs = RandomizedSearchCV(\n",
        "    xgb_model,\n",
        "    param_distributions=param_dist,\n",
        "    n_iter=30,\n",
        "    scoring=scorer,\n",
        "    cv=3,\n",
        "    verbose=1,\n",
        "    n_jobs=-1\n",
        ")\n",
        "\n",
        "rs.fit(X_train, y_train)\n",
        "\n",
        "best_model = rs.best_estimator_\n",
        "y_pred_best = best_model.predict(X_valid)"
      ],
      "metadata": {
        "colab": {
          "base_uri": "https://localhost:8080/"
        },
        "id": "p228l8KfW5bS",
        "outputId": "9fbce575-1793-4c9f-e837-1d600795409d"
      },
      "execution_count": 17,
      "outputs": [
        {
          "output_type": "stream",
          "name": "stdout",
          "text": [
            "Fitting 3 folds for each of 30 candidates, totalling 90 fits\n"
          ]
        }
      ]
    },
    {
      "cell_type": "code",
      "source": [
        "print(\"Tuned XGBoost Accuracy:\", accuracy_score(y_valid, y_pred_best))\n",
        "print(\"Tuned XGBoost F1 Score:\", f1_score(y_valid, y_pred_best))\n",
        "print(\"Best Params:\", rs.best_params_)"
      ],
      "metadata": {
        "colab": {
          "base_uri": "https://localhost:8080/"
        },
        "id": "55IkBDgVYoYC",
        "outputId": "e7451b6c-f9ea-4cf3-9811-c52ad0fbc195"
      },
      "execution_count": 19,
      "outputs": [
        {
          "output_type": "stream",
          "name": "stdout",
          "text": [
            "Tuned XGBoost Accuracy: 0.6648648648648648\n",
            "Tuned XGBoost F1 Score: 0.6635006784260515\n",
            "Best Params: {'subsample': 0.6, 'n_estimators': 300, 'min_child_weight': 5, 'max_depth': 9, 'learning_rate': 0.01, 'gamma': 0.2, 'colsample_bytree': 1.0}\n"
          ]
        }
      ]
    },
    {
      "cell_type": "markdown",
      "source": [
        "### ✔️ 더 정밀한 튜닝 - optuna: ***67.5%***\n"
      ],
      "metadata": {
        "id": "S1_XnhDNZAvO"
      }
    },
    {
      "cell_type": "code",
      "source": [
        "!pip install optuna\n"
      ],
      "metadata": {
        "colab": {
          "base_uri": "https://localhost:8080/"
        },
        "id": "7B8iOJUbZQcw",
        "outputId": "05b6de3d-db84-460d-8889-b1988b862a35",
        "collapsed": true
      },
      "execution_count": 7,
      "outputs": [
        {
          "output_type": "stream",
          "name": "stdout",
          "text": [
            "Collecting optuna\n",
            "  Downloading optuna-4.3.0-py3-none-any.whl.metadata (17 kB)\n",
            "Collecting alembic>=1.5.0 (from optuna)\n",
            "  Downloading alembic-1.15.2-py3-none-any.whl.metadata (7.3 kB)\n",
            "Collecting colorlog (from optuna)\n",
            "  Downloading colorlog-6.9.0-py3-none-any.whl.metadata (10 kB)\n",
            "Requirement already satisfied: numpy in /usr/local/lib/python3.11/dist-packages (from optuna) (2.0.2)\n",
            "Requirement already satisfied: packaging>=20.0 in /usr/local/lib/python3.11/dist-packages (from optuna) (24.2)\n",
            "Requirement already satisfied: sqlalchemy>=1.4.2 in /usr/local/lib/python3.11/dist-packages (from optuna) (2.0.40)\n",
            "Requirement already satisfied: tqdm in /usr/local/lib/python3.11/dist-packages (from optuna) (4.67.1)\n",
            "Requirement already satisfied: PyYAML in /usr/local/lib/python3.11/dist-packages (from optuna) (6.0.2)\n",
            "Requirement already satisfied: Mako in /usr/lib/python3/dist-packages (from alembic>=1.5.0->optuna) (1.1.3)\n",
            "Requirement already satisfied: typing-extensions>=4.12 in /usr/local/lib/python3.11/dist-packages (from alembic>=1.5.0->optuna) (4.13.2)\n",
            "Requirement already satisfied: greenlet>=1 in /usr/local/lib/python3.11/dist-packages (from sqlalchemy>=1.4.2->optuna) (3.2.1)\n",
            "Downloading optuna-4.3.0-py3-none-any.whl (386 kB)\n",
            "\u001b[2K   \u001b[90m━━━━━━━━━━━━━━━━━━━━━━━━━━━━━━━━━━━━━━━━\u001b[0m \u001b[32m386.6/386.6 kB\u001b[0m \u001b[31m6.7 MB/s\u001b[0m eta \u001b[36m0:00:00\u001b[0m\n",
            "\u001b[?25hDownloading alembic-1.15.2-py3-none-any.whl (231 kB)\n",
            "\u001b[2K   \u001b[90m━━━━━━━━━━━━━━━━━━━━━━━━━━━━━━━━━━━━━━━━\u001b[0m \u001b[32m231.9/231.9 kB\u001b[0m \u001b[31m23.9 MB/s\u001b[0m eta \u001b[36m0:00:00\u001b[0m\n",
            "\u001b[?25hDownloading colorlog-6.9.0-py3-none-any.whl (11 kB)\n",
            "Installing collected packages: colorlog, alembic, optuna\n",
            "Successfully installed alembic-1.15.2 colorlog-6.9.0 optuna-4.3.0\n"
          ]
        }
      ]
    },
    {
      "cell_type": "code",
      "source": [
        "import optuna\n",
        "from sklearn.metrics import accuracy_score\n",
        "from xgboost import XGBClassifier\n",
        "\n",
        "def objective(trial):\n",
        "    params = {\n",
        "        'n_estimators': trial.suggest_int('n_estimators', 100, 500),\n",
        "        'max_depth': trial.suggest_int('max_depth', 3, 10),\n",
        "        'learning_rate': trial.suggest_float('learning_rate', 0.01, 0.2),\n",
        "        'subsample': trial.suggest_float('subsample', 0.6, 1.0),\n",
        "        'colsample_bytree': trial.suggest_float('colsample_bytree', 0.6, 1.0),\n",
        "        'gamma': trial.suggest_float('gamma', 0.0, 0.5),\n",
        "        'min_child_weight': trial.suggest_int('min_child_weight', 1, 10),\n",
        "        'eval_metric': 'logloss',\n",
        "        'random_state': 42,\n",
        "    }\n",
        "\n",
        "    model = XGBClassifier(**params)\n",
        "    model.fit(X_train, y_train)\n",
        "    preds = model.predict(X_valid)\n",
        "    accuracy = accuracy_score(y_valid, preds)\n",
        "    return accuracy  # 정확도 기준 최적화\n",
        "\n",
        "# 최적화 시작\n",
        "study = optuna.create_study(direction=\"maximize\")\n",
        "study.optimize(objective, n_trials=300, show_progress_bar=True)\n"
      ],
      "metadata": {
        "colab": {
          "base_uri": "https://localhost:8080/",
          "height": 1000,
          "referenced_widgets": [
            "6df4cc858a254d83950f53bbed43a609",
            "f87f8f56db674cca9091248bc656f59d",
            "b544c0c992694d23b922b558352eb79f",
            "5c71a876456b4a76bf06069f9f78bfcb",
            "8fc817a482a948c8ab2dc9b424e382a0",
            "c0136432de0a4119ab8d3aa69ceea9b1",
            "8aa80335695043e490ff0ad9bcfe2081",
            "98adb2349ba544cea1bb4678eef5384f",
            "7b0d4e5f92ec4122b80acf6a5c8e60c8",
            "960d42847ede4b938face3475587462a",
            "2806cb67b94d48c1b07f5ede9357cd85"
          ]
        },
        "id": "Z2-Bg2EBZCWT",
        "outputId": "59076858-6147-4d62-8eee-94b6b4c2d8a9"
      },
      "execution_count": 9,
      "outputs": [
        {
          "output_type": "stream",
          "name": "stderr",
          "text": [
            "[I 2025-05-01 08:20:12,919] A new study created in memory with name: no-name-c0e8c1ab-f63e-4277-8845-85f8736d4843\n"
          ]
        },
        {
          "output_type": "display_data",
          "data": {
            "text/plain": [
              "  0%|          | 0/300 [00:00<?, ?it/s]"
            ],
            "application/vnd.jupyter.widget-view+json": {
              "version_major": 2,
              "version_minor": 0,
              "model_id": "6df4cc858a254d83950f53bbed43a609"
            }
          },
          "metadata": {}
        },
        {
          "output_type": "stream",
          "name": "stdout",
          "text": [
            "[I 2025-05-01 08:20:15,034] Trial 0 finished with value: 0.6563063063063063 and parameters: {'n_estimators': 305, 'max_depth': 5, 'learning_rate': 0.18823933509859692, 'subsample': 0.9314310109212454, 'colsample_bytree': 0.8622493970739233, 'gamma': 0.07155083909253562, 'min_child_weight': 7}. Best is trial 0 with value: 0.6563063063063063.\n",
            "[I 2025-05-01 08:20:19,176] Trial 1 finished with value: 0.6567567567567567 and parameters: {'n_estimators': 299, 'max_depth': 7, 'learning_rate': 0.06753628054965757, 'subsample': 0.7447086422232804, 'colsample_bytree': 0.801248187513038, 'gamma': 0.007536772167119954, 'min_child_weight': 3}. Best is trial 1 with value: 0.6567567567567567.\n",
            "[I 2025-05-01 08:20:20,678] Trial 2 finished with value: 0.6605855855855856 and parameters: {'n_estimators': 146, 'max_depth': 6, 'learning_rate': 0.05930306837947065, 'subsample': 0.8569939509464188, 'colsample_bytree': 0.6661359947392531, 'gamma': 0.26394752052225734, 'min_child_weight': 6}. Best is trial 2 with value: 0.6605855855855856.\n",
            "[I 2025-05-01 08:20:23,213] Trial 3 finished with value: 0.6641891891891892 and parameters: {'n_estimators': 139, 'max_depth': 3, 'learning_rate': 0.17202633399478912, 'subsample': 0.9267687730630078, 'colsample_bytree': 0.9347796630465154, 'gamma': 0.18867605575591262, 'min_child_weight': 1}. Best is trial 3 with value: 0.6641891891891892.\n",
            "[I 2025-05-01 08:20:26,597] Trial 4 finished with value: 0.6515765765765765 and parameters: {'n_estimators': 205, 'max_depth': 9, 'learning_rate': 0.12475586895953582, 'subsample': 0.8296840523757494, 'colsample_bytree': 0.6664461503233813, 'gamma': 0.1055706600153361, 'min_child_weight': 6}. Best is trial 3 with value: 0.6641891891891892.\n",
            "[I 2025-05-01 08:20:31,459] Trial 5 finished with value: 0.6673423423423424 and parameters: {'n_estimators': 455, 'max_depth': 6, 'learning_rate': 0.013726439394828685, 'subsample': 0.7741939679726147, 'colsample_bytree': 0.6559290488624231, 'gamma': 0.24184559005924794, 'min_child_weight': 6}. Best is trial 5 with value: 0.6673423423423424.\n",
            "[I 2025-05-01 08:20:35,238] Trial 6 finished with value: 0.6461711711711712 and parameters: {'n_estimators': 261, 'max_depth': 5, 'learning_rate': 0.13690489672486278, 'subsample': 0.8955927727521535, 'colsample_bytree': 0.6956089832861404, 'gamma': 0.11766741529837965, 'min_child_weight': 5}. Best is trial 5 with value: 0.6673423423423424.\n",
            "[I 2025-05-01 08:20:50,910] Trial 7 finished with value: 0.6466216216216216 and parameters: {'n_estimators': 392, 'max_depth': 7, 'learning_rate': 0.09683722261393826, 'subsample': 0.6438953058592546, 'colsample_bytree': 0.6908931837902449, 'gamma': 0.21260778420654514, 'min_child_weight': 1}. Best is trial 5 with value: 0.6673423423423424.\n",
            "[I 2025-05-01 08:20:56,613] Trial 8 finished with value: 0.645045045045045 and parameters: {'n_estimators': 362, 'max_depth': 4, 'learning_rate': 0.15245821651002683, 'subsample': 0.6903622356934458, 'colsample_bytree': 0.709440733107056, 'gamma': 0.24503257154259844, 'min_child_weight': 10}. Best is trial 5 with value: 0.6673423423423424.\n",
            "[I 2025-05-01 08:21:04,805] Trial 9 finished with value: 0.6585585585585586 and parameters: {'n_estimators': 476, 'max_depth': 7, 'learning_rate': 0.03331098900756709, 'subsample': 0.6117612964778355, 'colsample_bytree': 0.9474878226073359, 'gamma': 0.4831364500183002, 'min_child_weight': 6}. Best is trial 5 with value: 0.6673423423423424.\n",
            "[I 2025-05-01 08:21:19,870] Trial 10 finished with value: 0.6630630630630631 and parameters: {'n_estimators': 500, 'max_depth': 10, 'learning_rate': 0.01232173052227279, 'subsample': 0.7563812642408938, 'colsample_bytree': 0.6009585302959809, 'gamma': 0.3704511949071782, 'min_child_weight': 9}. Best is trial 5 with value: 0.6673423423423424.\n",
            "[I 2025-05-01 08:21:20,504] Trial 11 finished with value: 0.663963963963964 and parameters: {'n_estimators': 117, 'max_depth': 3, 'learning_rate': 0.17495315537870137, 'subsample': 0.9699093964288755, 'colsample_bytree': 0.9989561824254974, 'gamma': 0.3210794665658936, 'min_child_weight': 3}. Best is trial 5 with value: 0.6673423423423424.\n",
            "[I 2025-05-01 08:21:22,178] Trial 12 finished with value: 0.6637387387387388 and parameters: {'n_estimators': 405, 'max_depth': 3, 'learning_rate': 0.0972279925374622, 'subsample': 0.7827696636610209, 'colsample_bytree': 0.8775928140472522, 'gamma': 0.19395656040497897, 'min_child_weight': 1}. Best is trial 5 with value: 0.6673423423423424.\n",
            "[I 2025-05-01 08:21:27,544] Trial 13 finished with value: 0.6452702702702703 and parameters: {'n_estimators': 198, 'max_depth': 8, 'learning_rate': 0.16159545443108253, 'subsample': 0.974448863769091, 'colsample_bytree': 0.7996514620944646, 'gamma': 0.3971322837273537, 'min_child_weight': 4}. Best is trial 5 with value: 0.6673423423423424.\n",
            "[I 2025-05-01 08:21:30,930] Trial 14 finished with value: 0.6367117117117117 and parameters: {'n_estimators': 422, 'max_depth': 5, 'learning_rate': 0.19938978521484196, 'subsample': 0.8746857907679103, 'colsample_bytree': 0.783034271601702, 'gamma': 0.16628344657525926, 'min_child_weight': 3}. Best is trial 5 with value: 0.6673423423423424.\n",
            "[I 2025-05-01 08:21:36,518] Trial 15 finished with value: 0.6533783783783784 and parameters: {'n_estimators': 196, 'max_depth': 4, 'learning_rate': 0.11845500155663558, 'subsample': 0.6967134200657517, 'colsample_bytree': 0.9054954241775327, 'gamma': 0.3042641118389907, 'min_child_weight': 8}. Best is trial 5 with value: 0.6673423423423424.\n",
            "[I 2025-05-01 08:21:40,631] Trial 16 finished with value: 0.6691441441441441 and parameters: {'n_estimators': 101, 'max_depth': 6, 'learning_rate': 0.07113859014306005, 'subsample': 0.8139538224180651, 'colsample_bytree': 0.7542737661358557, 'gamma': 0.1553286780960234, 'min_child_weight': 4}. Best is trial 16 with value: 0.6691441441441441.\n",
            "[I 2025-05-01 08:21:43,722] Trial 17 finished with value: 0.6587837837837838 and parameters: {'n_estimators': 334, 'max_depth': 6, 'learning_rate': 0.06400037788888113, 'subsample': 0.8085851452763564, 'colsample_bytree': 0.744637785413046, 'gamma': 0.02670170449546727, 'min_child_weight': 4}. Best is trial 16 with value: 0.6691441441441441.\n",
            "[I 2025-05-01 08:21:49,674] Trial 18 finished with value: 0.6635135135135135 and parameters: {'n_estimators': 454, 'max_depth': 8, 'learning_rate': 0.014793332418551339, 'subsample': 0.7223505916781612, 'colsample_bytree': 0.6083753495412072, 'gamma': 0.13833014969465154, 'min_child_weight': 8}. Best is trial 16 with value: 0.6691441441441441.\n",
            "[I 2025-05-01 08:21:57,044] Trial 19 finished with value: 0.6635135135135135 and parameters: {'n_estimators': 245, 'max_depth': 6, 'learning_rate': 0.04386891265390397, 'subsample': 0.7990659407203937, 'colsample_bytree': 0.7460900566368681, 'gamma': 0.2737054976237715, 'min_child_weight': 5}. Best is trial 16 with value: 0.6691441441441441.\n",
            "[I 2025-05-01 08:22:01,352] Trial 20 finished with value: 0.6558558558558558 and parameters: {'n_estimators': 353, 'max_depth': 8, 'learning_rate': 0.08351100564212868, 'subsample': 0.8512412885647128, 'colsample_bytree': 0.640870159208045, 'gamma': 0.0712038892709892, 'min_child_weight': 7}. Best is trial 16 with value: 0.6691441441441441.\n",
            "[I 2025-05-01 08:22:02,520] Trial 21 finished with value: 0.6632882882882883 and parameters: {'n_estimators': 110, 'max_depth': 4, 'learning_rate': 0.04460467288861842, 'subsample': 0.9275253780952935, 'colsample_bytree': 0.8335018451438481, 'gamma': 0.19327316746495465, 'min_child_weight': 2}. Best is trial 16 with value: 0.6691441441441441.\n",
            "[I 2025-05-01 08:22:08,306] Trial 22 finished with value: 0.6614864864864864 and parameters: {'n_estimators': 155, 'max_depth': 5, 'learning_rate': 0.08035254835885158, 'subsample': 0.9068196594473549, 'colsample_bytree': 0.9367713217644975, 'gamma': 0.22339832046760805, 'min_child_weight': 2}. Best is trial 16 with value: 0.6691441441441441.\n",
            "[I 2025-05-01 08:22:08,882] Trial 23 finished with value: 0.6567567567567567 and parameters: {'n_estimators': 100, 'max_depth': 3, 'learning_rate': 0.024948773900004793, 'subsample': 0.7810667865801371, 'colsample_bytree': 0.7428019382312314, 'gamma': 0.15801517774377366, 'min_child_weight': 4}. Best is trial 16 with value: 0.6691441441441441.\n",
            "[I 2025-05-01 08:22:18,110] Trial 24 finished with value: 0.6493243243243243 and parameters: {'n_estimators': 156, 'max_depth': 10, 'learning_rate': 0.11059446403692458, 'subsample': 0.9984803000737615, 'colsample_bytree': 0.971660643947699, 'gamma': 0.29393221561266547, 'min_child_weight': 2}. Best is trial 16 with value: 0.6691441441441441.\n",
            "[I 2025-05-01 08:22:22,265] Trial 25 finished with value: 0.6378378378378379 and parameters: {'n_estimators': 254, 'max_depth': 6, 'learning_rate': 0.1373802366836726, 'subsample': 0.8224250284084452, 'colsample_bytree': 0.840446016006319, 'gamma': 0.3447009779918643, 'min_child_weight': 5}. Best is trial 16 with value: 0.6691441441441441.\n",
            "[I 2025-05-01 08:22:23,815] Trial 26 finished with value: 0.6702702702702703 and parameters: {'n_estimators': 144, 'max_depth': 4, 'learning_rate': 0.07822267494992144, 'subsample': 0.7600668215520364, 'colsample_bytree': 0.7711484202828233, 'gamma': 0.17422403750180737, 'min_child_weight': 7}. Best is trial 26 with value: 0.6702702702702703.\n",
            "[I 2025-05-01 08:22:24,876] Trial 27 finished with value: 0.6648648648648648 and parameters: {'n_estimators': 181, 'max_depth': 4, 'learning_rate': 0.07630076495519206, 'subsample': 0.731425391277994, 'colsample_bytree': 0.7729386806692642, 'gamma': 0.09077834463706376, 'min_child_weight': 8}. Best is trial 26 with value: 0.6702702702702703.\n",
            "[I 2025-05-01 08:22:26,495] Trial 28 finished with value: 0.6594594594594595 and parameters: {'n_estimators': 228, 'max_depth': 5, 'learning_rate': 0.05430639436052086, 'subsample': 0.7698261377516292, 'colsample_bytree': 0.7276639112333874, 'gamma': 0.22974138854016163, 'min_child_weight': 7}. Best is trial 26 with value: 0.6702702702702703.\n",
            "[I 2025-05-01 08:22:31,824] Trial 29 finished with value: 0.6542792792792793 and parameters: {'n_estimators': 295, 'max_depth': 7, 'learning_rate': 0.09247428620922431, 'subsample': 0.6756652415550793, 'colsample_bytree': 0.649911158630386, 'gamma': 0.14055275720992974, 'min_child_weight': 7}. Best is trial 26 with value: 0.6702702702702703.\n",
            "[I 2025-05-01 08:22:36,469] Trial 30 finished with value: 0.6621621621621622 and parameters: {'n_estimators': 277, 'max_depth': 6, 'learning_rate': 0.035710740353852174, 'subsample': 0.7088041442813477, 'colsample_bytree': 0.8310563895348145, 'gamma': 0.07363142809950193, 'min_child_weight': 9}. Best is trial 26 with value: 0.6702702702702703.\n",
            "[I 2025-05-01 08:22:37,520] Trial 31 finished with value: 0.6648648648648648 and parameters: {'n_estimators': 175, 'max_depth': 4, 'learning_rate': 0.07785803506993491, 'subsample': 0.7359593909142026, 'colsample_bytree': 0.7660001837104751, 'gamma': 0.06104203864623968, 'min_child_weight': 8}. Best is trial 26 with value: 0.6702702702702703.\n",
            "[I 2025-05-01 08:22:38,317] Trial 32 finished with value: 0.6664414414414415 and parameters: {'n_estimators': 127, 'max_depth': 4, 'learning_rate': 0.07222638883370795, 'subsample': 0.7476999691721851, 'colsample_bytree': 0.7795961717102764, 'gamma': 0.10791889508800068, 'min_child_weight': 9}. Best is trial 26 with value: 0.6702702702702703.\n",
            "[I 2025-05-01 08:22:39,358] Trial 33 finished with value: 0.6641891891891892 and parameters: {'n_estimators': 127, 'max_depth': 5, 'learning_rate': 0.06831841526777885, 'subsample': 0.7674561393849592, 'colsample_bytree': 0.7952888921421247, 'gamma': 0.03334409840023178, 'min_child_weight': 10}. Best is trial 26 with value: 0.6702702702702703.\n",
            "[I 2025-05-01 08:22:40,280] Trial 34 finished with value: 0.6655405405405406 and parameters: {'n_estimators': 141, 'max_depth': 4, 'learning_rate': 0.05198959561911584, 'subsample': 0.836689209318105, 'colsample_bytree': 0.8147372594993125, 'gamma': 0.16496505219936664, 'min_child_weight': 6}. Best is trial 26 with value: 0.6702702702702703.\n",
            "[I 2025-05-01 08:22:44,570] Trial 35 finished with value: 0.652027027027027 and parameters: {'n_estimators': 219, 'max_depth': 7, 'learning_rate': 0.10764848920955353, 'subsample': 0.7978526810544315, 'colsample_bytree': 0.7179481079087869, 'gamma': 0.11848156968930622, 'min_child_weight': 9}. Best is trial 26 with value: 0.6702702702702703.\n",
            "[I 2025-05-01 08:22:46,315] Trial 36 finished with value: 0.656981981981982 and parameters: {'n_estimators': 163, 'max_depth': 6, 'learning_rate': 0.06664094221633801, 'subsample': 0.6656941686888453, 'colsample_bytree': 0.8632515324205382, 'gamma': 0.2673303096542142, 'min_child_weight': 6}. Best is trial 26 with value: 0.6702702702702703.\n",
            "[I 2025-05-01 08:22:47,204] Trial 37 finished with value: 0.6648648648648648 and parameters: {'n_estimators': 100, 'max_depth': 5, 'learning_rate': 0.09103849813011942, 'subsample': 0.7414964733859502, 'colsample_bytree': 0.6875190266121947, 'gamma': 0.12715609843175296, 'min_child_weight': 7}. Best is trial 26 with value: 0.6702702702702703.\n",
            "[I 2025-05-01 08:22:50,550] Trial 38 finished with value: 0.6657657657657657 and parameters: {'n_estimators': 130, 'max_depth': 9, 'learning_rate': 0.020888016724046513, 'subsample': 0.8782777456980349, 'colsample_bytree': 0.6750320206885361, 'gamma': 0.19319697216934742, 'min_child_weight': 5}. Best is trial 26 with value: 0.6702702702702703.\n",
            "[I 2025-05-01 08:22:53,424] Trial 39 finished with value: 0.645045045045045 and parameters: {'n_estimators': 445, 'max_depth': 5, 'learning_rate': 0.1299612173021546, 'subsample': 0.7545174525366041, 'colsample_bytree': 0.763314600063723, 'gamma': 0.25017669233821743, 'min_child_weight': 10}. Best is trial 26 with value: 0.6702702702702703.\n",
            "[I 2025-05-01 08:22:55,565] Trial 40 finished with value: 0.6673423423423424 and parameters: {'n_estimators': 314, 'max_depth': 3, 'learning_rate': 0.03347503354177545, 'subsample': 0.8217124599717369, 'colsample_bytree': 0.6333048893549156, 'gamma': 0.10453957243411977, 'min_child_weight': 4}. Best is trial 26 with value: 0.6702702702702703.\n",
            "[I 2025-05-01 08:22:57,866] Trial 41 finished with value: 0.6684684684684684 and parameters: {'n_estimators': 308, 'max_depth': 3, 'learning_rate': 0.02901318787183877, 'subsample': 0.8203711758472911, 'colsample_bytree': 0.6311144344639036, 'gamma': 0.10895686235891869, 'min_child_weight': 4}. Best is trial 26 with value: 0.6702702702702703.\n",
            "[I 2025-05-01 08:22:59,098] Trial 42 finished with value: 0.6704954954954955 and parameters: {'n_estimators': 305, 'max_depth': 3, 'learning_rate': 0.03189617963192665, 'subsample': 0.8520820437309417, 'colsample_bytree': 0.6377109685562086, 'gamma': 0.15907275644927726, 'min_child_weight': 4}. Best is trial 42 with value: 0.6704954954954955.\n",
            "[I 2025-05-01 08:23:00,593] Trial 43 finished with value: 0.6718468468468468 and parameters: {'n_estimators': 370, 'max_depth': 3, 'learning_rate': 0.02311112258880342, 'subsample': 0.8500049154840921, 'colsample_bytree': 0.6237998911314991, 'gamma': 0.16048622053465764, 'min_child_weight': 3}. Best is trial 43 with value: 0.6718468468468468.\n",
            "[I 2025-05-01 08:23:02,057] Trial 44 finished with value: 0.6704954954954955 and parameters: {'n_estimators': 373, 'max_depth': 3, 'learning_rate': 0.025577273692337886, 'subsample': 0.857484656437155, 'colsample_bytree': 0.6298115882428842, 'gamma': 0.15713016618164383, 'min_child_weight': 3}. Best is trial 43 with value: 0.6718468468468468.\n",
            "[I 2025-05-01 08:23:03,491] Trial 45 finished with value: 0.6684684684684684 and parameters: {'n_estimators': 374, 'max_depth': 3, 'learning_rate': 0.04183773581039346, 'subsample': 0.8562549808386144, 'colsample_bytree': 0.6125631367284479, 'gamma': 0.1694450357281981, 'min_child_weight': 3}. Best is trial 43 with value: 0.6718468468468468.\n",
            "[I 2025-05-01 08:23:04,886] Trial 46 finished with value: 0.668018018018018 and parameters: {'n_estimators': 333, 'max_depth': 3, 'learning_rate': 0.05717931840877171, 'subsample': 0.8984160113822842, 'colsample_bytree': 0.666509912096284, 'gamma': 0.21388330443621958, 'min_child_weight': 3}. Best is trial 43 with value: 0.6718468468468468.\n",
            "[I 2025-05-01 08:23:06,455] Trial 47 finished with value: 0.665990990990991 and parameters: {'n_estimators': 388, 'max_depth': 3, 'learning_rate': 0.010804478853961207, 'subsample': 0.8767550393726329, 'colsample_bytree': 0.700226264498831, 'gamma': 0.1482555999121252, 'min_child_weight': 3}. Best is trial 43 with value: 0.6718468468468468.\n",
            "[I 2025-05-01 08:23:10,617] Trial 48 finished with value: 0.6668918918918919 and parameters: {'n_estimators': 418, 'max_depth': 4, 'learning_rate': 0.02122430308366567, 'subsample': 0.8474197044458179, 'colsample_bytree': 0.6228224837046411, 'gamma': 0.18079548037887067, 'min_child_weight': 2}. Best is trial 43 with value: 0.6718468468468468.\n",
            "[I 2025-05-01 08:23:11,936] Trial 49 finished with value: 0.6657657657657657 and parameters: {'n_estimators': 342, 'max_depth': 3, 'learning_rate': 0.05112800228930214, 'subsample': 0.9082803498138033, 'colsample_bytree': 0.6558634537332841, 'gamma': 0.20478189625348553, 'min_child_weight': 4}. Best is trial 43 with value: 0.6718468468468468.\n",
            "[I 2025-05-01 08:23:13,832] Trial 50 finished with value: 0.6626126126126126 and parameters: {'n_estimators': 374, 'max_depth': 4, 'learning_rate': 0.03996110641637107, 'subsample': 0.8698732840477403, 'colsample_bytree': 0.6708044277873167, 'gamma': 0.45215602094995766, 'min_child_weight': 3}. Best is trial 43 with value: 0.6718468468468468.\n",
            "[I 2025-05-01 08:23:15,099] Trial 51 finished with value: 0.6684684684684684 and parameters: {'n_estimators': 311, 'max_depth': 3, 'learning_rate': 0.02817978945090377, 'subsample': 0.8349053473014836, 'colsample_bytree': 0.6315853733721383, 'gamma': 0.08713450302304943, 'min_child_weight': 4}. Best is trial 43 with value: 0.6718468468468468.\n",
            "[I 2025-05-01 08:23:16,251] Trial 52 finished with value: 0.670045045045045 and parameters: {'n_estimators': 284, 'max_depth': 3, 'learning_rate': 0.029872215015616595, 'subsample': 0.8069209825356567, 'colsample_bytree': 0.6235558138359102, 'gamma': 0.13055944142645937, 'min_child_weight': 5}. Best is trial 43 with value: 0.6718468468468468.\n",
            "[I 2025-05-01 08:23:17,383] Trial 53 finished with value: 0.668018018018018 and parameters: {'n_estimators': 278, 'max_depth': 3, 'learning_rate': 0.04647969193710885, 'subsample': 0.8061371391743584, 'colsample_bytree': 0.6015660008371286, 'gamma': 0.1341565240512811, 'min_child_weight': 5}. Best is trial 43 with value: 0.6718468468468468.\n",
            "[I 2025-05-01 08:23:18,912] Trial 54 finished with value: 0.6596846846846847 and parameters: {'n_estimators': 408, 'max_depth': 3, 'learning_rate': 0.061365091186586604, 'subsample': 0.7877084920479561, 'colsample_bytree': 0.6195750092826365, 'gamma': 0.17627133711449428, 'min_child_weight': 5}. Best is trial 43 with value: 0.6718468468468468.\n",
            "[I 2025-05-01 08:23:24,991] Trial 55 finished with value: 0.6657657657657657 and parameters: {'n_estimators': 441, 'max_depth': 4, 'learning_rate': 0.018954066752500734, 'subsample': 0.8399763234168498, 'colsample_bytree': 0.6463044416292367, 'gamma': 0.13832055200124915, 'min_child_weight': 6}. Best is trial 43 with value: 0.6718468468468468.\n",
            "[I 2025-05-01 08:23:30,095] Trial 56 finished with value: 0.6725225225225225 and parameters: {'n_estimators': 356, 'max_depth': 3, 'learning_rate': 0.03297920524058633, 'subsample': 0.8873515452314084, 'colsample_bytree': 0.6772445436934422, 'gamma': 0.04560758289125605, 'min_child_weight': 2}. Best is trial 56 with value: 0.6725225225225225.\n",
            "[I 2025-05-01 08:23:35,175] Trial 57 finished with value: 0.670045045045045 and parameters: {'n_estimators': 363, 'max_depth': 3, 'learning_rate': 0.032927877728987295, 'subsample': 0.9496925097539, 'colsample_bytree': 0.6894594199190375, 'gamma': 0.016608960570679357, 'min_child_weight': 1}. Best is trial 56 with value: 0.6725225225225225.\n",
            "[I 2025-05-01 08:23:36,735] Trial 58 finished with value: 0.6641891891891892 and parameters: {'n_estimators': 328, 'max_depth': 3, 'learning_rate': 0.010190493042666438, 'subsample': 0.8862579346307362, 'colsample_bytree': 0.6608653477192218, 'gamma': 0.06195268789742739, 'min_child_weight': 2}. Best is trial 56 with value: 0.6725225225225225.\n",
            "[I 2025-05-01 08:23:38,084] Trial 59 finished with value: 0.6693693693693694 and parameters: {'n_estimators': 352, 'max_depth': 3, 'learning_rate': 0.026075365039155564, 'subsample': 0.9218784878084761, 'colsample_bytree': 0.6001033751037621, 'gamma': 0.0412661993967241, 'min_child_weight': 1}. Best is trial 56 with value: 0.6725225225225225.\n",
            "[I 2025-05-01 08:23:40,010] Trial 60 finished with value: 0.6646396396396397 and parameters: {'n_estimators': 388, 'max_depth': 4, 'learning_rate': 0.03815530997334453, 'subsample': 0.8632205658870219, 'colsample_bytree': 0.6417653996202385, 'gamma': 0.051439270357008196, 'min_child_weight': 3}. Best is trial 56 with value: 0.6725225225225225.\n",
            "[I 2025-05-01 08:23:41,453] Trial 61 finished with value: 0.6716216216216216 and parameters: {'n_estimators': 370, 'max_depth': 3, 'learning_rate': 0.032149778742884154, 'subsample': 0.9456077483512091, 'colsample_bytree': 0.688295076134053, 'gamma': 0.012043501481573276, 'min_child_weight': 1}. Best is trial 56 with value: 0.6725225225225225.\n",
            "[I 2025-05-01 08:23:42,930] Trial 62 finished with value: 0.6675675675675675 and parameters: {'n_estimators': 374, 'max_depth': 3, 'learning_rate': 0.017492792854622144, 'subsample': 0.937460177999879, 'colsample_bytree': 0.6840294710505306, 'gamma': 0.008467629989293922, 'min_child_weight': 1}. Best is trial 56 with value: 0.6725225225225225.\n",
            "[I 2025-05-01 08:23:44,427] Trial 63 finished with value: 0.6648648648648648 and parameters: {'n_estimators': 294, 'max_depth': 4, 'learning_rate': 0.049077048613721516, 'subsample': 0.9604543512782873, 'colsample_bytree': 0.619767528399795, 'gamma': 0.08699389064520752, 'min_child_weight': 2}. Best is trial 56 with value: 0.6725225225225225.\n",
            "[I 2025-05-01 08:23:47,460] Trial 64 finished with value: 0.668918918918919 and parameters: {'n_estimators': 400, 'max_depth': 3, 'learning_rate': 0.03055749842843616, 'subsample': 0.8903337535639546, 'colsample_bytree': 0.7037816795209192, 'gamma': 0.019518248787581738, 'min_child_weight': 2}. Best is trial 56 with value: 0.6725225225225225.\n",
            "[I 2025-05-01 08:23:49,187] Trial 65 finished with value: 0.6671171171171171 and parameters: {'n_estimators': 324, 'max_depth': 3, 'learning_rate': 0.04133723068723002, 'subsample': 0.9169487123492643, 'colsample_bytree': 0.7188178351588247, 'gamma': 0.15402599532523822, 'min_child_weight': 1}. Best is trial 56 with value: 0.6725225225225225.\n",
            "[I 2025-05-01 08:23:51,041] Trial 66 finished with value: 0.668018018018018 and parameters: {'n_estimators': 355, 'max_depth': 4, 'learning_rate': 0.02630010680677057, 'subsample': 0.9852574852149123, 'colsample_bytree': 0.6762385485979857, 'gamma': 0.23502280253299468, 'min_child_weight': 3}. Best is trial 56 with value: 0.6725225225225225.\n",
            "[I 2025-05-01 08:23:52,730] Trial 67 finished with value: 0.6707207207207208 and parameters: {'n_estimators': 427, 'max_depth': 3, 'learning_rate': 0.019081117723584194, 'subsample': 0.8473830034474297, 'colsample_bytree': 0.654798656911725, 'gamma': 0.00010195036816499498, 'min_child_weight': 2}. Best is trial 56 with value: 0.6725225225225225.\n",
            "[I 2025-05-01 08:23:54,615] Trial 68 finished with value: 0.6698198198198199 and parameters: {'n_estimators': 481, 'max_depth': 3, 'learning_rate': 0.01616788558563022, 'subsample': 0.8522250245860934, 'colsample_bytree': 0.6506702156437718, 'gamma': 0.024964938559295744, 'min_child_weight': 2}. Best is trial 56 with value: 0.6725225225225225.\n",
            "[I 2025-05-01 08:23:56,937] Trial 69 finished with value: 0.6664414414414415 and parameters: {'n_estimators': 428, 'max_depth': 4, 'learning_rate': 0.023128199954778664, 'subsample': 0.9383240229689832, 'colsample_bytree': 0.7334373482964445, 'gamma': 0.0010478201015639338, 'min_child_weight': 1}. Best is trial 56 with value: 0.6725225225225225.\n",
            "[I 2025-05-01 08:23:58,510] Trial 70 finished with value: 0.6668918918918919 and parameters: {'n_estimators': 343, 'max_depth': 3, 'learning_rate': 0.03751616517673716, 'subsample': 0.9061261765421542, 'colsample_bytree': 0.6628703417008704, 'gamma': 0.044558162362856105, 'min_child_weight': 2}. Best is trial 56 with value: 0.6725225225225225.\n",
            "[I 2025-05-01 08:24:01,434] Trial 71 finished with value: 0.6671171171171171 and parameters: {'n_estimators': 282, 'max_depth': 3, 'learning_rate': 0.015819148093786466, 'subsample': 0.8622667132609578, 'colsample_bytree': 0.6355522299968513, 'gamma': 0.0780181002598184, 'min_child_weight': 3}. Best is trial 56 with value: 0.6725225225225225.\n",
            "[I 2025-05-01 08:24:02,970] Trial 72 finished with value: 0.6691441441441441 and parameters: {'n_estimators': 399, 'max_depth': 3, 'learning_rate': 0.034122113247672954, 'subsample': 0.8422461518073895, 'colsample_bytree': 0.6150401648833337, 'gamma': 0.053078260492830216, 'min_child_weight': 2}. Best is trial 56 with value: 0.6725225225225225.\n",
            "[I 2025-05-01 08:24:04,085] Trial 73 finished with value: 0.6713963963963964 and parameters: {'n_estimators': 257, 'max_depth': 3, 'learning_rate': 0.045814967592674415, 'subsample': 0.7854055439869692, 'colsample_bytree': 0.6528806238974642, 'gamma': 0.0009311114353925069, 'min_child_weight': 4}. Best is trial 56 with value: 0.6725225225225225.\n",
            "[I 2025-05-01 08:24:05,469] Trial 74 finished with value: 0.6623873873873873 and parameters: {'n_estimators': 262, 'max_depth': 4, 'learning_rate': 0.05719496798988541, 'subsample': 0.8291360533109564, 'colsample_bytree': 0.6546812453732337, 'gamma': 0.0018170001833087146, 'min_child_weight': 3}. Best is trial 56 with value: 0.6725225225225225.\n",
            "[I 2025-05-01 08:24:06,500] Trial 75 finished with value: 0.6673423423423424 and parameters: {'n_estimators': 237, 'max_depth': 3, 'learning_rate': 0.02370788166814855, 'subsample': 0.7860246908325708, 'colsample_bytree': 0.7119344384348395, 'gamma': 0.03660326874450931, 'min_child_weight': 4}. Best is trial 56 with value: 0.6725225225225225.\n",
            "[I 2025-05-01 08:24:08,826] Trial 76 finished with value: 0.6635135135135135 and parameters: {'n_estimators': 472, 'max_depth': 4, 'learning_rate': 0.04639646195154261, 'subsample': 0.7650541659503795, 'colsample_bytree': 0.6784456164246885, 'gamma': 0.015567505860320041, 'min_child_weight': 3}. Best is trial 56 with value: 0.6725225225225225.\n",
            "[I 2025-05-01 08:24:10,328] Trial 77 finished with value: 0.6671171171171171 and parameters: {'n_estimators': 383, 'max_depth': 3, 'learning_rate': 0.03508283138348276, 'subsample': 0.7981012578210814, 'colsample_bytree': 0.6954677965471808, 'gamma': 0.031588517936527706, 'min_child_weight': 2}. Best is trial 56 with value: 0.6725225225225225.\n",
            "[I 2025-05-01 08:24:14,432] Trial 78 finished with value: 0.6650900900900901 and parameters: {'n_estimators': 365, 'max_depth': 4, 'learning_rate': 0.045411420305200546, 'subsample': 0.8686815474561197, 'colsample_bytree': 0.6435631909344312, 'gamma': 0.20609796822311593, 'min_child_weight': 1}. Best is trial 56 with value: 0.6725225225225225.\n",
            "[I 2025-05-01 08:24:17,982] Trial 79 finished with value: 0.6725225225225225 and parameters: {'n_estimators': 209, 'max_depth': 3, 'learning_rate': 0.08615778306474366, 'subsample': 0.8849336915743956, 'colsample_bytree': 0.8899733227667314, 'gamma': 0.25249838468723496, 'min_child_weight': 4}. Best is trial 56 with value: 0.6725225225225225.\n",
            "[I 2025-05-01 08:24:18,968] Trial 80 finished with value: 0.6704954954954955 and parameters: {'n_estimators': 206, 'max_depth': 3, 'learning_rate': 0.15693747888316992, 'subsample': 0.8814141842830131, 'colsample_bytree': 0.9111957269847054, 'gamma': 0.2880696386333528, 'min_child_weight': 4}. Best is trial 56 with value: 0.6725225225225225.\n",
            "[I 2025-05-01 08:24:21,665] Trial 81 finished with value: 0.6596846846846847 and parameters: {'n_estimators': 213, 'max_depth': 3, 'learning_rate': 0.1725098913841903, 'subsample': 0.8846361604821296, 'colsample_bytree': 0.877505402763123, 'gamma': 0.29827642656139, 'min_child_weight': 4}. Best is trial 56 with value: 0.6725225225225225.\n",
            "[I 2025-05-01 08:24:23,933] Trial 82 finished with value: 0.6657657657657657 and parameters: {'n_estimators': 202, 'max_depth': 3, 'learning_rate': 0.11663224247816968, 'subsample': 0.8992801016641802, 'colsample_bytree': 0.8658953489675881, 'gamma': 0.2800442549775346, 'min_child_weight': 4}. Best is trial 56 with value: 0.6725225225225225.\n",
            "[I 2025-05-01 08:24:26,673] Trial 83 finished with value: 0.6563063063063063 and parameters: {'n_estimators': 187, 'max_depth': 3, 'learning_rate': 0.18574532802832175, 'subsample': 0.8550426309346515, 'colsample_bytree': 0.8979974481149685, 'gamma': 0.3418933315409002, 'min_child_weight': 4}. Best is trial 56 with value: 0.6725225225225225.\n",
            "[I 2025-05-01 08:24:27,788] Trial 84 finished with value: 0.6587837837837838 and parameters: {'n_estimators': 253, 'max_depth': 3, 'learning_rate': 0.14284729442705707, 'subsample': 0.8834391474863622, 'colsample_bytree': 0.9716791956697244, 'gamma': 0.25354167216051615, 'min_child_weight': 4}. Best is trial 56 with value: 0.6725225225225225.\n",
            "[I 2025-05-01 08:24:28,782] Trial 85 finished with value: 0.6578828828828829 and parameters: {'n_estimators': 219, 'max_depth': 3, 'learning_rate': 0.18041146924342644, 'subsample': 0.8289123518357338, 'colsample_bytree': 0.9247005463242854, 'gamma': 0.2852105505864066, 'min_child_weight': 3}. Best is trial 56 with value: 0.6725225225225225.\n",
            "[I 2025-05-01 08:24:29,929] Trial 86 finished with value: 0.659009009009009 and parameters: {'n_estimators': 267, 'max_depth': 3, 'learning_rate': 0.16146836626021188, 'subsample': 0.9131268550787948, 'colsample_bytree': 0.898878219618831, 'gamma': 0.31858170014030857, 'min_child_weight': 3}. Best is trial 56 with value: 0.6725225225225225.\n",
            "[I 2025-05-01 08:24:33,023] Trial 87 finished with value: 0.647972972972973 and parameters: {'n_estimators': 170, 'max_depth': 9, 'learning_rate': 0.09697757046521532, 'subsample': 0.6074357182936525, 'colsample_bytree': 0.6264468091074133, 'gamma': 0.2408222115240316, 'min_child_weight': 4}. Best is trial 56 with value: 0.6725225225225225.\n",
            "[I 2025-05-01 08:24:34,848] Trial 88 finished with value: 0.6637387387387388 and parameters: {'n_estimators': 320, 'max_depth': 4, 'learning_rate': 0.08491506822513295, 'subsample': 0.8947151001834438, 'colsample_bytree': 0.9371229492041387, 'gamma': 0.22115475951013022, 'min_child_weight': 5}. Best is trial 56 with value: 0.6725225225225225.\n",
            "[I 2025-05-01 08:24:35,942] Trial 89 finished with value: 0.6560810810810811 and parameters: {'n_estimators': 241, 'max_depth': 3, 'learning_rate': 0.15418501111288066, 'subsample': 0.8137178279185868, 'colsample_bytree': 0.911344635840116, 'gamma': 0.30995088482219924, 'min_child_weight': 2}. Best is trial 56 with value: 0.6725225225225225.\n",
            "[I 2025-05-01 08:24:39,423] Trial 90 finished with value: 0.665990990990991 and parameters: {'n_estimators': 341, 'max_depth': 3, 'learning_rate': 0.013561687040675185, 'subsample': 0.8747462236376442, 'colsample_bytree': 0.9697986656908265, 'gamma': 0.06409297437956685, 'min_child_weight': 3}. Best is trial 56 with value: 0.6725225225225225.\n",
            "[I 2025-05-01 08:24:40,615] Trial 91 finished with value: 0.6662162162162162 and parameters: {'n_estimators': 301, 'max_depth': 3, 'learning_rate': 0.10528079605967766, 'subsample': 0.8438648788095391, 'colsample_bytree': 0.664559836302157, 'gamma': 0.25689022426026925, 'min_child_weight': 5}. Best is trial 56 with value: 0.6725225225225225.\n",
            "[I 2025-05-01 08:24:42,247] Trial 92 finished with value: 0.6504504504504505 and parameters: {'n_estimators': 418, 'max_depth': 3, 'learning_rate': 0.19435442645213077, 'subsample': 0.8636142139512648, 'colsample_bytree': 0.8191615036847372, 'gamma': 0.17797478137058295, 'min_child_weight': 4}. Best is trial 56 with value: 0.6725225225225225.\n",
            "[I 2025-05-01 08:24:43,172] Trial 93 finished with value: 0.6675675675675675 and parameters: {'n_estimators': 156, 'max_depth': 4, 'learning_rate': 0.09166046987272179, 'subsample': 0.7765730739137507, 'colsample_bytree': 0.6104708916123005, 'gamma': 0.01246327960605819, 'min_child_weight': 3}. Best is trial 56 with value: 0.6725225225225225.\n",
            "[I 2025-05-01 08:24:44,186] Trial 94 finished with value: 0.6632882882882883 and parameters: {'n_estimators': 230, 'max_depth': 3, 'learning_rate': 0.08630923899607734, 'subsample': 0.7214733030586495, 'colsample_bytree': 0.7891002825151654, 'gamma': 0.11932603966454815, 'min_child_weight': 2}. Best is trial 56 with value: 0.6725225225225225.\n",
            "[I 2025-05-01 08:24:44,848] Trial 95 finished with value: 0.6695945945945946 and parameters: {'n_estimators': 113, 'max_depth': 3, 'learning_rate': 0.07419728746951476, 'subsample': 0.7584138183006445, 'colsample_bytree': 0.8533273816279289, 'gamma': 0.26464276737382536, 'min_child_weight': 7}. Best is trial 56 with value: 0.6725225225225225.\n",
            "[I 2025-05-01 08:24:45,873] Trial 96 finished with value: 0.6635135135135135 and parameters: {'n_estimators': 188, 'max_depth': 4, 'learning_rate': 0.10138389139117414, 'subsample': 0.8725510928753131, 'colsample_bytree': 0.63600263841257, 'gamma': 0.16502163639337009, 'min_child_weight': 6}. Best is trial 56 with value: 0.6725225225225225.\n",
            "[I 2025-05-01 08:24:47,353] Trial 97 finished with value: 0.6653153153153153 and parameters: {'n_estimators': 375, 'max_depth': 3, 'learning_rate': 0.019006692697191102, 'subsample': 0.8194074495390966, 'colsample_bytree': 0.6559845266556159, 'gamma': 0.09790456487980395, 'min_child_weight': 1}. Best is trial 56 with value: 0.6725225225225225.\n",
            "[I 2025-05-01 08:24:48,925] Trial 98 finished with value: 0.6632882882882883 and parameters: {'n_estimators': 381, 'max_depth': 3, 'learning_rate': 0.062084538504052045, 'subsample': 0.6283777546362288, 'colsample_bytree': 0.8878588013356019, 'gamma': 0.19650287800679125, 'min_child_weight': 4}. Best is trial 56 with value: 0.6725225225225225.\n",
            "[I 2025-05-01 08:24:52,926] Trial 99 finished with value: 0.6646396396396397 and parameters: {'n_estimators': 411, 'max_depth': 4, 'learning_rate': 0.030358105093201596, 'subsample': 0.9307150806070346, 'colsample_bytree': 0.6825956487015943, 'gamma': 0.029670923146078727, 'min_child_weight': 5}. Best is trial 56 with value: 0.6725225225225225.\n",
            "[I 2025-05-01 08:24:54,727] Trial 100 finished with value: 0.6686936936936937 and parameters: {'n_estimators': 435, 'max_depth': 3, 'learning_rate': 0.024201198528017595, 'subsample': 0.8507333092036163, 'colsample_bytree': 0.9197394800249141, 'gamma': 0.33464313621371466, 'min_child_weight': 3}. Best is trial 56 with value: 0.6725225225225225.\n",
            "[I 2025-05-01 08:24:55,963] Trial 101 finished with value: 0.6677927927927928 and parameters: {'n_estimators': 295, 'max_depth': 3, 'learning_rate': 0.03048133791008087, 'subsample': 0.7926968298799083, 'colsample_bytree': 0.626795621985956, 'gamma': 0.15608931551817104, 'min_child_weight': 5}. Best is trial 56 with value: 0.6725225225225225.\n",
            "[I 2025-05-01 08:24:57,092] Trial 102 finished with value: 0.6662162162162162 and parameters: {'n_estimators': 285, 'max_depth': 3, 'learning_rate': 0.052823965864709034, 'subsample': 0.7506013615784203, 'colsample_bytree': 0.639938503186417, 'gamma': 0.1458486091418396, 'min_child_weight': 5}. Best is trial 56 with value: 0.6725225225225225.\n",
            "[I 2025-05-01 08:24:58,190] Trial 103 finished with value: 0.6691441441441441 and parameters: {'n_estimators': 271, 'max_depth': 3, 'learning_rate': 0.03885747819296686, 'subsample': 0.8341085738281582, 'colsample_bytree': 0.6476969074864997, 'gamma': 0.18565817154464068, 'min_child_weight': 6}. Best is trial 56 with value: 0.6725225225225225.\n",
            "[I 2025-05-01 08:24:59,578] Trial 104 finished with value: 0.6646396396396397 and parameters: {'n_estimators': 351, 'max_depth': 3, 'learning_rate': 0.019716197164239488, 'subsample': 0.807558319923604, 'colsample_bytree': 0.6051336697170031, 'gamma': 0.00032374066929641114, 'min_child_weight': 4}. Best is trial 56 with value: 0.6725225225225225.\n",
            "[I 2025-05-01 08:25:01,006] Trial 105 finished with value: 0.6558558558558558 and parameters: {'n_estimators': 288, 'max_depth': 4, 'learning_rate': 0.11292571331818921, 'subsample': 0.8599563473651278, 'colsample_bytree': 0.6182273839881302, 'gamma': 0.13040395070371105, 'min_child_weight': 4}. Best is trial 56 with value: 0.6725225225225225.\n",
            "[I 2025-05-01 08:25:04,059] Trial 106 finished with value: 0.6713963963963964 and parameters: {'n_estimators': 395, 'max_depth': 3, 'learning_rate': 0.026607555919623428, 'subsample': 0.776701255152578, 'colsample_bytree': 0.6278111825091756, 'gamma': 0.04941246913730292, 'min_child_weight': 5}. Best is trial 56 with value: 0.6725225225225225.\n",
            "[I 2025-05-01 08:25:06,115] Trial 107 finished with value: 0.6632882882882883 and parameters: {'n_estimators': 394, 'max_depth': 3, 'learning_rate': 0.042403076109621796, 'subsample': 0.7719789788596801, 'colsample_bytree': 0.9490396353676871, 'gamma': 0.042387433393601015, 'min_child_weight': 4}. Best is trial 56 with value: 0.6725225225225225.\n",
            "[I 2025-05-01 08:25:07,155] Trial 108 finished with value: 0.668918918918919 and parameters: {'n_estimators': 252, 'max_depth': 3, 'learning_rate': 0.0694597536172849, 'subsample': 0.7796372774837521, 'colsample_bytree': 0.6694168934007114, 'gamma': 0.37725951155355475, 'min_child_weight': 3}. Best is trial 56 with value: 0.6725225225225225.\n",
            "[I 2025-05-01 08:25:09,045] Trial 109 finished with value: 0.6677927927927928 and parameters: {'n_estimators': 360, 'max_depth': 4, 'learning_rate': 0.012696948646384055, 'subsample': 0.9514511194844282, 'colsample_bytree': 0.6581140923748259, 'gamma': 0.020511732944790903, 'min_child_weight': 8}. Best is trial 56 with value: 0.6725225225225225.\n",
            "[I 2025-05-01 08:25:10,994] Trial 110 finished with value: 0.6542792792792793 and parameters: {'n_estimators': 371, 'max_depth': 3, 'learning_rate': 0.1257731185448183, 'subsample': 0.7392282437434945, 'colsample_bytree': 0.6309201032973674, 'gamma': 0.05396141537370866, 'min_child_weight': 2}. Best is trial 56 with value: 0.6725225225225225.\n",
            "[I 2025-05-01 08:25:12,674] Trial 111 finished with value: 0.6646396396396397 and parameters: {'n_estimators': 454, 'max_depth': 3, 'learning_rate': 0.03242270923473599, 'subsample': 0.7905442722683773, 'colsample_bytree': 0.6466786212270045, 'gamma': 0.07965740414845035, 'min_child_weight': 5}. Best is trial 56 with value: 0.6725225225225225.\n",
            "[I 2025-05-01 08:25:13,619] Trial 112 finished with value: 0.6673423423423424 and parameters: {'n_estimators': 212, 'max_depth': 3, 'learning_rate': 0.02591435074135304, 'subsample': 0.8819226045812777, 'colsample_bytree': 0.6096333144025923, 'gamma': 0.17033508144612852, 'min_child_weight': 5}. Best is trial 56 with value: 0.6725225225225225.\n",
            "[I 2025-05-01 08:25:14,372] Trial 113 finished with value: 0.6653153153153153 and parameters: {'n_estimators': 143, 'max_depth': 3, 'learning_rate': 0.02827724318321165, 'subsample': 0.7583903569298893, 'colsample_bytree': 0.7556126564107731, 'gamma': 0.11619029804235254, 'min_child_weight': 5}. Best is trial 56 with value: 0.6725225225225225.\n",
            "[I 2025-05-01 08:25:17,884] Trial 114 finished with value: 0.6691441441441441 and parameters: {'n_estimators': 395, 'max_depth': 3, 'learning_rate': 0.023293152857512205, 'subsample': 0.893042841478925, 'colsample_bytree': 0.623838179853107, 'gamma': 0.010071199185776737, 'min_child_weight': 6}. Best is trial 56 with value: 0.6725225225225225.\n",
            "[I 2025-05-01 08:25:19,275] Trial 115 finished with value: 0.6668918918918919 and parameters: {'n_estimators': 348, 'max_depth': 3, 'learning_rate': 0.03584216961219448, 'subsample': 0.8025510201163862, 'colsample_bytree': 0.6708739734494087, 'gamma': 0.06642943847139056, 'min_child_weight': 1}. Best is trial 56 with value: 0.6725225225225225.\n",
            "[I 2025-05-01 08:25:20,593] Trial 116 finished with value: 0.6632882882882883 and parameters: {'n_estimators': 331, 'max_depth': 3, 'learning_rate': 0.020787678522340022, 'subsample': 0.903967423339345, 'colsample_bytree': 0.6342300694231422, 'gamma': 0.034634704665567326, 'min_child_weight': 4}. Best is trial 56 with value: 0.6725225225225225.\n",
            "[I 2025-05-01 08:25:22,162] Trial 117 finished with value: 0.6673423423423424 and parameters: {'n_estimators': 407, 'max_depth': 3, 'learning_rate': 0.02836595163905335, 'subsample': 0.9816378749535651, 'colsample_bytree': 0.6163269670955216, 'gamma': 0.02339618243543844, 'min_child_weight': 6}. Best is trial 56 with value: 0.6725225225225225.\n",
            "[I 2025-05-01 08:25:23,634] Trial 118 finished with value: 0.6653153153153153 and parameters: {'n_estimators': 384, 'max_depth': 3, 'learning_rate': 0.07875243473971535, 'subsample': 0.9998329740523694, 'colsample_bytree': 0.692331947576136, 'gamma': 0.22775176971772138, 'min_child_weight': 4}. Best is trial 56 with value: 0.6725225225225225.\n",
            "[I 2025-05-01 08:25:25,765] Trial 119 finished with value: 0.6693693693693694 and parameters: {'n_estimators': 318, 'max_depth': 5, 'learning_rate': 0.03837078077500827, 'subsample': 0.8453574081905437, 'colsample_bytree': 0.650548378072085, 'gamma': 0.14948974775323415, 'min_child_weight': 5}. Best is trial 56 with value: 0.6725225225225225.\n",
            "[I 2025-05-01 08:25:32,943] Trial 120 finished with value: 0.6565315315315315 and parameters: {'n_estimators': 366, 'max_depth': 7, 'learning_rate': 0.050189652111847144, 'subsample': 0.8666974104901108, 'colsample_bytree': 0.8035872571909909, 'gamma': 0.04704219926146251, 'min_child_weight': 2}. Best is trial 56 with value: 0.6725225225225225.\n",
            "[I 2025-05-01 08:25:34,448] Trial 121 finished with value: 0.6695945945945946 and parameters: {'n_estimators': 358, 'max_depth': 3, 'learning_rate': 0.032710821634610386, 'subsample': 0.9505813783034223, 'colsample_bytree': 0.7086296284253153, 'gamma': 0.01687436574597832, 'min_child_weight': 1}. Best is trial 56 with value: 0.6725225225225225.\n",
            "[I 2025-05-01 08:25:36,132] Trial 122 finished with value: 0.6711711711711712 and parameters: {'n_estimators': 425, 'max_depth': 3, 'learning_rate': 0.017364531205200026, 'subsample': 0.9691509402655111, 'colsample_bytree': 0.6844711818918842, 'gamma': 0.012097925336641084, 'min_child_weight': 1}. Best is trial 56 with value: 0.6725225225225225.\n",
            "[I 2025-05-01 08:25:37,800] Trial 123 finished with value: 0.6695945945945946 and parameters: {'n_estimators': 436, 'max_depth': 3, 'learning_rate': 0.014952681822614167, 'subsample': 0.9599040471161354, 'colsample_bytree': 0.6776110475782854, 'gamma': 0.008101955534373935, 'min_child_weight': 2}. Best is trial 56 with value: 0.6725225225225225.\n",
            "[I 2025-05-01 08:25:39,499] Trial 124 finished with value: 0.6747747747747748 and parameters: {'n_estimators': 427, 'max_depth': 3, 'learning_rate': 0.021978188969319974, 'subsample': 0.9760848989537714, 'colsample_bytree': 0.7301003992053027, 'gamma': 0.2749409209747699, 'min_child_weight': 1}. Best is trial 124 with value: 0.6747747747747748.\n",
            "[I 2025-05-01 08:25:43,184] Trial 125 finished with value: 0.6644144144144144 and parameters: {'n_estimators': 426, 'max_depth': 3, 'learning_rate': 0.010058158172189195, 'subsample': 0.9732794605770597, 'colsample_bytree': 0.7707998447000485, 'gamma': 0.290684201286187, 'min_child_weight': 1}. Best is trial 124 with value: 0.6747747747747748.\n",
            "[I 2025-05-01 08:25:44,882] Trial 126 finished with value: 0.665990990990991 and parameters: {'n_estimators': 420, 'max_depth': 3, 'learning_rate': 0.017743271864641245, 'subsample': 0.9233415161220428, 'colsample_bytree': 0.7243275607578097, 'gamma': 0.2725099029768122, 'min_child_weight': 1}. Best is trial 124 with value: 0.6747747747747748.\n",
            "[I 2025-05-01 08:25:47,201] Trial 127 finished with value: 0.6716216216216216 and parameters: {'n_estimators': 443, 'max_depth': 4, 'learning_rate': 0.021467983844568866, 'subsample': 0.9611269374808987, 'colsample_bytree': 0.7037828892643707, 'gamma': 0.3023438635272128, 'min_child_weight': 1}. Best is trial 124 with value: 0.6747747747747748.\n",
            "[I 2025-05-01 08:25:49,087] Trial 128 finished with value: 0.6725225225225225 and parameters: {'n_estimators': 466, 'max_depth': 3, 'learning_rate': 0.02140483087425213, 'subsample': 0.962114087111039, 'colsample_bytree': 0.7348897095148562, 'gamma': 0.30638481417784375, 'min_child_weight': 1}. Best is trial 124 with value: 0.6747747747747748.\n",
            "[I 2025-05-01 08:25:50,878] Trial 129 finished with value: 0.6695945945945946 and parameters: {'n_estimators': 460, 'max_depth': 3, 'learning_rate': 0.022175633274660288, 'subsample': 0.9861300295651403, 'colsample_bytree': 0.6996373242148539, 'gamma': 0.30310850931883937, 'min_child_weight': 1}. Best is trial 124 with value: 0.6747747747747748.\n",
            "[I 2025-05-01 08:25:55,040] Trial 130 finished with value: 0.6731981981981981 and parameters: {'n_estimators': 463, 'max_depth': 4, 'learning_rate': 0.016176797910808744, 'subsample': 0.9802104452352121, 'colsample_bytree': 0.7108794592802361, 'gamma': 0.3143806674365255, 'min_child_weight': 1}. Best is trial 124 with value: 0.6747747747747748.\n",
            "[I 2025-05-01 08:25:58,811] Trial 131 finished with value: 0.6684684684684684 and parameters: {'n_estimators': 468, 'max_depth': 5, 'learning_rate': 0.014605759227178168, 'subsample': 0.9932144713163721, 'colsample_bytree': 0.74348721821284, 'gamma': 0.3224808319592116, 'min_child_weight': 1}. Best is trial 124 with value: 0.6747747747747748.\n",
            "[I 2025-05-01 08:26:01,352] Trial 132 finished with value: 0.6664414414414415 and parameters: {'n_estimators': 491, 'max_depth': 4, 'learning_rate': 0.026307344031918506, 'subsample': 0.9664713183700171, 'colsample_bytree': 0.7146601966967722, 'gamma': 0.32463300949425017, 'min_child_weight': 1}. Best is trial 124 with value: 0.6747747747747748.\n",
            "[I 2025-05-01 08:26:03,064] Trial 133 finished with value: 0.668018018018018 and parameters: {'n_estimators': 439, 'max_depth': 3, 'learning_rate': 0.017559051876473976, 'subsample': 0.93912611044712, 'colsample_bytree': 0.6867741366031759, 'gamma': 0.36375083105596384, 'min_child_weight': 1}. Best is trial 124 with value: 0.6747747747747748.\n",
            "[I 2025-05-01 08:26:04,923] Trial 134 finished with value: 0.6707207207207208 and parameters: {'n_estimators': 450, 'max_depth': 3, 'learning_rate': 0.02079072477382268, 'subsample': 0.9788702576848008, 'colsample_bytree': 0.7031080578018049, 'gamma': 0.304878206793991, 'min_child_weight': 1}. Best is trial 124 with value: 0.6747747747747748.\n",
            "[I 2025-05-01 08:26:08,707] Trial 135 finished with value: 0.6686936936936937 and parameters: {'n_estimators': 445, 'max_depth': 3, 'learning_rate': 0.022203841400329632, 'subsample': 0.9681072064848254, 'colsample_bytree': 0.7283205462219696, 'gamma': 0.3095160473713633, 'min_child_weight': 1}. Best is trial 124 with value: 0.6747747747747748.\n",
            "[I 2025-05-01 08:26:11,103] Trial 136 finished with value: 0.6698198198198199 and parameters: {'n_estimators': 459, 'max_depth': 4, 'learning_rate': 0.01897127547664868, 'subsample': 0.9828567934691401, 'colsample_bytree': 0.7060127681266908, 'gamma': 0.2739818672541777, 'min_child_weight': 1}. Best is trial 124 with value: 0.6747747747747748.\n",
            "[I 2025-05-01 08:26:13,016] Trial 137 finished with value: 0.6673423423423424 and parameters: {'n_estimators': 482, 'max_depth': 3, 'learning_rate': 0.014084114301391903, 'subsample': 0.9598628831812333, 'colsample_bytree': 0.6959061842647704, 'gamma': 0.299932758272403, 'min_child_weight': 1}. Best is trial 124 with value: 0.6747747747747748.\n",
            "[I 2025-05-01 08:26:14,764] Trial 138 finished with value: 0.6704954954954955 and parameters: {'n_estimators': 449, 'max_depth': 3, 'learning_rate': 0.02579289318624256, 'subsample': 0.9788009507288741, 'colsample_bytree': 0.7361907860352825, 'gamma': 0.2585119389598063, 'min_child_weight': 1}. Best is trial 124 with value: 0.6747747747747748.\n",
            "[I 2025-05-01 08:26:21,035] Trial 139 finished with value: 0.6603603603603604 and parameters: {'n_estimators': 433, 'max_depth': 6, 'learning_rate': 0.03569535440086601, 'subsample': 0.9925464674619003, 'colsample_bytree': 0.716213426991341, 'gamma': 0.35046845146278094, 'min_child_weight': 1}. Best is trial 124 with value: 0.6747747747747748.\n",
            "[I 2025-05-01 08:26:23,614] Trial 140 finished with value: 0.6641891891891892 and parameters: {'n_estimators': 469, 'max_depth': 4, 'learning_rate': 0.01036859680702323, 'subsample': 0.9719588028552525, 'colsample_bytree': 0.7231880914030839, 'gamma': 0.33311840419004185, 'min_child_weight': 1}. Best is trial 124 with value: 0.6747747747747748.\n",
            "[I 2025-05-01 08:26:25,352] Trial 141 finished with value: 0.6677927927927928 and parameters: {'n_estimators': 463, 'max_depth': 3, 'learning_rate': 0.028585567643816326, 'subsample': 0.9459464850328081, 'colsample_bytree': 0.6831906988700092, 'gamma': 0.31283156155571556, 'min_child_weight': 2}. Best is trial 124 with value: 0.6747747747747748.\n",
            "[I 2025-05-01 08:26:36,903] Trial 142 finished with value: 0.6630630630630631 and parameters: {'n_estimators': 452, 'max_depth': 8, 'learning_rate': 0.022233010060835202, 'subsample': 0.9614200656865717, 'colsample_bytree': 0.7034797650207288, 'gamma': 0.2806591068575299, 'min_child_weight': 1}. Best is trial 124 with value: 0.6747747747747748.\n",
            "[I 2025-05-01 08:26:38,548] Trial 143 finished with value: 0.6702702702702703 and parameters: {'n_estimators': 412, 'max_depth': 3, 'learning_rate': 0.017131396814610896, 'subsample': 0.9884170759605927, 'colsample_bytree': 0.6910538903222797, 'gamma': 0.2929393498332166, 'min_child_weight': 2}. Best is trial 124 with value: 0.6747747747747748.\n",
            "[I 2025-05-01 08:26:40,202] Trial 144 finished with value: 0.6691441441441441 and parameters: {'n_estimators': 429, 'max_depth': 3, 'learning_rate': 0.031005479253579542, 'subsample': 0.9742051317172954, 'colsample_bytree': 0.663315879604042, 'gamma': 0.24597793795128986, 'min_child_weight': 1}. Best is trial 124 with value: 0.6747747747747748.\n",
            "[I 2025-05-01 08:26:42,013] Trial 145 finished with value: 0.6707207207207208 and parameters: {'n_estimators': 477, 'max_depth': 3, 'learning_rate': 0.02527779329087763, 'subsample': 0.957219876473785, 'colsample_bytree': 0.6716613966040633, 'gamma': 0.0018980457113965694, 'min_child_weight': 1}. Best is trial 124 with value: 0.6747747747747748.\n",
            "[I 2025-05-01 08:26:44,390] Trial 146 finished with value: 0.6704954954954955 and parameters: {'n_estimators': 483, 'max_depth': 3, 'learning_rate': 0.020320445540003198, 'subsample': 0.9408530800196153, 'colsample_bytree': 0.6766133895098604, 'gamma': 0.004276950189186004, 'min_child_weight': 1}. Best is trial 124 with value: 0.6747747747747748.\n",
            "[I 2025-05-01 08:26:47,751] Trial 147 finished with value: 0.6713963963963964 and parameters: {'n_estimators': 490, 'max_depth': 3, 'learning_rate': 0.02513123990460772, 'subsample': 0.9584395539670416, 'colsample_bytree': 0.7524298655118493, 'gamma': 0.026780411758250466, 'min_child_weight': 1}. Best is trial 124 with value: 0.6747747747747748.\n",
            "[I 2025-05-01 08:27:14,031] Trial 148 finished with value: 0.661036036036036 and parameters: {'n_estimators': 491, 'max_depth': 10, 'learning_rate': 0.014299733285865618, 'subsample': 0.9570014527163139, 'colsample_bytree': 0.7388579601814983, 'gamma': 0.02795935506873581, 'min_child_weight': 1}. Best is trial 124 with value: 0.6747747747747748.\n",
            "[I 2025-05-01 08:27:15,855] Trial 149 finished with value: 0.6704954954954955 and parameters: {'n_estimators': 473, 'max_depth': 3, 'learning_rate': 0.025019165598590448, 'subsample': 0.9550228968818096, 'colsample_bytree': 0.7109724011381013, 'gamma': 0.013908504882307765, 'min_child_weight': 1}. Best is trial 124 with value: 0.6747747747747748.\n",
            "[I 2025-05-01 08:27:17,782] Trial 150 finished with value: 0.6740990990990992 and parameters: {'n_estimators': 488, 'max_depth': 3, 'learning_rate': 0.021275074346415786, 'subsample': 0.9672502233149961, 'colsample_bytree': 0.7522908829914785, 'gamma': 0.03767732383607926, 'min_child_weight': 1}. Best is trial 124 with value: 0.6747747747747748.\n",
            "[I 2025-05-01 08:27:19,709] Trial 151 finished with value: 0.6698198198198199 and parameters: {'n_estimators': 496, 'max_depth': 3, 'learning_rate': 0.021260940850984372, 'subsample': 0.9788389743510764, 'colsample_bytree': 0.7498079061380136, 'gamma': 0.03952468636952332, 'min_child_weight': 1}. Best is trial 124 with value: 0.6747747747747748.\n",
            "[I 2025-05-01 08:27:21,631] Trial 152 finished with value: 0.6682432432432432 and parameters: {'n_estimators': 482, 'max_depth': 3, 'learning_rate': 0.027609675510084662, 'subsample': 0.9659295806189724, 'colsample_bytree': 0.732914982375599, 'gamma': 0.02553232089061938, 'min_child_weight': 1}. Best is trial 124 with value: 0.6747747747747748.\n",
            "[I 2025-05-01 08:27:25,590] Trial 153 finished with value: 0.6709459459459459 and parameters: {'n_estimators': 499, 'max_depth': 3, 'learning_rate': 0.018145701278172215, 'subsample': 0.9457812399600146, 'colsample_bytree': 0.7601981798011406, 'gamma': 0.0004978632257794649, 'min_child_weight': 1}. Best is trial 124 with value: 0.6747747747747748.\n",
            "[I 2025-05-01 08:27:27,555] Trial 154 finished with value: 0.6718468468468468 and parameters: {'n_estimators': 498, 'max_depth': 3, 'learning_rate': 0.016734739911066686, 'subsample': 0.9428492903122141, 'colsample_bytree': 0.7274984775215254, 'gamma': 0.01755501246101615, 'min_child_weight': 1}. Best is trial 124 with value: 0.6747747747747748.\n",
            "[I 2025-05-01 08:27:29,519] Trial 155 finished with value: 0.6711711711711712 and parameters: {'n_estimators': 496, 'max_depth': 3, 'learning_rate': 0.016483971900451422, 'subsample': 0.944687633867822, 'colsample_bytree': 0.763924993182288, 'gamma': 0.056169453978129426, 'min_child_weight': 2}. Best is trial 124 with value: 0.6747747747747748.\n",
            "[I 2025-05-01 08:27:31,497] Trial 156 finished with value: 0.6698198198198199 and parameters: {'n_estimators': 498, 'max_depth': 3, 'learning_rate': 0.013183994175986702, 'subsample': 0.9423772028491069, 'colsample_bytree': 0.7637238132549954, 'gamma': 0.05208493879126102, 'min_child_weight': 1}. Best is trial 124 with value: 0.6747747747747748.\n",
            "[I 2025-05-01 08:27:33,431] Trial 157 finished with value: 0.6709459459459459 and parameters: {'n_estimators': 491, 'max_depth': 3, 'learning_rate': 0.016866506659615144, 'subsample': 0.9470035133857371, 'colsample_bytree': 0.754586538173852, 'gamma': 0.03440073350669959, 'min_child_weight': 2}. Best is trial 124 with value: 0.6747747747747748.\n",
            "[I 2025-05-01 08:27:37,010] Trial 158 finished with value: 0.6657657657657657 and parameters: {'n_estimators': 487, 'max_depth': 3, 'learning_rate': 0.03371634992843616, 'subsample': 0.9328629666201, 'colsample_bytree': 0.7788649840852727, 'gamma': 0.01886787068047888, 'min_child_weight': 1}. Best is trial 124 with value: 0.6747747747747748.\n",
            "[I 2025-05-01 08:27:39,285] Trial 159 finished with value: 0.6650900900900901 and parameters: {'n_estimators': 499, 'max_depth': 3, 'learning_rate': 0.011696618147845934, 'subsample': 0.9320516939797623, 'colsample_bytree': 0.7467285320579549, 'gamma': 0.06254379195994271, 'min_child_weight': 1}. Best is trial 124 with value: 0.6747747747747748.\n",
            "[I 2025-05-01 08:27:41,952] Trial 160 finished with value: 0.6707207207207208 and parameters: {'n_estimators': 500, 'max_depth': 4, 'learning_rate': 0.016757309774854588, 'subsample': 0.9142936792111456, 'colsample_bytree': 0.7587267428218917, 'gamma': 0.045689094435832064, 'min_child_weight': 2}. Best is trial 124 with value: 0.6747747747747748.\n",
            "[I 2025-05-01 08:27:43,914] Trial 161 finished with value: 0.670045045045045 and parameters: {'n_estimators': 492, 'max_depth': 3, 'learning_rate': 0.01785572359854894, 'subsample': 0.948712680444438, 'colsample_bytree': 0.7495727050957497, 'gamma': 0.033764314148211766, 'min_child_weight': 2}. Best is trial 124 with value: 0.6747747747747748.\n",
            "[I 2025-05-01 08:27:45,774] Trial 162 finished with value: 0.6686936936936937 and parameters: {'n_estimators': 466, 'max_depth': 3, 'learning_rate': 0.024432384724771005, 'subsample': 0.9653736246385799, 'colsample_bytree': 0.7674809615986372, 'gamma': 0.032434972145909964, 'min_child_weight': 2}. Best is trial 124 with value: 0.6747747747747748.\n",
            "[I 2025-05-01 08:27:47,894] Trial 163 finished with value: 0.6646396396396397 and parameters: {'n_estimators': 481, 'max_depth': 3, 'learning_rate': 0.010305380578801161, 'subsample': 0.9238394604334395, 'colsample_bytree': 0.7562442611634369, 'gamma': 0.012461059444539116, 'min_child_weight': 2}. Best is trial 124 with value: 0.6747747747747748.\n",
            "[I 2025-05-01 08:27:51,469] Trial 164 finished with value: 0.6713963963963964 and parameters: {'n_estimators': 474, 'max_depth': 3, 'learning_rate': 0.015754137104884176, 'subsample': 0.9474138065689798, 'colsample_bytree': 0.7298192332583576, 'gamma': 0.056847460314278855, 'min_child_weight': 1}. Best is trial 124 with value: 0.6747747747747748.\n",
            "[I 2025-05-01 08:27:53,354] Trial 165 finished with value: 0.668018018018018 and parameters: {'n_estimators': 478, 'max_depth': 3, 'learning_rate': 0.028458192325052097, 'subsample': 0.9522704892897834, 'colsample_bytree': 0.7289796850825216, 'gamma': 0.07763399224382371, 'min_child_weight': 1}. Best is trial 124 with value: 0.6747747747747748.\n",
            "[I 2025-05-01 08:27:55,244] Trial 166 finished with value: 0.6718468468468468 and parameters: {'n_estimators': 473, 'max_depth': 3, 'learning_rate': 0.020972090206581494, 'subsample': 0.9707665344904478, 'colsample_bytree': 0.7377411966105729, 'gamma': 0.05613716717460016, 'min_child_weight': 1}. Best is trial 124 with value: 0.6747747747747748.\n",
            "[I 2025-05-01 08:27:57,109] Trial 167 finished with value: 0.6698198198198199 and parameters: {'n_estimators': 470, 'max_depth': 3, 'learning_rate': 0.02229213238213946, 'subsample': 0.9688175780693661, 'colsample_bytree': 0.7375706145637342, 'gamma': 0.0575489800899477, 'min_child_weight': 1}. Best is trial 124 with value: 0.6747747747747748.\n",
            "[I 2025-05-01 08:27:58,885] Trial 168 finished with value: 0.6713963963963964 and parameters: {'n_estimators': 460, 'max_depth': 3, 'learning_rate': 0.030530831739884114, 'subsample': 0.970841238374991, 'colsample_bytree': 0.7213293692476005, 'gamma': 0.07082292283522335, 'min_child_weight': 1}. Best is trial 124 with value: 0.6747747747747748.\n",
            "[I 2025-05-01 08:28:01,477] Trial 169 finished with value: 0.668918918918919 and parameters: {'n_estimators': 457, 'max_depth': 3, 'learning_rate': 0.038333033292226475, 'subsample': 0.9742663124197481, 'colsample_bytree': 0.7256005749962707, 'gamma': 0.04350431236984735, 'min_child_weight': 1}. Best is trial 124 with value: 0.6747747747747748.\n",
            "[I 2025-05-01 08:28:04,289] Trial 170 finished with value: 0.6682432432432432 and parameters: {'n_estimators': 443, 'max_depth': 3, 'learning_rate': 0.03132032676774871, 'subsample': 0.9912207025352164, 'colsample_bytree': 0.7190348095344372, 'gamma': 0.06336123850127962, 'min_child_weight': 1}. Best is trial 124 with value: 0.6747747747747748.\n",
            "[I 2025-05-01 08:28:06,172] Trial 171 finished with value: 0.6695945945945946 and parameters: {'n_estimators': 475, 'max_depth': 3, 'learning_rate': 0.022662265314939943, 'subsample': 0.9645552143500544, 'colsample_bytree': 0.7377316883614222, 'gamma': 0.07026886789397636, 'min_child_weight': 1}. Best is trial 124 with value: 0.6747747747747748.\n",
            "[I 2025-05-01 08:28:07,920] Trial 172 finished with value: 0.6673423423423424 and parameters: {'n_estimators': 458, 'max_depth': 3, 'learning_rate': 0.02842347572479102, 'subsample': 0.9560041101696966, 'colsample_bytree': 0.7183505209979012, 'gamma': 0.08870812231934816, 'min_child_weight': 1}. Best is trial 124 with value: 0.6747747747747748.\n",
            "[I 2025-05-01 08:28:09,890] Trial 173 finished with value: 0.6662162162162162 and parameters: {'n_estimators': 488, 'max_depth': 3, 'learning_rate': 0.01321232868423922, 'subsample': 0.9352878172887462, 'colsample_bytree': 0.7293950716791429, 'gamma': 0.054064541223728446, 'min_child_weight': 1}. Best is trial 124 with value: 0.6747747747747748.\n",
            "[I 2025-05-01 08:28:11,714] Trial 174 finished with value: 0.6731981981981981 and parameters: {'n_estimators': 469, 'max_depth': 3, 'learning_rate': 0.024639112215732478, 'subsample': 0.9727464359207993, 'colsample_bytree': 0.74266102796679, 'gamma': 0.02343926549987798, 'min_child_weight': 1}. Best is trial 124 with value: 0.6747747747747748.\n",
            "[I 2025-05-01 08:28:14,074] Trial 175 finished with value: 0.6695945945945946 and parameters: {'n_estimators': 465, 'max_depth': 3, 'learning_rate': 0.024360246230394157, 'subsample': 0.9733357444057031, 'colsample_bytree': 0.7465438590873913, 'gamma': 0.02345986648024307, 'min_child_weight': 1}. Best is trial 124 with value: 0.6747747747747748.\n",
            "[I 2025-05-01 08:28:18,785] Trial 176 finished with value: 0.6677927927927928 and parameters: {'n_estimators': 474, 'max_depth': 5, 'learning_rate': 0.04257086453288231, 'subsample': 0.9816198216886424, 'colsample_bytree': 0.7425589673508819, 'gamma': 0.04230647494195307, 'min_child_weight': 1}. Best is trial 124 with value: 0.6747747747747748.\n",
            "[I 2025-05-01 08:28:20,517] Trial 177 finished with value: 0.6682432432432432 and parameters: {'n_estimators': 447, 'max_depth': 3, 'learning_rate': 0.03475310961237116, 'subsample': 0.9682798806465686, 'colsample_bytree': 0.7113512054538144, 'gamma': 0.023262860249536582, 'min_child_weight': 1}. Best is trial 124 with value: 0.6747747747747748.\n",
            "[I 2025-05-01 08:28:22,357] Trial 178 finished with value: 0.6720720720720721 and parameters: {'n_estimators': 463, 'max_depth': 3, 'learning_rate': 0.029570731752101752, 'subsample': 0.9981711908969142, 'colsample_bytree': 0.7236014999120042, 'gamma': 0.01521355570994787, 'min_child_weight': 1}. Best is trial 124 with value: 0.6747747747747748.\n",
            "[I 2025-05-01 08:28:24,170] Trial 179 finished with value: 0.6731981981981981 and parameters: {'n_estimators': 464, 'max_depth': 3, 'learning_rate': 0.030593206965529023, 'subsample': 0.9964158560837304, 'colsample_bytree': 0.7319451539910441, 'gamma': 0.0361516691065355, 'min_child_weight': 1}. Best is trial 124 with value: 0.6747747747747748.\n",
            "[I 2025-05-01 08:28:25,932] Trial 180 finished with value: 0.6682432432432432 and parameters: {'n_estimators': 467, 'max_depth': 3, 'learning_rate': 0.035792367976049, 'subsample': 0.990042104624443, 'colsample_bytree': 0.7359505495367341, 'gamma': 0.03594359320075774, 'min_child_weight': 1}. Best is trial 124 with value: 0.6747747747747748.\n",
            "[I 2025-05-01 08:28:29,722] Trial 181 finished with value: 0.6722972972972973 and parameters: {'n_estimators': 461, 'max_depth': 3, 'learning_rate': 0.030319316959158456, 'subsample': 0.9914955728192013, 'colsample_bytree': 0.7216934443738419, 'gamma': 0.045423646161817835, 'min_child_weight': 1}. Best is trial 124 with value: 0.6747747747747748.\n",
            "[I 2025-05-01 08:28:31,472] Trial 182 finished with value: 0.6702702702702703 and parameters: {'n_estimators': 455, 'max_depth': 3, 'learning_rate': 0.026307621456086172, 'subsample': 0.990731050848168, 'colsample_bytree': 0.7297825161737395, 'gamma': 0.4733600783676323, 'min_child_weight': 1}. Best is trial 124 with value: 0.6747747747747748.\n",
            "[I 2025-05-01 08:28:33,274] Trial 183 finished with value: 0.6684684684684684 and parameters: {'n_estimators': 474, 'max_depth': 3, 'learning_rate': 0.03131503700601601, 'subsample': 0.995911579031761, 'colsample_bytree': 0.7234603505650403, 'gamma': 0.046439440415026276, 'min_child_weight': 1}. Best is trial 124 with value: 0.6747747747747748.\n",
            "[I 2025-05-01 08:28:35,114] Trial 184 finished with value: 0.6686936936936937 and parameters: {'n_estimators': 462, 'max_depth': 3, 'learning_rate': 0.022110501415650977, 'subsample': 0.996430907002907, 'colsample_bytree': 0.7134753764178361, 'gamma': 0.02605275709036621, 'min_child_weight': 1}. Best is trial 124 with value: 0.6747747747747748.\n",
            "[I 2025-05-01 08:28:36,940] Trial 185 finished with value: 0.6666666666666666 and parameters: {'n_estimators': 483, 'max_depth': 3, 'learning_rate': 0.040234890196450074, 'subsample': 0.9830536857185039, 'colsample_bytree': 0.6979267540632758, 'gamma': 0.015221561967884958, 'min_child_weight': 1}. Best is trial 124 with value: 0.6747747747747748.\n",
            "[I 2025-05-01 08:28:38,668] Trial 186 finished with value: 0.6709459459459459 and parameters: {'n_estimators': 449, 'max_depth': 3, 'learning_rate': 0.02774414710882047, 'subsample': 0.9989429700747818, 'colsample_bytree': 0.7440604427354681, 'gamma': 0.03718027700818293, 'min_child_weight': 1}. Best is trial 124 with value: 0.6747747747747748.\n",
            "[I 2025-05-01 08:28:42,427] Trial 187 finished with value: 0.6686936936936937 and parameters: {'n_estimators': 467, 'max_depth': 3, 'learning_rate': 0.03334391943709472, 'subsample': 0.9853700120408105, 'colsample_bytree': 0.7311878165524242, 'gamma': 0.02638704648101537, 'min_child_weight': 1}. Best is trial 124 with value: 0.6747747747747748.\n",
            "[I 2025-05-01 08:28:44,319] Trial 188 finished with value: 0.6718468468468468 and parameters: {'n_estimators': 486, 'max_depth': 3, 'learning_rate': 0.01995783768448949, 'subsample': 0.9817505732001742, 'colsample_bytree': 0.7088382904254039, 'gamma': 0.04463458970255233, 'min_child_weight': 1}. Best is trial 124 with value: 0.6747747747747748.\n",
            "[I 2025-05-01 08:28:46,164] Trial 189 finished with value: 0.6704954954954955 and parameters: {'n_estimators': 487, 'max_depth': 3, 'learning_rate': 0.02404310587391427, 'subsample': 0.978465359070555, 'colsample_bytree': 0.7017870803879905, 'gamma': 0.012325543555167039, 'min_child_weight': 1}. Best is trial 124 with value: 0.6747747747747748.\n",
            "[I 2025-05-01 08:28:48,684] Trial 190 finished with value: 0.6650900900900901 and parameters: {'n_estimators': 479, 'max_depth': 4, 'learning_rate': 0.02017632987668059, 'subsample': 0.9874296324357537, 'colsample_bytree': 0.711719024083393, 'gamma': 0.044375663947804816, 'min_child_weight': 1}. Best is trial 124 with value: 0.6747747747747748.\n",
            "[I 2025-05-01 08:28:50,537] Trial 191 finished with value: 0.6709459459459459 and parameters: {'n_estimators': 473, 'max_depth': 3, 'learning_rate': 0.027275322825774453, 'subsample': 0.9774573737943301, 'colsample_bytree': 0.7194110274573321, 'gamma': 0.05120962045299509, 'min_child_weight': 1}. Best is trial 124 with value: 0.6747747747747748.\n",
            "[I 2025-05-01 08:28:54,265] Trial 192 finished with value: 0.6707207207207208 and parameters: {'n_estimators': 440, 'max_depth': 3, 'learning_rate': 0.02110693363553434, 'subsample': 0.9569919172887801, 'colsample_bytree': 0.738319288172641, 'gamma': 0.2638326292229823, 'min_child_weight': 1}. Best is trial 124 with value: 0.6747747747747748.\n",
            "[I 2025-05-01 08:28:56,189] Trial 193 finished with value: 0.668918918918919 and parameters: {'n_estimators': 486, 'max_depth': 3, 'learning_rate': 0.029984443519663725, 'subsample': 0.9622994492915274, 'colsample_bytree': 0.7235615612973576, 'gamma': 0.031806295937984945, 'min_child_weight': 1}. Best is trial 124 with value: 0.6747747747747748.\n",
            "[I 2025-05-01 08:28:58,018] Trial 194 finished with value: 0.668018018018018 and parameters: {'n_estimators': 459, 'max_depth': 3, 'learning_rate': 0.024731901362720698, 'subsample': 0.9848738220296289, 'colsample_bytree': 0.7325345737414652, 'gamma': 0.016563678247635882, 'min_child_weight': 1}. Best is trial 124 with value: 0.6747747747747748.\n",
            "[I 2025-05-01 08:28:59,819] Trial 195 finished with value: 0.6675675675675675 and parameters: {'n_estimators': 468, 'max_depth': 3, 'learning_rate': 0.0154042346526614, 'subsample': 0.9996453492456264, 'colsample_bytree': 0.7066847046626915, 'gamma': 0.3277817910839897, 'min_child_weight': 1}. Best is trial 124 with value: 0.6747747747747748.\n",
            "[I 2025-05-01 08:29:01,704] Trial 196 finished with value: 0.6693693693693694 and parameters: {'n_estimators': 479, 'max_depth': 3, 'learning_rate': 0.021024443242785077, 'subsample': 0.9630664065820648, 'colsample_bytree': 0.7509789098265505, 'gamma': 0.040226661450905574, 'min_child_weight': 1}. Best is trial 124 with value: 0.6747747747747748.\n",
            "[I 2025-05-01 08:29:03,218] Trial 197 finished with value: 0.6677927927927928 and parameters: {'n_estimators': 379, 'max_depth': 3, 'learning_rate': 0.03528501557426344, 'subsample': 0.9738473317681452, 'colsample_bytree': 0.6966290600726884, 'gamma': 0.05513131096507107, 'min_child_weight': 1}. Best is trial 124 with value: 0.6747747747747748.\n",
            "[I 2025-05-01 08:29:06,327] Trial 198 finished with value: 0.6644144144144144 and parameters: {'n_estimators': 390, 'max_depth': 3, 'learning_rate': 0.019105866099609528, 'subsample': 0.7700700081929405, 'colsample_bytree': 0.7422191490351852, 'gamma': 0.025367399366568323, 'min_child_weight': 1}. Best is trial 124 with value: 0.6747747747747748.\n",
            "[I 2025-05-01 08:29:08,501] Trial 199 finished with value: 0.6686936936936937 and parameters: {'n_estimators': 449, 'max_depth': 3, 'learning_rate': 0.026461160662572453, 'subsample': 0.9891981697697888, 'colsample_bytree': 0.7153148707363531, 'gamma': 0.3166739050255859, 'min_child_weight': 1}. Best is trial 124 with value: 0.6747747747747748.\n",
            "[I 2025-05-01 08:29:10,044] Trial 200 finished with value: 0.6666666666666666 and parameters: {'n_estimators': 403, 'max_depth': 3, 'learning_rate': 0.04535660648349172, 'subsample': 0.9525847230570033, 'colsample_bytree': 0.7233072949113742, 'gamma': 0.28126112576070433, 'min_child_weight': 2}. Best is trial 124 with value: 0.6747747747747748.\n",
            "[I 2025-05-01 08:29:11,832] Trial 201 finished with value: 0.6716216216216216 and parameters: {'n_estimators': 461, 'max_depth': 3, 'learning_rate': 0.029845710025031072, 'subsample': 0.9742397046259212, 'colsample_bytree': 0.7237155430298668, 'gamma': 0.06849638953249809, 'min_child_weight': 1}. Best is trial 124 with value: 0.6747747747747748.\n",
            "[I 2025-05-01 08:29:13,594] Trial 202 finished with value: 0.6677927927927928 and parameters: {'n_estimators': 455, 'max_depth': 3, 'learning_rate': 0.03174299703010152, 'subsample': 0.9767413653927268, 'colsample_bytree': 0.7328674377335185, 'gamma': 0.06705492524303845, 'min_child_weight': 1}. Best is trial 124 with value: 0.6747747747747748.\n",
            "[I 2025-05-01 08:29:15,368] Trial 203 finished with value: 0.6686936936936937 and parameters: {'n_estimators': 464, 'max_depth': 3, 'learning_rate': 0.029224550601013945, 'subsample': 0.964220287785589, 'colsample_bytree': 0.7083351330331922, 'gamma': 0.053738614831534484, 'min_child_weight': 1}. Best is trial 124 with value: 0.6747747747747748.\n",
            "[I 2025-05-01 08:29:17,283] Trial 204 finished with value: 0.6698198198198199 and parameters: {'n_estimators': 472, 'max_depth': 3, 'learning_rate': 0.024272493684619603, 'subsample': 0.9785253081284008, 'colsample_bytree': 0.7260802094552186, 'gamma': 0.08076461000221578, 'min_child_weight': 1}. Best is trial 124 with value: 0.6747747747747748.\n",
            "[I 2025-05-01 08:29:21,034] Trial 205 finished with value: 0.6673423423423424 and parameters: {'n_estimators': 487, 'max_depth': 3, 'learning_rate': 0.015194821641784949, 'subsample': 0.9914615201751619, 'colsample_bytree': 0.7390763289741663, 'gamma': 0.23807123242185185, 'min_child_weight': 1}. Best is trial 124 with value: 0.6747747747747748.\n",
            "[I 2025-05-01 08:29:22,858] Trial 206 finished with value: 0.6695945945945946 and parameters: {'n_estimators': 479, 'max_depth': 3, 'learning_rate': 0.019458164104623494, 'subsample': 0.982069656436388, 'colsample_bytree': 0.7170354169267121, 'gamma': 0.03755535247456409, 'min_child_weight': 1}. Best is trial 124 with value: 0.6747747747747748.\n",
            "[I 2025-05-01 08:29:26,105] Trial 207 finished with value: 0.6585585585585586 and parameters: {'n_estimators': 455, 'max_depth': 5, 'learning_rate': 0.038490643269676675, 'subsample': 0.7811354156120405, 'colsample_bytree': 0.6916489855774086, 'gamma': 0.009091938596873655, 'min_child_weight': 1}. Best is trial 124 with value: 0.6747747747747748.\n",
            "[I 2025-05-01 08:29:27,972] Trial 208 finished with value: 0.6646396396396397 and parameters: {'n_estimators': 491, 'max_depth': 3, 'learning_rate': 0.03294447693724481, 'subsample': 0.969420812993367, 'colsample_bytree': 0.7472633989679138, 'gamma': 0.29371349710193095, 'min_child_weight': 1}. Best is trial 124 with value: 0.6747747747747748.\n",
            "[I 2025-05-01 08:29:29,710] Trial 209 finished with value: 0.6711711711711712 and parameters: {'n_estimators': 442, 'max_depth': 3, 'learning_rate': 0.023653549451225893, 'subsample': 0.9557771522661465, 'colsample_bytree': 0.7308511547793058, 'gamma': 0.04787635562314382, 'min_child_weight': 1}. Best is trial 124 with value: 0.6747747747747748.\n",
            "[I 2025-05-01 08:29:33,096] Trial 210 finished with value: 0.668018018018018 and parameters: {'n_estimators': 367, 'max_depth': 3, 'learning_rate': 0.028367048842506713, 'subsample': 0.9398782534833701, 'colsample_bytree': 0.7071974773414107, 'gamma': 0.06307324257269423, 'min_child_weight': 2}. Best is trial 124 with value: 0.6747747747747748.\n",
            "[I 2025-05-01 08:29:35,701] Trial 211 finished with value: 0.6727477477477477 and parameters: {'n_estimators': 462, 'max_depth': 3, 'learning_rate': 0.03109584932115289, 'subsample': 0.970605727462052, 'colsample_bytree': 0.9989996576145672, 'gamma': 0.0984203470914953, 'min_child_weight': 1}. Best is trial 124 with value: 0.6747747747747748.\n",
            "[I 2025-05-01 08:29:37,915] Trial 212 finished with value: 0.6707207207207208 and parameters: {'n_estimators': 462, 'max_depth': 3, 'learning_rate': 0.02614886675469899, 'subsample': 0.9718609613029565, 'colsample_bytree': 0.7226383587972207, 'gamma': 0.09375540491650114, 'min_child_weight': 1}. Best is trial 124 with value: 0.6747747747747748.\n",
            "[I 2025-05-01 08:29:40,090] Trial 213 finished with value: 0.6596846846846847 and parameters: {'n_estimators': 470, 'max_depth': 3, 'learning_rate': 0.14446367511491234, 'subsample': 0.9995528303774582, 'colsample_bytree': 0.7377401514805243, 'gamma': 0.10100783581951944, 'min_child_weight': 1}. Best is trial 124 with value: 0.6747747747747748.\n",
            "[I 2025-05-01 08:29:44,733] Trial 214 finished with value: 0.6684684684684684 and parameters: {'n_estimators': 462, 'max_depth': 3, 'learning_rate': 0.0356416394171436, 'subsample': 0.9614944463901084, 'colsample_bytree': 0.9581357397345385, 'gamma': 0.03068339676938322, 'min_child_weight': 1}. Best is trial 124 with value: 0.6747747747747748.\n",
            "[I 2025-05-01 08:29:47,151] Trial 215 finished with value: 0.6664414414414415 and parameters: {'n_estimators': 474, 'max_depth': 3, 'learning_rate': 0.019941521469354927, 'subsample': 0.7898400220728355, 'colsample_bytree': 0.8253876692830204, 'gamma': 0.4252654164666028, 'min_child_weight': 1}. Best is trial 124 with value: 0.6747747747747748.\n",
            "[I 2025-05-01 08:29:49,098] Trial 216 finished with value: 0.6684684684684684 and parameters: {'n_estimators': 452, 'max_depth': 3, 'learning_rate': 0.014602288805741017, 'subsample': 0.9850046760515608, 'colsample_bytree': 0.9765296379209651, 'gamma': 0.07259978603101472, 'min_child_weight': 1}. Best is trial 124 with value: 0.6747747747747748.\n",
            "[I 2025-05-01 08:29:50,159] Trial 217 finished with value: 0.6713963963963964 and parameters: {'n_estimators': 231, 'max_depth': 3, 'learning_rate': 0.03134039340983527, 'subsample': 0.9510940725479766, 'colsample_bytree': 0.8573308904916688, 'gamma': 0.019057247474126404, 'min_child_weight': 1}. Best is trial 124 with value: 0.6747747747747748.\n",
            "[I 2025-05-01 08:29:57,655] Trial 218 finished with value: 0.6630630630630631 and parameters: {'n_estimators': 483, 'max_depth': 6, 'learning_rate': 0.023076212253158198, 'subsample': 0.9746431362720369, 'colsample_bytree': 0.7523560368833434, 'gamma': 0.04398964562787945, 'min_child_weight': 1}. Best is trial 124 with value: 0.6747747747747748.\n",
            "[I 2025-05-01 08:29:59,914] Trial 219 finished with value: 0.6693693693693694 and parameters: {'n_estimators': 469, 'max_depth': 3, 'learning_rate': 0.028403081665280057, 'subsample': 0.9675729752912005, 'colsample_bytree': 0.717671125543252, 'gamma': 0.05932996423427488, 'min_child_weight': 1}. Best is trial 124 with value: 0.6747747747747748.\n",
            "[I 2025-05-01 08:30:01,995] Trial 220 finished with value: 0.670045045045045 and parameters: {'n_estimators': 477, 'max_depth': 3, 'learning_rate': 0.01836641568608115, 'subsample': 0.959516992893923, 'colsample_bytree': 0.9960779282820585, 'gamma': 0.03004638774606134, 'min_child_weight': 2}. Best is trial 124 with value: 0.6747747747747748.\n",
            "[I 2025-05-01 08:30:03,801] Trial 221 finished with value: 0.6702702702702703 and parameters: {'n_estimators': 460, 'max_depth': 3, 'learning_rate': 0.03159914697049296, 'subsample': 0.9734471638943624, 'colsample_bytree': 0.7277585140582877, 'gamma': 0.07293409299347275, 'min_child_weight': 1}. Best is trial 124 with value: 0.6747747747747748.\n",
            "[I 2025-05-01 08:30:05,586] Trial 222 finished with value: 0.6675675675675675 and parameters: {'n_estimators': 448, 'max_depth': 3, 'learning_rate': 0.03969084645169144, 'subsample': 0.9840645917811496, 'colsample_bytree': 0.721727511948791, 'gamma': 0.08071545556344484, 'min_child_weight': 1}. Best is trial 124 with value: 0.6747747747747748.\n",
            "[I 2025-05-01 08:30:07,384] Trial 223 finished with value: 0.6702702702702703 and parameters: {'n_estimators': 462, 'max_depth': 3, 'learning_rate': 0.029308083706400364, 'subsample': 0.9700467471289731, 'colsample_bytree': 0.7121054257183129, 'gamma': 0.06063442260968675, 'min_child_weight': 1}. Best is trial 124 with value: 0.6747747747747748.\n",
            "[I 2025-05-01 08:30:10,675] Trial 224 finished with value: 0.6693693693693694 and parameters: {'n_estimators': 440, 'max_depth': 3, 'learning_rate': 0.025380994140723222, 'subsample': 0.9885670059160625, 'colsample_bytree': 0.7002575990892163, 'gamma': 0.04444439000400085, 'min_child_weight': 1}. Best is trial 124 with value: 0.6747747747747748.\n",
            "[I 2025-05-01 08:30:12,844] Trial 225 finished with value: 0.665990990990991 and parameters: {'n_estimators': 454, 'max_depth': 3, 'learning_rate': 0.03436708902832823, 'subsample': 0.9638539817197188, 'colsample_bytree': 0.8095267374587547, 'gamma': 0.07091041625343407, 'min_child_weight': 1}. Best is trial 124 with value: 0.6747747747747748.\n",
            "[I 2025-05-01 08:30:14,759] Trial 226 finished with value: 0.6722972972972973 and parameters: {'n_estimators': 488, 'max_depth': 3, 'learning_rate': 0.021943411427414062, 'subsample': 0.9802591718541221, 'colsample_bytree': 0.7358893106427199, 'gamma': 0.25096553813489336, 'min_child_weight': 1}. Best is trial 124 with value: 0.6747747747747748.\n",
            "[I 2025-05-01 08:30:16,683] Trial 227 finished with value: 0.6691441441441441 and parameters: {'n_estimators': 493, 'max_depth': 3, 'learning_rate': 0.02155779228946744, 'subsample': 0.9906863730633371, 'colsample_bytree': 0.7432801684950133, 'gamma': 0.2526427198523366, 'min_child_weight': 1}. Best is trial 124 with value: 0.6747747747747748.\n",
            "[I 2025-05-01 08:30:18,612] Trial 228 finished with value: 0.6686936936936937 and parameters: {'n_estimators': 491, 'max_depth': 3, 'learning_rate': 0.012989766707009433, 'subsample': 0.9825727745850837, 'colsample_bytree': 0.7324237768699186, 'gamma': 0.21771047433530952, 'min_child_weight': 1}. Best is trial 124 with value: 0.6747747747747748.\n",
            "[I 2025-05-01 08:30:20,599] Trial 229 finished with value: 0.6684684684684684 and parameters: {'n_estimators': 482, 'max_depth': 3, 'learning_rate': 0.01811885746325633, 'subsample': 0.79611570612696, 'colsample_bytree': 0.8753074806785522, 'gamma': 0.2517991482029321, 'min_child_weight': 1}. Best is trial 124 with value: 0.6747747747747748.\n",
            "[I 2025-05-01 08:30:39,424] Trial 230 finished with value: 0.6599099099099099 and parameters: {'n_estimators': 500, 'max_depth': 9, 'learning_rate': 0.023261012555999196, 'subsample': 0.9475015275715314, 'colsample_bytree': 0.7380633921163388, 'gamma': 0.2632235833737627, 'min_child_weight': 1}. Best is trial 124 with value: 0.6747747747747748.\n",
            "[I 2025-05-01 08:30:41,272] Trial 231 finished with value: 0.6686936936936937 and parameters: {'n_estimators': 468, 'max_depth': 3, 'learning_rate': 0.02694096319037804, 'subsample': 0.9771778329470157, 'colsample_bytree': 0.7247936169276943, 'gamma': 0.30799487986001456, 'min_child_weight': 1}. Best is trial 124 with value: 0.6747747747747748.\n",
            "[I 2025-05-01 08:30:43,130] Trial 232 finished with value: 0.668918918918919 and parameters: {'n_estimators': 473, 'max_depth': 3, 'learning_rate': 0.030571291037167228, 'subsample': 0.969649924790569, 'colsample_bytree': 0.720398055661411, 'gamma': 0.27375679097686023, 'min_child_weight': 1}. Best is trial 124 with value: 0.6747747747747748.\n",
            "[I 2025-05-01 08:30:45,068] Trial 233 finished with value: 0.6718468468468468 and parameters: {'n_estimators': 487, 'max_depth': 3, 'learning_rate': 0.02162774135704351, 'subsample': 0.9545136200305169, 'colsample_bytree': 0.7322522798486373, 'gamma': 0.2400098027508298, 'min_child_weight': 1}. Best is trial 124 with value: 0.6747747747747748.\n",
            "[I 2025-05-01 08:30:46,970] Trial 234 finished with value: 0.6614864864864864 and parameters: {'n_estimators': 486, 'max_depth': 3, 'learning_rate': 0.06490711836704566, 'subsample': 0.9570974168773219, 'colsample_bytree': 0.8444738780615025, 'gamma': 0.23521314970421325, 'min_child_weight': 1}. Best is trial 124 with value: 0.6747747747747748.\n",
            "[I 2025-05-01 08:30:50,861] Trial 235 finished with value: 0.6720720720720721 and parameters: {'n_estimators': 479, 'max_depth': 3, 'learning_rate': 0.017089353751025247, 'subsample': 0.9426671186085694, 'colsample_bytree': 0.7472018101337023, 'gamma': 0.021191259082324432, 'min_child_weight': 1}. Best is trial 124 with value: 0.6747747747747748.\n",
            "[I 2025-05-01 08:30:52,846] Trial 236 finished with value: 0.6657657657657657 and parameters: {'n_estimators': 488, 'max_depth': 3, 'learning_rate': 0.020386557189315424, 'subsample': 0.7762442810171105, 'colsample_bytree': 0.7496989856196762, 'gamma': 0.006024049517073861, 'min_child_weight': 1}. Best is trial 124 with value: 0.6747747747747748.\n",
            "[I 2025-05-01 08:30:54,773] Trial 237 finished with value: 0.6695945945945946 and parameters: {'n_estimators': 482, 'max_depth': 3, 'learning_rate': 0.0242960846040699, 'subsample': 0.9274212054532385, 'colsample_bytree': 0.7412522571042931, 'gamma': 0.020258792442667775, 'min_child_weight': 1}. Best is trial 124 with value: 0.6747747747747748.\n",
            "[I 2025-05-01 08:31:04,987] Trial 238 finished with value: 0.6608108108108108 and parameters: {'n_estimators': 337, 'max_depth': 8, 'learning_rate': 0.01945356460056732, 'subsample': 0.9550506391137731, 'colsample_bytree': 0.7539786245207801, 'gamma': 0.00012920631157926216, 'min_child_weight': 1}. Best is trial 124 with value: 0.6747747747747748.\n",
            "[I 2025-05-01 08:31:07,121] Trial 239 finished with value: 0.6677927927927928 and parameters: {'n_estimators': 495, 'max_depth': 3, 'learning_rate': 0.010105613305987108, 'subsample': 0.9395157328645676, 'colsample_bytree': 0.7576550141363223, 'gamma': 0.02100678898921215, 'min_child_weight': 3}. Best is trial 124 with value: 0.6747747747747748.\n",
            "[I 2025-05-01 08:31:09,008] Trial 240 finished with value: 0.6695945945945946 and parameters: {'n_estimators': 477, 'max_depth': 3, 'learning_rate': 0.026052118000475945, 'subsample': 0.9997996619307871, 'colsample_bytree': 0.7460452950757296, 'gamma': 0.03578641136354932, 'min_child_weight': 1}. Best is trial 124 with value: 0.6747747747747748.\n",
            "[I 2025-05-01 08:31:10,935] Trial 241 finished with value: 0.6695945945945946 and parameters: {'n_estimators': 475, 'max_depth': 3, 'learning_rate': 0.015791492742289012, 'subsample': 0.9480486476378178, 'colsample_bytree': 0.7372851725131204, 'gamma': 0.24225259758092016, 'min_child_weight': 1}. Best is trial 124 with value: 0.6747747747747748.\n",
            "[I 2025-05-01 08:31:13,362] Trial 242 finished with value: 0.6704954954954955 and parameters: {'n_estimators': 467, 'max_depth': 3, 'learning_rate': 0.0175707809319884, 'subsample': 0.9339856183426622, 'colsample_bytree': 0.7308805843202474, 'gamma': 0.29974051737811996, 'min_child_weight': 1}. Best is trial 124 with value: 0.6747747747747748.\n",
            "[I 2025-05-01 08:31:16,699] Trial 243 finished with value: 0.670045045045045 and parameters: {'n_estimators': 487, 'max_depth': 3, 'learning_rate': 0.022272845607975388, 'subsample': 0.9607781660373114, 'colsample_bytree': 0.7306354125655626, 'gamma': 0.02941283699334206, 'min_child_weight': 1}. Best is trial 124 with value: 0.6747747747747748.\n",
            "[I 2025-05-01 08:31:18,607] Trial 244 finished with value: 0.6677927927927928 and parameters: {'n_estimators': 476, 'max_depth': 3, 'learning_rate': 0.015289418571780697, 'subsample': 0.9184190561691609, 'colsample_bytree': 0.7069302066218919, 'gamma': 0.010135381344703242, 'min_child_weight': 1}. Best is trial 124 with value: 0.6747747747747748.\n",
            "[I 2025-05-01 08:31:20,630] Trial 245 finished with value: 0.6693693693693694 and parameters: {'n_estimators': 493, 'max_depth': 3, 'learning_rate': 0.02139379562491776, 'subsample': 0.9451724403209633, 'colsample_bytree': 0.7906078695046486, 'gamma': 0.050171244498046566, 'min_child_weight': 1}. Best is trial 124 with value: 0.6747747747747748.\n",
            "[I 2025-05-01 08:31:22,589] Trial 246 finished with value: 0.6693693693693694 and parameters: {'n_estimators': 465, 'max_depth': 3, 'learning_rate': 0.026628068061367537, 'subsample': 0.9789146762472071, 'colsample_bytree': 0.7353833483291151, 'gamma': 0.019521669902423086, 'min_child_weight': 1}. Best is trial 124 with value: 0.6747747747747748.\n",
            "[I 2025-05-01 08:31:24,144] Trial 247 finished with value: 0.6657657657657657 and parameters: {'n_estimators': 361, 'max_depth': 3, 'learning_rate': 0.013218674382087963, 'subsample': 0.991559402914, 'colsample_bytree': 0.7764968621336925, 'gamma': 0.20544101454624314, 'min_child_weight': 1}. Best is trial 124 with value: 0.6747747747747748.\n",
            "[I 2025-05-01 08:31:28,122] Trial 248 finished with value: 0.6711711711711712 and parameters: {'n_estimators': 500, 'max_depth': 3, 'learning_rate': 0.01829314141339993, 'subsample': 0.9530770864953236, 'colsample_bytree': 0.7161155414933947, 'gamma': 0.0389342990771283, 'min_child_weight': 2}. Best is trial 124 with value: 0.6747747747747748.\n",
            "[I 2025-05-01 08:31:29,659] Trial 249 finished with value: 0.668918918918919 and parameters: {'n_estimators': 373, 'max_depth': 3, 'learning_rate': 0.0227248181640718, 'subsample': 0.9660286064333925, 'colsample_bytree': 0.7439126429966174, 'gamma': 0.2893959436903367, 'min_child_weight': 1}. Best is trial 124 with value: 0.6747747747747748.\n",
            "[I 2025-05-01 08:31:31,581] Trial 250 finished with value: 0.6675675675675675 and parameters: {'n_estimators': 482, 'max_depth': 3, 'learning_rate': 0.02947294366745066, 'subsample': 0.9801662108795844, 'colsample_bytree': 0.7297526756315293, 'gamma': 0.3207748208971373, 'min_child_weight': 1}. Best is trial 124 with value: 0.6747747747747748.\n",
            "[I 2025-05-01 08:31:33,256] Trial 251 finished with value: 0.6704954954954955 and parameters: {'n_estimators': 417, 'max_depth': 3, 'learning_rate': 0.025801108563598088, 'subsample': 0.9622837233779427, 'colsample_bytree': 0.6869397366498762, 'gamma': 0.050789201548071296, 'min_child_weight': 1}. Best is trial 124 with value: 0.6747747747747748.\n",
            "[I 2025-05-01 08:31:35,085] Trial 252 finished with value: 0.6691441441441441 and parameters: {'n_estimators': 456, 'max_depth': 3, 'learning_rate': 0.016957395678205922, 'subsample': 0.7653835979859983, 'colsample_bytree': 0.7258318475791745, 'gamma': 0.3423473841210097, 'min_child_weight': 1}. Best is trial 124 with value: 0.6747747747747748.\n",
            "[I 2025-05-01 08:31:37,199] Trial 253 finished with value: 0.6617117117117117 and parameters: {'n_estimators': 383, 'max_depth': 4, 'learning_rate': 0.035045212988169545, 'subsample': 0.7826650053995999, 'colsample_bytree': 0.70189027035394, 'gamma': 0.02954264043908069, 'min_child_weight': 1}. Best is trial 124 with value: 0.6747747747747748.\n",
            "[I 2025-05-01 08:31:41,012] Trial 254 finished with value: 0.6702702702702703 and parameters: {'n_estimators': 467, 'max_depth': 3, 'learning_rate': 0.02110752461394167, 'subsample': 0.9744329426516987, 'colsample_bytree': 0.7145547909968092, 'gamma': 0.013477393335652694, 'min_child_weight': 3}. Best is trial 124 with value: 0.6747747747747748.\n",
            "[I 2025-05-01 08:31:41,917] Trial 255 finished with value: 0.668018018018018 and parameters: {'n_estimators': 191, 'max_depth': 3, 'learning_rate': 0.05737762076886344, 'subsample': 0.9855887472621536, 'colsample_bytree': 0.7365945927144987, 'gamma': 0.039223125176669954, 'min_child_weight': 1}. Best is trial 124 with value: 0.6747747747747748.\n",
            "[I 2025-05-01 08:31:43,815] Trial 256 finished with value: 0.6675675675675675 and parameters: {'n_estimators': 478, 'max_depth': 3, 'learning_rate': 0.014547034436204136, 'subsample': 0.9513109042398198, 'colsample_bytree': 0.7510328136865859, 'gamma': 0.22773523471852788, 'min_child_weight': 1}. Best is trial 124 with value: 0.6747747747747748.\n",
            "[I 2025-05-01 08:31:45,632] Trial 257 finished with value: 0.6704954954954955 and parameters: {'n_estimators': 471, 'max_depth': 3, 'learning_rate': 0.03207429141411774, 'subsample': 0.9919876181263434, 'colsample_bytree': 0.7262361162914029, 'gamma': 0.025500712064408976, 'min_child_weight': 1}. Best is trial 124 with value: 0.6747747747747748.\n",
            "[I 2025-05-01 08:31:47,534] Trial 258 finished with value: 0.6722972972972973 and parameters: {'n_estimators': 490, 'max_depth': 3, 'learning_rate': 0.024701275805029344, 'subsample': 0.8998342358505937, 'colsample_bytree': 0.6928033486187319, 'gamma': 0.05644758220721876, 'min_child_weight': 2}. Best is trial 124 with value: 0.6747747747747748.\n",
            "[I 2025-05-01 08:31:49,370] Trial 259 finished with value: 0.6619369369369369 and parameters: {'n_estimators': 492, 'max_depth': 3, 'learning_rate': 0.10112215828252762, 'subsample': 0.8954237149862053, 'colsample_bytree': 0.6943944023994487, 'gamma': 0.26972511543505984, 'min_child_weight': 2}. Best is trial 124 with value: 0.6747747747747748.\n",
            "[I 2025-05-01 08:31:52,521] Trial 260 finished with value: 0.6702702702702703 and parameters: {'n_estimators': 433, 'max_depth': 3, 'learning_rate': 0.028176431385912446, 'subsample': 0.892493492141151, 'colsample_bytree': 0.6386868331773968, 'gamma': 0.31048581239219447, 'min_child_weight': 3}. Best is trial 124 with value: 0.6747747747747748.\n",
            "[I 2025-05-01 08:31:53,991] Trial 261 finished with value: 0.6698198198198199 and parameters: {'n_estimators': 245, 'max_depth': 3, 'learning_rate': 0.024358790795285485, 'subsample': 0.9053793912997333, 'colsample_bytree': 0.6777153235183011, 'gamma': 0.010180749082061338, 'min_child_weight': 2}. Best is trial 124 with value: 0.6747747747747748.\n",
            "[I 2025-05-01 08:31:55,835] Trial 262 finished with value: 0.665990990990991 and parameters: {'n_estimators': 486, 'max_depth': 3, 'learning_rate': 0.03710424030018751, 'subsample': 0.9707482074774899, 'colsample_bytree': 0.6874229073682532, 'gamma': 0.04766629613833752, 'min_child_weight': 2}. Best is trial 124 with value: 0.6747747747747748.\n",
            "[I 2025-05-01 08:31:58,560] Trial 263 finished with value: 0.6644144144144144 and parameters: {'n_estimators': 353, 'max_depth': 5, 'learning_rate': 0.028011008584043068, 'subsample': 0.8831623146299603, 'colsample_bytree': 0.7085501049097834, 'gamma': 0.03591870646388308, 'min_child_weight': 1}. Best is trial 124 with value: 0.6747747747747748.\n",
            "[I 2025-05-01 08:32:00,110] Trial 264 finished with value: 0.6684684684684684 and parameters: {'n_estimators': 393, 'max_depth': 3, 'learning_rate': 0.02307055463033499, 'subsample': 0.9828134122211153, 'colsample_bytree': 0.6277270951090754, 'gamma': 0.021674838491893923, 'min_child_weight': 3}. Best is trial 124 with value: 0.6747747747747748.\n",
            "[I 2025-05-01 08:32:01,901] Trial 265 finished with value: 0.6698198198198199 and parameters: {'n_estimators': 447, 'max_depth': 3, 'learning_rate': 0.03175121234274588, 'subsample': 0.8716545970447283, 'colsample_bytree': 0.7660238282442002, 'gamma': 0.11798709822168343, 'min_child_weight': 1}. Best is trial 124 with value: 0.6747747747747748.\n",
            "[I 2025-05-01 08:32:03,012] Trial 266 finished with value: 0.6646396396396397 and parameters: {'n_estimators': 222, 'max_depth': 3, 'learning_rate': 0.019368812539857814, 'subsample': 0.966432853985676, 'colsample_bytree': 0.9970536308539276, 'gamma': 0.24918998075797655, 'min_child_weight': 1}. Best is trial 124 with value: 0.6747747747747748.\n",
            "[I 2025-05-01 08:32:07,534] Trial 267 finished with value: 0.6686936936936937 and parameters: {'n_estimators': 500, 'max_depth': 4, 'learning_rate': 0.025600126844456762, 'subsample': 0.9939516423546765, 'colsample_bytree': 0.6984901551161135, 'gamma': 0.2848514935815285, 'min_child_weight': 4}. Best is trial 124 with value: 0.6747747747747748.\n",
            "[I 2025-05-01 08:32:09,365] Trial 268 finished with value: 0.6621621621621622 and parameters: {'n_estimators': 485, 'max_depth': 3, 'learning_rate': 0.12258949578210279, 'subsample': 0.9114968624672874, 'colsample_bytree': 0.6917664985131063, 'gamma': 0.03156305779408356, 'min_child_weight': 1}. Best is trial 124 with value: 0.6747747747747748.\n",
            "[I 2025-05-01 08:32:11,170] Trial 269 finished with value: 0.6716216216216216 and parameters: {'n_estimators': 457, 'max_depth': 3, 'learning_rate': 0.021377726985005892, 'subsample': 0.9751013191974301, 'colsample_bytree': 0.7129521507611659, 'gamma': 0.062023389766722975, 'min_child_weight': 2}. Best is trial 124 with value: 0.6747747747747748.\n",
            "[I 2025-05-01 08:32:13,141] Trial 270 finished with value: 0.6716216216216216 and parameters: {'n_estimators': 456, 'max_depth': 3, 'learning_rate': 0.02135055417194598, 'subsample': 0.9766278083132764, 'colsample_bytree': 0.9319730460794605, 'gamma': 0.06234136818284253, 'min_child_weight': 2}. Best is trial 124 with value: 0.6747747747747748.\n",
            "[I 2025-05-01 08:32:15,119] Trial 271 finished with value: 0.6713963963963964 and parameters: {'n_estimators': 459, 'max_depth': 3, 'learning_rate': 0.020476725414237864, 'subsample': 0.9798791291872194, 'colsample_bytree': 0.9383694604467713, 'gamma': 0.06271791751951133, 'min_child_weight': 2}. Best is trial 124 with value: 0.6747747747747748.\n",
            "[I 2025-05-01 08:32:18,995] Trial 272 finished with value: 0.6731981981981981 and parameters: {'n_estimators': 452, 'max_depth': 3, 'learning_rate': 0.019378495699266047, 'subsample': 0.9766045319778603, 'colsample_bytree': 0.9275944845773734, 'gamma': 0.08352733439772116, 'min_child_weight': 2}. Best is trial 124 with value: 0.6747747747747748.\n",
            "[I 2025-05-01 08:32:20,961] Trial 273 finished with value: 0.6691441441441441 and parameters: {'n_estimators': 450, 'max_depth': 3, 'learning_rate': 0.01784404917949399, 'subsample': 0.9784340250422087, 'colsample_bytree': 0.9589061643553192, 'gamma': 0.08492919742062746, 'min_child_weight': 2}. Best is trial 124 with value: 0.6747747747747748.\n",
            "[I 2025-05-01 08:32:22,924] Trial 274 finished with value: 0.6691441441441441 and parameters: {'n_estimators': 442, 'max_depth': 3, 'learning_rate': 0.012166947166085785, 'subsample': 0.9714361138792967, 'colsample_bytree': 0.9260765281552603, 'gamma': 0.10459100542531714, 'min_child_weight': 2}. Best is trial 124 with value: 0.6747747747747748.\n",
            "[I 2025-05-01 08:32:33,697] Trial 275 finished with value: 0.6581081081081082 and parameters: {'n_estimators': 462, 'max_depth': 7, 'learning_rate': 0.021733739777793422, 'subsample': 0.9862305971614048, 'colsample_bytree': 0.89434728609262, 'gamma': 0.079682071481536, 'min_child_weight': 2}. Best is trial 124 with value: 0.6747747747747748.\n",
            "[I 2025-05-01 08:32:35,787] Trial 276 finished with value: 0.6722972972972973 and parameters: {'n_estimators': 459, 'max_depth': 3, 'learning_rate': 0.018731432293401698, 'subsample': 0.9762269672038071, 'colsample_bytree': 0.9827807104678796, 'gamma': 0.09439019829241824, 'min_child_weight': 2}. Best is trial 124 with value: 0.6747747747747748.\n",
            "[I 2025-05-01 08:32:38,572] Trial 277 finished with value: 0.6704954954954955 and parameters: {'n_estimators': 454, 'max_depth': 4, 'learning_rate': 0.015693016744210326, 'subsample': 0.9947599611037542, 'colsample_bytree': 0.9767737701110161, 'gamma': 0.08858508739415763, 'min_child_weight': 2}. Best is trial 124 with value: 0.6747747747747748.\n",
            "[I 2025-05-01 08:32:40,609] Trial 278 finished with value: 0.6709459459459459 and parameters: {'n_estimators': 464, 'max_depth': 3, 'learning_rate': 0.018263100548993036, 'subsample': 0.9707573745654406, 'colsample_bytree': 0.986789078917728, 'gamma': 0.09760336934291454, 'min_child_weight': 2}. Best is trial 124 with value: 0.6747747747747748.\n",
            "[I 2025-05-01 08:32:43,986] Trial 279 finished with value: 0.6542792792792793 and parameters: {'n_estimators': 449, 'max_depth': 3, 'learning_rate': 0.16862281950220417, 'subsample': 0.9863277776895786, 'colsample_bytree': 0.712717371375362, 'gamma': 0.0714720924137162, 'min_child_weight': 2}. Best is trial 124 with value: 0.6747747747747748.\n",
            "[I 2025-05-01 08:32:46,261] Trial 280 finished with value: 0.6662162162162162 and parameters: {'n_estimators': 467, 'max_depth': 3, 'learning_rate': 0.012283565003650177, 'subsample': 0.964204095021592, 'colsample_bytree': 0.9977323396153043, 'gamma': 0.08101103343771138, 'min_child_weight': 2}. Best is trial 124 with value: 0.6747747747747748.\n",
            "[I 2025-05-01 08:32:48,170] Trial 281 finished with value: 0.6711711711711712 and parameters: {'n_estimators': 437, 'max_depth': 3, 'learning_rate': 0.023686873956173037, 'subsample': 0.9765613611970057, 'colsample_bytree': 0.9878704604036268, 'gamma': 0.10969161988277651, 'min_child_weight': 2}. Best is trial 124 with value: 0.6747747747747748.\n",
            "[I 2025-05-01 08:32:50,192] Trial 282 finished with value: 0.6684684684684684 and parameters: {'n_estimators': 456, 'max_depth': 3, 'learning_rate': 0.015786833487176497, 'subsample': 0.9023678574885011, 'colsample_bytree': 0.9881616881233896, 'gamma': 0.09436662551484651, 'min_child_weight': 2}. Best is trial 124 with value: 0.6747747747747748.\n",
            "[I 2025-05-01 08:32:52,238] Trial 283 finished with value: 0.6666666666666666 and parameters: {'n_estimators': 473, 'max_depth': 3, 'learning_rate': 0.028502367166011316, 'subsample': 0.8793374867480558, 'colsample_bytree': 0.9492152169560891, 'gamma': 0.33126374651023144, 'min_child_weight': 2}. Best is trial 124 with value: 0.6747747747747748.\n",
            "[I 2025-05-01 08:32:58,824] Trial 284 finished with value: 0.6702702702702703 and parameters: {'n_estimators': 447, 'max_depth': 6, 'learning_rate': 0.019337831628583806, 'subsample': 0.9601689350688407, 'colsample_bytree': 0.7164741293472322, 'gamma': 0.0688954331179982, 'min_child_weight': 2}. Best is trial 124 with value: 0.6747747747747748.\n",
            "[I 2025-05-01 08:33:00,767] Trial 285 finished with value: 0.6511261261261261 and parameters: {'n_estimators': 461, 'max_depth': 3, 'learning_rate': 0.13487549656219977, 'subsample': 0.678802153110835, 'colsample_bytree': 0.9139620111982796, 'gamma': 0.05601915164980018, 'min_child_weight': 1}. Best is trial 124 with value: 0.6747747747747748.\n",
            "[I 2025-05-01 08:33:02,678] Trial 286 finished with value: 0.670045045045045 and parameters: {'n_estimators': 479, 'max_depth': 3, 'learning_rate': 0.023872709955349406, 'subsample': 0.9993804787349025, 'colsample_bytree': 0.7045491710236169, 'gamma': 0.25751745580338375, 'min_child_weight': 2}. Best is trial 124 with value: 0.6747747747747748.\n",
            "[I 2025-05-01 08:33:04,510] Trial 287 finished with value: 0.6664414414414415 and parameters: {'n_estimators': 468, 'max_depth': 3, 'learning_rate': 0.03219268224279228, 'subsample': 0.9832301131931278, 'colsample_bytree': 0.7207917893404687, 'gamma': 0.30403639135489813, 'min_child_weight': 1}. Best is trial 124 with value: 0.6747747747747748.\n",
            "[I 2025-05-01 08:33:07,401] Trial 288 finished with value: 0.6695945945945946 and parameters: {'n_estimators': 454, 'max_depth': 4, 'learning_rate': 0.019277601037456453, 'subsample': 0.9677003300773356, 'colsample_bytree': 0.9836103763616297, 'gamma': 0.3189223622475691, 'min_child_weight': 2}. Best is trial 124 with value: 0.6747747747747748.\n",
            "[I 2025-05-01 08:33:11,226] Trial 289 finished with value: 0.6686936936936937 and parameters: {'n_estimators': 480, 'max_depth': 3, 'learning_rate': 0.013631874771825375, 'subsample': 0.9879540270379514, 'colsample_bytree': 0.9637343661333502, 'gamma': 0.04806303300923062, 'min_child_weight': 1}. Best is trial 124 with value: 0.6747747747747748.\n",
            "[I 2025-05-01 08:33:13,077] Trial 290 finished with value: 0.6686936936936937 and parameters: {'n_estimators': 471, 'max_depth': 3, 'learning_rate': 0.026062907781694296, 'subsample': 0.9751412636273571, 'colsample_bytree': 0.7076036315201706, 'gamma': 0.061077772024063406, 'min_child_weight': 1}. Best is trial 124 with value: 0.6747747747747748.\n",
            "[I 2025-05-01 08:33:14,899] Trial 291 finished with value: 0.6657657657657657 and parameters: {'n_estimators': 443, 'max_depth': 3, 'learning_rate': 0.010218574540234893, 'subsample': 0.9582096884377552, 'colsample_bytree': 0.7419437776510337, 'gamma': 0.274262651200552, 'min_child_weight': 1}. Best is trial 124 with value: 0.6747747747747748.\n",
            "[I 2025-05-01 08:33:16,765] Trial 292 finished with value: 0.668918918918919 and parameters: {'n_estimators': 461, 'max_depth': 3, 'learning_rate': 0.02206783993752847, 'subsample': 0.8869795140405278, 'colsample_bytree': 0.7241242710477765, 'gamma': 0.0420713063356874, 'min_child_weight': 1}. Best is trial 124 with value: 0.6747747747747748.\n",
            "[I 2025-05-01 08:33:18,481] Trial 293 finished with value: 0.6709459459459459 and parameters: {'n_estimators': 431, 'max_depth': 3, 'learning_rate': 0.02908898733944932, 'subsample': 0.9300864426000338, 'colsample_bytree': 0.7013324326335831, 'gamma': 0.08615275081623038, 'min_child_weight': 10}. Best is trial 124 with value: 0.6747747747747748.\n",
            "[I 2025-05-01 08:33:21,261] Trial 294 finished with value: 0.6707207207207208 and parameters: {'n_estimators': 490, 'max_depth': 3, 'learning_rate': 0.017046205940352305, 'subsample': 0.9904330185574508, 'colsample_bytree': 0.7338967773432566, 'gamma': 0.07234239771339207, 'min_child_weight': 1}. Best is trial 124 with value: 0.6747747747747748.\n",
            "[I 2025-05-01 08:33:24,164] Trial 295 finished with value: 0.6695945945945946 and parameters: {'n_estimators': 477, 'max_depth': 3, 'learning_rate': 0.03559103937590855, 'subsample': 0.9726847816663747, 'colsample_bytree': 0.7192051045822139, 'gamma': 0.05588719678185676, 'min_child_weight': 1}. Best is trial 124 with value: 0.6747747747747748.\n",
            "[I 2025-05-01 08:33:25,989] Trial 296 finished with value: 0.6734234234234234 and parameters: {'n_estimators': 464, 'max_depth': 3, 'learning_rate': 0.0233383186048, 'subsample': 0.941410988819062, 'colsample_bytree': 0.7128523209539139, 'gamma': 0.19075573503158258, 'min_child_weight': 3}. Best is trial 124 with value: 0.6747747747747748.\n",
            "[I 2025-05-01 08:33:27,794] Trial 297 finished with value: 0.6677927927927928 and parameters: {'n_estimators': 470, 'max_depth': 3, 'learning_rate': 0.02587380687552359, 'subsample': 0.9411432199669056, 'colsample_bytree': 0.6807958451904645, 'gamma': 0.19612157321749696, 'min_child_weight': 3}. Best is trial 124 with value: 0.6747747747747748.\n",
            "[I 2025-05-01 08:33:29,653] Trial 298 finished with value: 0.6691441441441441 and parameters: {'n_estimators': 484, 'max_depth': 3, 'learning_rate': 0.030880672012594243, 'subsample': 0.9354534059690706, 'colsample_bytree': 0.6956968970929233, 'gamma': 0.18122650457204273, 'min_child_weight': 3}. Best is trial 124 with value: 0.6747747747747748.\n",
            "[I 2025-05-01 08:33:31,500] Trial 299 finished with value: 0.6698198198198199 and parameters: {'n_estimators': 465, 'max_depth': 3, 'learning_rate': 0.024228862635111415, 'subsample': 0.9553347523153761, 'colsample_bytree': 0.7285471604724439, 'gamma': 0.209305657795248, 'min_child_weight': 1}. Best is trial 124 with value: 0.6747747747747748.\n",
            "Best Accuracy: 0.6747747747747748\n",
            "Best Params: {'n_estimators': 427, 'max_depth': 3, 'learning_rate': 0.021978188969319974, 'subsample': 0.9760848989537714, 'colsample_bytree': 0.7301003992053027, 'gamma': 0.2749409209747699, 'min_child_weight': 1}\n"
          ]
        }
      ]
    },
    {
      "cell_type": "code",
      "source": [
        "print(\"Best Accuracy:\", study.best_value)\n",
        "print(\"Best Params:\", study.best_params)"
      ],
      "metadata": {
        "colab": {
          "base_uri": "https://localhost:8080/"
        },
        "id": "DR9v7zGV-1W2",
        "outputId": "7967c621-379e-418a-b403-c2a2bccf6465"
      },
      "execution_count": 10,
      "outputs": [
        {
          "output_type": "stream",
          "name": "stdout",
          "text": [
            "Best Accuracy: 0.6747747747747748\n",
            "Best Params: {'n_estimators': 427, 'max_depth': 3, 'learning_rate': 0.021978188969319974, 'subsample': 0.9760848989537714, 'colsample_bytree': 0.7301003992053027, 'gamma': 0.2749409209747699, 'min_child_weight': 1}\n"
          ]
        }
      ]
    },
    {
      "cell_type": "markdown",
      "source": [
        "### ✔️ Final Model: 파라미터 최적 모델로 학습: ***67.5%***\n",
        "n_trials 300으로 탐색한 결과 나온 최적 파라미터"
      ],
      "metadata": {
        "id": "kMARdIFLZ4Yj"
      }
    },
    {
      "cell_type": "code",
      "source": [
        "from xgboost import XGBClassifier\n",
        "\n",
        "best_params = {\n",
        "    'n_estimators': 427,\n",
        "    'max_depth': 3,\n",
        "    'learning_rate': 0.021978188969319974,\n",
        "    'subsample': 0.9760848989537714,\n",
        "    'colsample_bytree': 0.7301003992053027,\n",
        "    'gamma': 0.2749409209747699,\n",
        "    'min_child_weight': 1,\n",
        "    'eval_metric': 'logloss',\n",
        "    'random_state': 42\n",
        "}\n",
        "\n",
        "final_model = XGBClassifier(**best_params)\n",
        "final_model.fit(X_train, y_train)\n",
        "\n",
        "y_pred_valid = final_model.predict(X_valid)\n",
        "\n",
        "# 성능 평가\n",
        "print(\"Final Tuned Model Accuracy:\", accuracy_score(y_valid, y_pred_valid))\n",
        "print(\"Final Tuned Model F1 Score:\", f1_score(y_valid, y_pred_valid))\n",
        "print(\"\\nClassification Report:\\n\")\n",
        "print(classification_report(y_valid, y_pred_valid))"
      ],
      "metadata": {
        "colab": {
          "base_uri": "https://localhost:8080/"
        },
        "id": "wn2XJ3bIdoBd",
        "outputId": "d09acf04-bcf2-4492-c108-e857d255f626"
      },
      "execution_count": 12,
      "outputs": [
        {
          "output_type": "stream",
          "name": "stdout",
          "text": [
            "Final Tuned Model Accuracy: 0.6747747747747748\n",
            "Final Tuned Model F1 Score: 0.6727107887579329\n",
            "\n",
            "Classification Report:\n",
            "\n",
            "              precision    recall  f1-score   support\n",
            "\n",
            "           0       0.68      0.68      0.68      2239\n",
            "           1       0.67      0.67      0.67      2201\n",
            "\n",
            "    accuracy                           0.67      4440\n",
            "   macro avg       0.67      0.67      0.67      4440\n",
            "weighted avg       0.67      0.67      0.67      4440\n",
            "\n"
          ]
        }
      ]
    },
    {
      "cell_type": "markdown",
      "source": [
        "### ✔️ 튜닝 XGBoost & random Forest 앙상블: ***67.1%***"
      ],
      "metadata": {
        "id": "tpbm4zWSe_hn"
      }
    },
    {
      "cell_type": "code",
      "source": [
        "from sklearn.ensemble import StackingClassifier, RandomForestClassifier\n",
        "from sklearn.linear_model import LogisticRegression\n",
        "\n",
        "rf_model = RandomForestClassifier(n_estimators=100, random_state=42)\n",
        "\n",
        "stack = StackingClassifier(\n",
        "    estimators=[('xgb', final_model), ('rf', rf_model)],\n",
        "    final_estimator=LogisticRegression()\n",
        ")\n",
        "\n",
        "stack.fit(X_train, y_train)\n",
        "y_pred_stack = stack.predict(X_valid)\n",
        "\n",
        "print(\"Stacking Accuracy:\", accuracy_score(y_valid, y_pred_stack))\n",
        "print(\"Stacking F1 Score:\", f1_score(y_valid, y_pred_stack))\n",
        "print(classification_report(y_valid, y_pred_stack))\n"
      ],
      "metadata": {
        "colab": {
          "base_uri": "https://localhost:8080/"
        },
        "id": "dm7keluffBvK",
        "outputId": "2062c88b-7cdf-490c-f56f-fc46ae82e93f"
      },
      "execution_count": 16,
      "outputs": [
        {
          "output_type": "stream",
          "name": "stdout",
          "text": [
            "Stacking Accuracy: 0.6709459459459459\n",
            "Stacking F1 Score: 0.672053872053872\n",
            "              precision    recall  f1-score   support\n",
            "\n",
            "           0       0.68      0.66      0.67      2239\n",
            "           1       0.66      0.68      0.67      2201\n",
            "\n",
            "    accuracy                           0.67      4440\n",
            "   macro avg       0.67      0.67      0.67      4440\n",
            "weighted avg       0.67      0.67      0.67      4440\n",
            "\n"
          ]
        }
      ]
    }
  ]
}