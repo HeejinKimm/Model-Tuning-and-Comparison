{
  "nbformat": 4,
  "nbformat_minor": 0,
  "metadata": {
    "colab": {
      "provenance": []
    },
    "kernelspec": {
      "name": "python3",
      "display_name": "Python 3"
    },
    "language_info": {
      "name": "python"
    }
  },
  "cells": [
    {
      "cell_type": "markdown",
      "source": [
        "###✔️ 전처리 해둔 데이터 사용"
      ],
      "metadata": {
        "id": "kJnXAVg-5FcL"
      }
    },
    {
      "cell_type": "code",
      "execution_count": 2,
      "metadata": {
        "id": "OrFgNw3QVKq_"
      },
      "outputs": [],
      "source": [
        "import pandas as pd\n",
        "from sklearn.model_selection import train_test_split\n",
        "\n",
        "train_df = pd.read_csv(\"train_processed.csv\")\n",
        "test_df = pd.read_csv(\"test_processed.csv\")\n",
        "\n",
        "X = train_df.drop(columns=['id', 'y', 'shares'])\n",
        "y = train_df['y']\n",
        "\n",
        "X_train, X_valid, y_train, y_valid = train_test_split(X, y, test_size=0.2, random_state=42, stratify=y)"
      ]
    },
    {
      "cell_type": "markdown",
      "source": [
        "### ✔️ XGBoost 모델 사용: ***65.5%***"
      ],
      "metadata": {
        "id": "0K-um3CE5UzQ"
      }
    },
    {
      "cell_type": "code",
      "source": [
        "import xgboost as xgb\n",
        "from sklearn.metrics import f1_score, accuracy_score, classification_report\n",
        "\n",
        "xgb_model = xgb.XGBClassifier(\n",
        "    n_estimators=300,\n",
        "    max_depth=6,\n",
        "    learning_rate=0.1,\n",
        "    subsample=0.8,\n",
        "    colsample_bytree=0.8,\n",
        "    random_state=42,\n",
        "    eval_metric='logloss'\n",
        ")\n",
        "xgb_model.fit(X_train, y_train)\n",
        "y_pred_xgb = xgb_model.predict(X_valid)\n",
        "\n",
        "print(\"XGBoost Accuracy:\", accuracy_score(y_valid, y_pred_xgb))\n",
        "print(\"XGBoost F1 Score:\", f1_score(y_valid, y_pred_xgb))\n",
        "print(\"\\n Classification Report:\\n\")\n",
        "print(classification_report(y_valid, y_pred_xgb))\n"
      ],
      "metadata": {
        "colab": {
          "base_uri": "https://localhost:8080/"
        },
        "id": "OoN6tyMFVkz4",
        "outputId": "b77e82c9-2647-4bdd-d5d1-7d9970307d7a"
      },
      "execution_count": 20,
      "outputs": [
        {
          "output_type": "stream",
          "name": "stdout",
          "text": [
            "XGBoost Accuracy: 0.6547297297297298\n",
            "XGBoost F1 Score: 0.6496\n",
            "\n",
            " Classification Report:\n",
            "\n",
            "              precision    recall  f1-score   support\n",
            "\n",
            "           0       0.66      0.66      0.66      2239\n",
            "           1       0.65      0.65      0.65      2201\n",
            "\n",
            "    accuracy                           0.65      4440\n",
            "   macro avg       0.65      0.65      0.65      4440\n",
            "weighted avg       0.65      0.65      0.65      4440\n",
            "\n"
          ]
        }
      ]
    },
    {
      "cell_type": "markdown",
      "source": [
        "### ✔️ 튜닝 시도 - RandomizedSearchCV : ***66.5%***"
      ],
      "metadata": {
        "id": "fU2oqfOpXBPq"
      }
    },
    {
      "cell_type": "code",
      "source": [
        "from sklearn.model_selection import RandomizedSearchCV\n",
        "from xgboost import XGBClassifier\n",
        "from sklearn.metrics import make_scorer, f1_score\n",
        "\n",
        "param_dist = {\n",
        "    'n_estimators': [100, 200, 300, 400],\n",
        "    'max_depth': [3, 5, 7, 9],\n",
        "    'learning_rate': [0.01, 0.05, 0.1, 0.2],\n",
        "    'subsample': [0.6, 0.8, 1.0],\n",
        "    'colsample_bytree': [0.6, 0.8, 1.0],\n",
        "    'gamma': [0, 0.1, 0.2, 0.5],\n",
        "    'min_child_weight': [1, 3, 5]\n",
        "}\n",
        "\n",
        "xgb_model = XGBClassifier(\n",
        "    eval_metric='logloss',\n",
        "    random_state= 42\n",
        ")\n",
        "\n",
        "scorer = make_scorer(f1_score)\n",
        "\n",
        "rs = RandomizedSearchCV(\n",
        "    xgb_model,\n",
        "    param_distributions=param_dist,\n",
        "    n_iter=30,\n",
        "    scoring=scorer,\n",
        "    cv=3,\n",
        "    verbose=1,\n",
        "    n_jobs=-1\n",
        ")\n",
        "\n",
        "rs.fit(X_train, y_train)\n",
        "\n",
        "best_model = rs.best_estimator_\n",
        "y_pred_best = best_model.predict(X_valid)"
      ],
      "metadata": {
        "colab": {
          "base_uri": "https://localhost:8080/"
        },
        "id": "p228l8KfW5bS",
        "outputId": "9fbce575-1793-4c9f-e837-1d600795409d"
      },
      "execution_count": 17,
      "outputs": [
        {
          "output_type": "stream",
          "name": "stdout",
          "text": [
            "Fitting 3 folds for each of 30 candidates, totalling 90 fits\n"
          ]
        }
      ]
    },
    {
      "cell_type": "code",
      "source": [
        "print(\"Tuned XGBoost Accuracy:\", accuracy_score(y_valid, y_pred_best))\n",
        "print(\"Tuned XGBoost F1 Score:\", f1_score(y_valid, y_pred_best))\n",
        "print(\"Best Params:\", rs.best_params_)"
      ],
      "metadata": {
        "colab": {
          "base_uri": "https://localhost:8080/"
        },
        "id": "55IkBDgVYoYC",
        "outputId": "e7451b6c-f9ea-4cf3-9811-c52ad0fbc195"
      },
      "execution_count": 19,
      "outputs": [
        {
          "output_type": "stream",
          "name": "stdout",
          "text": [
            "Tuned XGBoost Accuracy: 0.6648648648648648\n",
            "Tuned XGBoost F1 Score: 0.6635006784260515\n",
            "Best Params: {'subsample': 0.6, 'n_estimators': 300, 'min_child_weight': 5, 'max_depth': 9, 'learning_rate': 0.01, 'gamma': 0.2, 'colsample_bytree': 1.0}\n"
          ]
        }
      ]
    },
    {
      "cell_type": "markdown",
      "source": [
        "### ✔️ 더 정밀한 튜닝 - optuna: ***67.5%***\n"
      ],
      "metadata": {
        "id": "S1_XnhDNZAvO"
      }
    },
    {
      "cell_type": "code",
      "source": [
        "!pip install optuna\n"
      ],
      "metadata": {
        "colab": {
          "base_uri": "https://localhost:8080/"
        },
        "id": "7B8iOJUbZQcw",
        "outputId": "05b6de3d-db84-460d-8889-b1988b862a35",
        "collapsed": true
      },
      "execution_count": 7,
      "outputs": [
        {
          "output_type": "stream",
          "name": "stdout",
          "text": [
            "Collecting optuna\n",
            "  Downloading optuna-4.3.0-py3-none-any.whl.metadata (17 kB)\n",
            "Collecting alembic>=1.5.0 (from optuna)\n",
            "  Downloading alembic-1.15.2-py3-none-any.whl.metadata (7.3 kB)\n",
            "Collecting colorlog (from optuna)\n",
            "  Downloading colorlog-6.9.0-py3-none-any.whl.metadata (10 kB)\n",
            "Requirement already satisfied: numpy in /usr/local/lib/python3.11/dist-packages (from optuna) (2.0.2)\n",
            "Requirement already satisfied: packaging>=20.0 in /usr/local/lib/python3.11/dist-packages (from optuna) (24.2)\n",
            "Requirement already satisfied: sqlalchemy>=1.4.2 in /usr/local/lib/python3.11/dist-packages (from optuna) (2.0.40)\n",
            "Requirement already satisfied: tqdm in /usr/local/lib/python3.11/dist-packages (from optuna) (4.67.1)\n",
            "Requirement already satisfied: PyYAML in /usr/local/lib/python3.11/dist-packages (from optuna) (6.0.2)\n",
            "Requirement already satisfied: Mako in /usr/lib/python3/dist-packages (from alembic>=1.5.0->optuna) (1.1.3)\n",
            "Requirement already satisfied: typing-extensions>=4.12 in /usr/local/lib/python3.11/dist-packages (from alembic>=1.5.0->optuna) (4.13.2)\n",
            "Requirement already satisfied: greenlet>=1 in /usr/local/lib/python3.11/dist-packages (from sqlalchemy>=1.4.2->optuna) (3.2.1)\n",
            "Downloading optuna-4.3.0-py3-none-any.whl (386 kB)\n",
            "\u001b[2K   \u001b[90m━━━━━━━━━━━━━━━━━━━━━━━━━━━━━━━━━━━━━━━━\u001b[0m \u001b[32m386.6/386.6 kB\u001b[0m \u001b[31m6.7 MB/s\u001b[0m eta \u001b[36m0:00:00\u001b[0m\n",
            "\u001b[?25hDownloading alembic-1.15.2-py3-none-any.whl (231 kB)\n",
            "\u001b[2K   \u001b[90m━━━━━━━━━━━━━━━━━━━━━━━━━━━━━━━━━━━━━━━━\u001b[0m \u001b[32m231.9/231.9 kB\u001b[0m \u001b[31m23.9 MB/s\u001b[0m eta \u001b[36m0:00:00\u001b[0m\n",
            "\u001b[?25hDownloading colorlog-6.9.0-py3-none-any.whl (11 kB)\n",
            "Installing collected packages: colorlog, alembic, optuna\n",
            "Successfully installed alembic-1.15.2 colorlog-6.9.0 optuna-4.3.0\n"
          ]
        }
      ]
    },
    {
      "cell_type": "code",
      "source": [
        "print(\"Best Accuracy:\", study.best_value)\n",
        "print(\"Best Params:\", study.best_params)"
      ],
      "metadata": {
        "colab": {
          "base_uri": "https://localhost:8080/"
        },
        "id": "DR9v7zGV-1W2",
        "outputId": "7967c621-379e-418a-b403-c2a2bccf6465"
      },
      "execution_count": 10,
      "outputs": [
        {
          "output_type": "stream",
          "name": "stdout",
          "text": [
            "Best Accuracy: 0.6747747747747748\n",
            "Best Params: {'n_estimators': 427, 'max_depth': 3, 'learning_rate': 0.021978188969319974, 'subsample': 0.9760848989537714, 'colsample_bytree': 0.7301003992053027, 'gamma': 0.2749409209747699, 'min_child_weight': 1}\n"
          ]
        }
      ]
    },
    {
      "cell_type": "markdown",
      "source": [
        "### ✔️ Final Model: 파라미터 최적 모델로 학습: ***67.5%***\n",
        "n_trials 300으로 탐색한 결과 나온 최적 파라미터"
      ],
      "metadata": {
        "id": "kMARdIFLZ4Yj"
      }
    },
    {
      "cell_type": "code",
      "source": [
        "from xgboost import XGBClassifier\n",
        "\n",
        "best_params = {\n",
        "    'n_estimators': 427,\n",
        "    'max_depth': 3,\n",
        "    'learning_rate': 0.021978188969319974,\n",
        "    'subsample': 0.9760848989537714,\n",
        "    'colsample_bytree': 0.7301003992053027,\n",
        "    'gamma': 0.2749409209747699,\n",
        "    'min_child_weight': 1,\n",
        "    'eval_metric': 'logloss',\n",
        "    'random_state': 42\n",
        "}\n",
        "\n",
        "final_model = XGBClassifier(**best_params)\n",
        "final_model.fit(X_train, y_train)\n",
        "\n",
        "y_pred_valid = final_model.predict(X_valid)\n",
        "\n",
        "# 성능 평가\n",
        "print(\"Final Tuned Model Accuracy:\", accuracy_score(y_valid, y_pred_valid))\n",
        "print(\"Final Tuned Model F1 Score:\", f1_score(y_valid, y_pred_valid))\n",
        "print(\"\\nClassification Report:\\n\")\n",
        "print(classification_report(y_valid, y_pred_valid))"
      ],
      "metadata": {
        "colab": {
          "base_uri": "https://localhost:8080/"
        },
        "id": "wn2XJ3bIdoBd",
        "outputId": "d09acf04-bcf2-4492-c108-e857d255f626"
      },
      "execution_count": 12,
      "outputs": [
        {
          "output_type": "stream",
          "name": "stdout",
          "text": [
            "Final Tuned Model Accuracy: 0.6747747747747748\n",
            "Final Tuned Model F1 Score: 0.6727107887579329\n",
            "\n",
            "Classification Report:\n",
            "\n",
            "              precision    recall  f1-score   support\n",
            "\n",
            "           0       0.68      0.68      0.68      2239\n",
            "           1       0.67      0.67      0.67      2201\n",
            "\n",
            "    accuracy                           0.67      4440\n",
            "   macro avg       0.67      0.67      0.67      4440\n",
            "weighted avg       0.67      0.67      0.67      4440\n",
            "\n"
          ]
        }
      ]
    },
    {
      "cell_type": "markdown",
      "source": [
        "### ✔️ 튜닝 XGBoost & random Forest 앙상블: ***67.1%***"
      ],
      "metadata": {
        "id": "tpbm4zWSe_hn"
      }
    },
    {
      "cell_type": "code",
      "source": [
        "from sklearn.ensemble import StackingClassifier, RandomForestClassifier\n",
        "from sklearn.linear_model import LogisticRegression\n",
        "\n",
        "rf_model = RandomForestClassifier(n_estimators=100, random_state=42)\n",
        "\n",
        "stack = StackingClassifier(\n",
        "    estimators=[('xgb', final_model), ('rf', rf_model)],\n",
        "    final_estimator=LogisticRegression()\n",
        ")\n",
        "\n",
        "stack.fit(X_train, y_train)\n",
        "y_pred_stack = stack.predict(X_valid)\n",
        "\n",
        "print(\"Stacking Accuracy:\", accuracy_score(y_valid, y_pred_stack))\n",
        "print(\"Stacking F1 Score:\", f1_score(y_valid, y_pred_stack))\n",
        "print(classification_report(y_valid, y_pred_stack))\n"
      ],
      "metadata": {
        "colab": {
          "base_uri": "https://localhost:8080/"
        },
        "id": "dm7keluffBvK",
        "outputId": "2062c88b-7cdf-490c-f56f-fc46ae82e93f"
      },
      "execution_count": 16,
      "outputs": [
        {
          "output_type": "stream",
          "name": "stdout",
          "text": [
            "Stacking Accuracy: 0.6709459459459459\n",
            "Stacking F1 Score: 0.672053872053872\n",
            "              precision    recall  f1-score   support\n",
            "\n",
            "           0       0.68      0.66      0.67      2239\n",
            "           1       0.66      0.68      0.67      2201\n",
            "\n",
            "    accuracy                           0.67      4440\n",
            "   macro avg       0.67      0.67      0.67      4440\n",
            "weighted avg       0.67      0.67      0.67      4440\n",
            "\n"
          ]
        }
      ]
    }
  ]
}