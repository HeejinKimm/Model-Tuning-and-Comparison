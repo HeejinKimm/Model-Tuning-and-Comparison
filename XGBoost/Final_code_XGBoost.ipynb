{
  "nbformat": 4,
  "nbformat_minor": 0,
  "metadata": {
    "colab": {
      "provenance": [],
      "gpuType": "T4"
    },
    "kernelspec": {
      "name": "python3",
      "display_name": "Python 3"
    },
    "language_info": {
      "name": "python"
    },
    "accelerator": "GPU"
  },
  "cells": [
    {
      "cell_type": "code",
      "execution_count": 30,
      "metadata": {
        "id": "mL_NeTB-JRd_"
      },
      "outputs": [],
      "source": [
        "import pandas as pd\n",
        "from sklearn.model_selection import train_test_split\n",
        "\n",
        "train_df = pd.read_csv(\"train_processed.csv\")\n",
        "test_df = pd.read_csv(\"test_processed.csv\")\n",
        "\n",
        "X = train_df.drop(columns=['id', 'y', 'shares'])\n",
        "y = train_df['y']\n",
        "\n",
        "X_train, X_valid, y_train, y_valid = train_test_split(X, y, test_size=0.2, random_state=42, stratify=y)"
      ]
    },
    {
      "cell_type": "code",
      "source": [
        "from sklearn.metrics import accuracy_score, f1_score, roc_auc_score\n",
        "from xgboost import XGBClassifier\n",
        "\n",
        "# 최적 하이퍼파라미터로 모델 정의\n",
        "best_params = {\n",
        "    'n_estimators': 487,\n",
        "    'max_depth': 3,\n",
        "    'learning_rate': 0.022783546678795837,\n",
        "    'subsample': 0.9865934283784953,\n",
        "    'colsample_bytree': 0.6270846419992482,\n",
        "    'gamma': 0.8172927176529761,\n",
        "    'min_child_weight': 4,\n",
        "    'eval_metric': 'auc',\n",
        "    'random_state': 42,\n",
        "    'tree_method': 'hist',\n",
        "    # CPU 사용을 원하면 'hist'\n",
        "    # GPU를 사용하려면 'device': 'cuda' 추가\n",
        "    'device': 'cuda'\n",
        "}\n",
        "\n",
        "# 최종 모델 학습\n",
        "final_model = XGBClassifier(**best_params)\n",
        "final_model.fit(X_train, y_train)\n",
        "\n",
        "# 검증 데이터에 대해 예측 수행\n",
        "y_pred_valid = final_model.predict(X_valid)\n",
        "y_prob_valid = final_model.predict_proba(X_valid)[:, 1]  # 클래스 1일 확률\n",
        "\n",
        "# 성능 평가 (Accuracy, F1 Score, AUC)\n",
        "accuracy = accuracy_score(y_valid, y_pred_valid)\n",
        "f1 = f1_score(y_valid, y_pred_valid)\n",
        "auc = roc_auc_score(y_valid, y_prob_valid)\n",
        "\n",
        "# 세 가지 지표의 평균 계산\n",
        "mean_metric = (accuracy + f1 + auc) / 3\n",
        "\n",
        "# 성능 결과 출력\n",
        "print(\"Final Tuned Model Accuracy:\", accuracy)\n",
        "print(\"Final Tuned Model F1 Score:\", f1)\n",
        "print(\"Final Tuned Model AUC:\", auc)\n",
        "print(\"Mean Evaluation Metric (Accuracy + F1 + AUC) / 3:\", mean_metric)\n"
      ],
      "metadata": {
        "colab": {
          "base_uri": "https://localhost:8080/"
        },
        "id": "u8XTGxlXJkDJ",
        "outputId": "b9757d88-9898-44c7-de13-99d8555baa36"
      },
      "execution_count": 31,
      "outputs": [
        {
          "output_type": "stream",
          "name": "stdout",
          "text": [
            "Final Tuned Model Accuracy: 0.6765765765765765\n",
            "Final Tuned Model F1 Score: 0.6740807989105765\n",
            "Final Tuned Model AUC: 0.7298996619142015\n",
            "Mean Evaluation Metric (Accuracy + F1 + AUC) / 3: 0.6935190124671182\n"
          ]
        }
      ]
    },
    {
      "cell_type": "code",
      "source": [
        "# 테스트 데이터에 대해 예측 수행\n",
        "X_test = test_df.drop(columns=['id'])  # 'id' 컬럼을 제외한 테스트 데이터\n",
        "y_pred_test = final_model.predict(X_test)\n",
        "y_prob_test = final_model.predict_proba(X_test)[:, 1]\n",
        "\n",
        "# 예측 결과를 test_df에 추가\n",
        "test_df['y_predict'] = y_pred_test\n",
        "test_df['y_prob'] = y_prob_test\n",
        "\n",
        "# 예측 결과를 CSV 파일로 저장\n",
        "output_path = '/content/prediction.csv'\n",
        "test_df.to_csv(output_path, index=False)\n",
        "\n",
        "# 예측된 결과 출력 (파일에 저장된 예시)\n",
        "print(test_df[['id', 'y_predict', 'y_prob']].head())"
      ],
      "metadata": {
        "colab": {
          "base_uri": "https://localhost:8080/"
        },
        "id": "BWJEyGjwJ8MN",
        "outputId": "35061a75-ac09-4f50-9da3-1a43b67f65db"
      },
      "execution_count": 32,
      "outputs": [
        {
          "output_type": "stream",
          "name": "stdout",
          "text": [
            "      id  y_predict    y_prob\n",
            "0   4979          0  0.272374\n",
            "1  15552          0  0.430670\n",
            "2  29370          1  0.576737\n",
            "3  37272          0  0.273311\n",
            "4   6836          1  0.524885\n"
          ]
        }
      ]
    },
    {
      "cell_type": "code",
      "source": [
        "from google.colab import files\n",
        "files.download(output_path)"
      ],
      "metadata": {
        "colab": {
          "base_uri": "https://localhost:8080/",
          "height": 17
        },
        "id": "CyYswYRebFtU",
        "outputId": "4663f0f0-9f36-4151-d2b3-2834ad5537ba"
      },
      "execution_count": 33,
      "outputs": [
        {
          "output_type": "display_data",
          "data": {
            "text/plain": [
              "<IPython.core.display.Javascript object>"
            ],
            "application/javascript": [
              "\n",
              "    async function download(id, filename, size) {\n",
              "      if (!google.colab.kernel.accessAllowed) {\n",
              "        return;\n",
              "      }\n",
              "      const div = document.createElement('div');\n",
              "      const label = document.createElement('label');\n",
              "      label.textContent = `Downloading \"${filename}\": `;\n",
              "      div.appendChild(label);\n",
              "      const progress = document.createElement('progress');\n",
              "      progress.max = size;\n",
              "      div.appendChild(progress);\n",
              "      document.body.appendChild(div);\n",
              "\n",
              "      const buffers = [];\n",
              "      let downloaded = 0;\n",
              "\n",
              "      const channel = await google.colab.kernel.comms.open(id);\n",
              "      // Send a message to notify the kernel that we're ready.\n",
              "      channel.send({})\n",
              "\n",
              "      for await (const message of channel.messages) {\n",
              "        // Send a message to notify the kernel that we're ready.\n",
              "        channel.send({})\n",
              "        if (message.buffers) {\n",
              "          for (const buffer of message.buffers) {\n",
              "            buffers.push(buffer);\n",
              "            downloaded += buffer.byteLength;\n",
              "            progress.value = downloaded;\n",
              "          }\n",
              "        }\n",
              "      }\n",
              "      const blob = new Blob(buffers, {type: 'application/binary'});\n",
              "      const a = document.createElement('a');\n",
              "      a.href = window.URL.createObjectURL(blob);\n",
              "      a.download = filename;\n",
              "      div.appendChild(a);\n",
              "      a.click();\n",
              "      div.remove();\n",
              "    }\n",
              "  "
            ]
          },
          "metadata": {}
        },
        {
          "output_type": "display_data",
          "data": {
            "text/plain": [
              "<IPython.core.display.Javascript object>"
            ],
            "application/javascript": [
              "download(\"download_b3da92d1-7328-4f8d-a591-15b15e372034\", \"prediction.csv\", 6084045)"
            ]
          },
          "metadata": {}
        }
      ]
    }
  ]
}