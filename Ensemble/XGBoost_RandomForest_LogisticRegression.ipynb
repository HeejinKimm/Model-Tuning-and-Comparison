{
  "nbformat": 4,
  "nbformat_minor": 0,
  "metadata": {
    "colab": {
      "provenance": [],
      "collapsed_sections": [
        "BULWMUzTPf2A"
      ]
    },
    "kernelspec": {
      "name": "python3",
      "display_name": "Python 3"
    },
    "language_info": {
      "name": "python"
    }
  },
  "cells": [
    {
      "cell_type": "markdown",
      "source": [
        "### 라이브러리"
      ],
      "metadata": {
        "id": "Vx3Cy7RTRnL1"
      }
    },
    {
      "cell_type": "code",
      "source": [
        "pip install optuna"
      ],
      "metadata": {
        "colab": {
          "base_uri": "https://localhost:8080/"
        },
        "collapsed": true,
        "id": "dLiZV9DhRp3R",
        "outputId": "0f2fa48a-d75e-4fce-a361-31bce239860f"
      },
      "execution_count": 4,
      "outputs": [
        {
          "output_type": "stream",
          "name": "stdout",
          "text": [
            "Collecting optuna\n",
            "  Downloading optuna-4.3.0-py3-none-any.whl.metadata (17 kB)\n",
            "Collecting alembic>=1.5.0 (from optuna)\n",
            "  Downloading alembic-1.15.2-py3-none-any.whl.metadata (7.3 kB)\n",
            "Collecting colorlog (from optuna)\n",
            "  Downloading colorlog-6.9.0-py3-none-any.whl.metadata (10 kB)\n",
            "Requirement already satisfied: numpy in /usr/local/lib/python3.11/dist-packages (from optuna) (2.0.2)\n",
            "Requirement already satisfied: packaging>=20.0 in /usr/local/lib/python3.11/dist-packages (from optuna) (24.2)\n",
            "Requirement already satisfied: sqlalchemy>=1.4.2 in /usr/local/lib/python3.11/dist-packages (from optuna) (2.0.40)\n",
            "Requirement already satisfied: tqdm in /usr/local/lib/python3.11/dist-packages (from optuna) (4.67.1)\n",
            "Requirement already satisfied: PyYAML in /usr/local/lib/python3.11/dist-packages (from optuna) (6.0.2)\n",
            "Requirement already satisfied: Mako in /usr/lib/python3/dist-packages (from alembic>=1.5.0->optuna) (1.1.3)\n",
            "Requirement already satisfied: typing-extensions>=4.12 in /usr/local/lib/python3.11/dist-packages (from alembic>=1.5.0->optuna) (4.13.2)\n",
            "Requirement already satisfied: greenlet>=1 in /usr/local/lib/python3.11/dist-packages (from sqlalchemy>=1.4.2->optuna) (3.2.1)\n",
            "Downloading optuna-4.3.0-py3-none-any.whl (386 kB)\n",
            "\u001b[2K   \u001b[90m━━━━━━━━━━━━━━━━━━━━━━━━━━━━━━━━━━━━━━━━\u001b[0m \u001b[32m386.6/386.6 kB\u001b[0m \u001b[31m10.3 MB/s\u001b[0m eta \u001b[36m0:00:00\u001b[0m\n",
            "\u001b[?25hDownloading alembic-1.15.2-py3-none-any.whl (231 kB)\n",
            "\u001b[2K   \u001b[90m━━━━━━━━━━━━━━━━━━━━━━━━━━━━━━━━━━━━━━━━\u001b[0m \u001b[32m231.9/231.9 kB\u001b[0m \u001b[31m14.4 MB/s\u001b[0m eta \u001b[36m0:00:00\u001b[0m\n",
            "\u001b[?25hDownloading colorlog-6.9.0-py3-none-any.whl (11 kB)\n",
            "Installing collected packages: colorlog, alembic, optuna\n",
            "Successfully installed alembic-1.15.2 colorlog-6.9.0 optuna-4.3.0\n"
          ]
        }
      ]
    },
    {
      "cell_type": "code",
      "source": [
        "import pandas as pd\n",
        "import numpy as np\n",
        "from sklearn.model_selection import train_test_split, GridSearchCV\n",
        "from sklearn.metrics import accuracy_score, classification_report\n",
        "from sklearn.ensemble import StackingClassifier\n",
        "from sklearn.linear_model import LogisticRegression\n",
        "from sklearn.ensemble import RandomForestClassifier\n",
        "from xgboost import XGBClassifier\n",
        "from sklearn.svm import SVC\n",
        "import lightgbm as lgb"
      ],
      "metadata": {
        "id": "JHytPZ4Em7m7"
      },
      "execution_count": 1,
      "outputs": []
    },
    {
      "cell_type": "code",
      "source": [
        "from sklearn.preprocessing import StandardScaler\n",
        "from sklearn.pipeline import make_pipeline\n",
        "from sklearn.model_selection import cross_val_predict"
      ],
      "metadata": {
        "id": "o5_U4WuYBfZ-"
      },
      "execution_count": 2,
      "outputs": []
    },
    {
      "cell_type": "code",
      "source": [
        "import optuna\n",
        "from sklearn.model_selection import cross_val_score"
      ],
      "metadata": {
        "id": "yy8jCI9yRkxg"
      },
      "execution_count": 5,
      "outputs": []
    },
    {
      "cell_type": "markdown",
      "source": [
        "### 데이터 가져오기 + feature scaling"
      ],
      "metadata": {
        "id": "9ci5kuMWR7xn"
      }
    },
    {
      "cell_type": "code",
      "source": [
        "#데이터 불러오기\n",
        "df = pd.read_csv(\"/content/drive/MyDrive/25-1 패턴인식 프로젝트/train_processed.csv\")\n",
        "\n",
        "# feature scaling (logistic regression)\n",
        "scaling_cols = [\n",
        "    \"n_tokens_title\", \"n_tokens_content\",\n",
        "    \"num_hrefs\", \"num_self_hrefs\", \"num_imgs\", \"num_videos\",\n",
        "    \"average_token_length\", \"num_keywords\",\n",
        "    \"kw_min_min\", \"kw_max_min\", \"kw_avg_min\",\n",
        "    \"kw_min_max\", \"kw_max_max\", \"kw_avg_max\",\n",
        "    \"kw_min_avg\", \"kw_max_avg\", \"kw_avg_avg\",\n",
        "    \"self_reference_min_shares\", \"self_reference_max_shares\", \"self_reference_avg_sharess\"\n",
        "]\n",
        "\n",
        "#feature, target 분리\n",
        "X = df.drop(['id', 'shares','y'], axis=1)\n",
        "y = df['y']\n",
        "\n",
        "#train-validation split\n",
        "X_train, X_val, y_train, y_val = train_test_split(X, y, test_size=0.2, random_state=42, stratify=y)\n",
        "\n",
        "#Scaling\n",
        "scaler = StandardScaler()\n",
        "X_train[scaling_cols] = scaler.fit_transform(X_train[scaling_cols])\n",
        "X_val[scaling_cols] = scaler.transform(X_val[scaling_cols])"
      ],
      "metadata": {
        "id": "yL7JZM1qnIeb",
        "collapsed": true
      },
      "execution_count": 8,
      "outputs": []
    },
    {
      "cell_type": "markdown",
      "source": [
        "### feature engineering X, tuned xgb + rf + logisticregression  / logisticregression -> 67.1"
      ],
      "metadata": {
        "id": "BULWMUzTPf2A"
      }
    },
    {
      "cell_type": "code",
      "source": [
        "#xgb, lgbm 모델 최적 파라미터\n",
        "best_xgb_params = {\n",
        "    'n_estimators': 427,\n",
        "    'max_depth': 3,\n",
        "    'learning_rate': 0.021978188969319974,\n",
        "    'subsample': 0.9760848989537714,\n",
        "    'colsample_bytree': 0.7301003992053027,\n",
        "    'gamma': 0.2749409209747699,\n",
        "    'min_child_weight': 1,\n",
        "    'eval_metric': 'logloss',\n",
        "    'random_state': 42\n",
        "}"
      ],
      "metadata": {
        "id": "ylX217WznrMP"
      },
      "execution_count": 9,
      "outputs": []
    },
    {
      "cell_type": "code",
      "source": [
        "# Base models\n",
        "base_learners = [\n",
        "    ('xgb', XGBClassifier(**best_xgb_params)),\n",
        "    ('rf', RandomForestClassifier(n_estimators=100, random_state=42)),\n",
        "    ('lr', LogisticRegression(max_iter=1000))\n",
        "]\n",
        "\n",
        "# Meta model\n",
        "meta_model = LogisticRegression()\n",
        "\n",
        "# Stacking\n",
        "stacking_clf = StackingClassifier(\n",
        "    estimators=base_learners,\n",
        "    final_estimator=meta_model,\n",
        "    cv=5,  # 내부에서 K-fold cross validation\n",
        "    n_jobs=-1\n",
        ")\n",
        "\n",
        "# 학습 및 평가\n",
        "stacking_clf.fit(X_train, y_train)\n",
        "y_pred_val = stacking_clf.predict(X_val)\n",
        "\n",
        "print(\"Stacking Accuracy:\", accuracy_score(y_val, y_pred_val))"
      ],
      "metadata": {
        "id": "XzY-MZNLnuPw",
        "colab": {
          "base_uri": "https://localhost:8080/"
        },
        "outputId": "5c71b099-7a45-4e4c-936f-4f4fbc0c789b"
      },
      "execution_count": 10,
      "outputs": [
        {
          "output_type": "stream",
          "name": "stdout",
          "text": [
            "Stacking Accuracy: 0.6713963963963964\n"
          ]
        }
      ]
    },
    {
      "cell_type": "markdown",
      "source": [
        "### feature engineering X, tuned xgb + tuned rf(grid) + tuned logisticregression(grid)  / logisticregression -> 67.0"
      ],
      "metadata": {
        "id": "UVv77nkg5T4s"
      }
    },
    {
      "cell_type": "code",
      "source": [
        "# randomforest tuning\n",
        "param_grid = {\n",
        "    'n_estimators': [100, 200, 300],\n",
        "    'max_depth': [5, 10, 15],\n",
        "    'min_samples_split': [2, 5],\n",
        "    'min_samples_leaf': [1, 2],\n",
        "    'max_features': ['sqrt', 'log2']\n",
        "}\n",
        "\n",
        "rf = RandomForestClassifier(random_state=42)\n",
        "grid = GridSearchCV(rf, param_grid, cv=3, scoring='accuracy', n_jobs=-1, verbose=1)\n",
        "grid.fit(X_train, y_train)\n",
        "\n",
        "print(\"Best Params:\", grid.best_params_)\n",
        "print(\"Best Score:\", grid.best_score_)\n"
      ],
      "metadata": {
        "colab": {
          "base_uri": "https://localhost:8080/"
        },
        "id": "rMqI8mwX5SaI",
        "outputId": "3030091b-b1c5-41ce-db36-bad30cfac1ec"
      },
      "execution_count": 11,
      "outputs": [
        {
          "output_type": "stream",
          "name": "stdout",
          "text": [
            "Fitting 3 folds for each of 72 candidates, totalling 216 fits\n",
            "Best Params: {'max_depth': 15, 'max_features': 'log2', 'min_samples_leaf': 1, 'min_samples_split': 5, 'n_estimators': 300}\n",
            "Best Score: 0.6544481981981982\n"
          ]
        }
      ]
    },
    {
      "cell_type": "code",
      "source": [
        "# logistic regression tuning\n",
        "param_grid = {\n",
        "    'C': [0.01, 0.1, 1, 10],\n",
        "    'penalty': ['l2'],\n",
        "    'solver': ['liblinear', 'lbfgs'],\n",
        "    'max_iter': [2000]\n",
        "}\n",
        "\n",
        "lr = LogisticRegression()\n",
        "grid_lr = GridSearchCV(lr, param_grid, scoring='accuracy', cv=3, n_jobs=-1, verbose=1)\n",
        "grid_lr.fit(X_train, y_train)\n",
        "\n",
        "print(\"Best Params:\", grid_lr.best_params_)\n",
        "print(\"Best Score:\", grid_lr.best_score_)"
      ],
      "metadata": {
        "colab": {
          "base_uri": "https://localhost:8080/"
        },
        "id": "Zg5nENfR6WXv",
        "outputId": "00588f9c-9121-4e67-dcbc-1e6d8d764e17"
      },
      "execution_count": 12,
      "outputs": [
        {
          "output_type": "stream",
          "name": "stdout",
          "text": [
            "Fitting 3 folds for each of 8 candidates, totalling 24 fits\n",
            "Best Params: {'C': 1, 'max_iter': 2000, 'penalty': 'l2', 'solver': 'lbfgs'}\n",
            "Best Score: 0.640427927927928\n"
          ]
        }
      ]
    },
    {
      "cell_type": "code",
      "source": [
        "# Base models\n",
        "base_learners = [\n",
        "    ('xgb', XGBClassifier(**best_xgb_params)),\n",
        "    ('rf', RandomForestClassifier(**grid.best_params_)),\n",
        "    ('lr', LogisticRegression(**grid_lr.best_params_))\n",
        "]\n",
        "\n",
        "# Meta model\n",
        "meta_model = LogisticRegression()\n",
        "\n",
        "# Stacking\n",
        "stacking_clf = StackingClassifier(\n",
        "    estimators=base_learners,\n",
        "    final_estimator=meta_model,\n",
        "    cv=5,  # 내부에서 K-fold cross validation\n",
        "    n_jobs=-1\n",
        ")\n",
        "\n",
        "# 학습 및 평가\n",
        "stacking_clf.fit(X_train, y_train)\n",
        "y_pred_val = stacking_clf.predict(X_val)\n",
        "\n",
        "print(\"Stacking Accuracy:\", accuracy_score(y_val, y_pred_val))"
      ],
      "metadata": {
        "colab": {
          "base_uri": "https://localhost:8080/"
        },
        "id": "3OtkLw30JlVz",
        "outputId": "6332b39e-0cde-458e-e37e-4bd9f537ea00"
      },
      "execution_count": 14,
      "outputs": [
        {
          "output_type": "stream",
          "name": "stdout",
          "text": [
            "Stacking Accuracy: 0.6709459459459459\n"
          ]
        }
      ]
    },
    {
      "cell_type": "markdown",
      "source": [
        "### feature engineering X, tuned xgb + tuned rf(grid) + tuned logistic regression(grid) / tuned logisticregression (grid) -> 66.9"
      ],
      "metadata": {
        "id": "UwgkeQ2uMrXo"
      }
    },
    {
      "cell_type": "markdown",
      "source": [
        "- meta model 튜닝"
      ],
      "metadata": {
        "id": "tG6cLo1aNkJ6"
      }
    },
    {
      "cell_type": "code",
      "source": [
        "# 베이스 모델 정의\n",
        "estimators = [\n",
        "    ('xgb', XGBClassifier(**best_xgb_params)),\n",
        "    ('rf', RandomForestClassifier(**grid.best_params_)),\n",
        "    ('lr', LogisticRegression(**grid_lr.best_params_))\n",
        "]\n",
        "\n",
        "\n",
        "# 각 base 모델의 예측 결과를 추출 (oof 방식으로)\n",
        "from sklearn.model_selection import KFold\n",
        "kf = KFold(n_splits=5, shuffle=True, random_state=42)\n",
        "\n",
        "# base 모델의 예측값 쌓기\n",
        "def get_meta_features(estimators, X, y):\n",
        "    meta_X = np.zeros((X.shape[0], len(estimators)))\n",
        "    for i, (name, model) in enumerate(estimators):\n",
        "        meta_X[:, i] = cross_val_predict(model, X, y, cv=kf, method='predict_proba')[:, 1]\n",
        "    return meta_X\n",
        "\n",
        "meta_X = get_meta_features(estimators, X_train, y_train)\n",
        "\n",
        "# 메타 모델 튜닝\n",
        "param_grid = {\n",
        "    'C': [0.01, 0.1, 1, 10],\n",
        "    'solver': ['liblinear', 'lbfgs'],\n",
        "    'max_iter': [500]\n",
        "}\n",
        "\n",
        "meta_model = LogisticRegression()\n",
        "meta_grid = GridSearchCV(meta_model, param_grid, cv=5, scoring='accuracy', verbose=1)\n",
        "meta_grid.fit(meta_X, y_train)\n",
        "\n",
        "print(\"Best meta model params:\", meta_grid.best_params_)\n",
        "print(\"Best meta model Score:\", meta_grid.best_score_)"
      ],
      "metadata": {
        "colab": {
          "base_uri": "https://localhost:8080/"
        },
        "id": "BI-QqMhcNMW9",
        "outputId": "2cf52e90-ab63-4f44-aee8-97c12dda9376"
      },
      "execution_count": 15,
      "outputs": [
        {
          "output_type": "stream",
          "name": "stdout",
          "text": [
            "Fitting 5 folds for each of 8 candidates, totalling 40 fits\n",
            "Best meta model params: {'C': 0.01, 'max_iter': 500, 'solver': 'liblinear'}\n",
            "Best meta model Score: 0.659572072072072\n"
          ]
        }
      ]
    },
    {
      "cell_type": "code",
      "source": [
        "# Base models\n",
        "base_learners = [\n",
        "    ('xgb', XGBClassifier(**best_xgb_params)),\n",
        "    ('rf', RandomForestClassifier(**grid.best_params_)),\n",
        "    ('lr', LogisticRegression(**grid_lr.best_params_))\n",
        "]\n",
        "\n",
        "# Meta model\n",
        "meta_model = LogisticRegression(**meta_grid.best_params_)\n",
        "\n",
        "# Stacking\n",
        "stacking_clf = StackingClassifier(\n",
        "    estimators=base_learners,\n",
        "    final_estimator=meta_model,\n",
        "    cv=5,  # 내부에서 K-fold cross validation\n",
        "    n_jobs=-1\n",
        ")\n",
        "\n",
        "# 학습 및 평가\n",
        "stacking_clf.fit(X_train, y_train)\n",
        "y_pred_val = stacking_clf.predict(X_val)\n",
        "\n",
        "print(\"Stacking Accuracy:\", accuracy_score(y_val, y_pred_val))"
      ],
      "metadata": {
        "colab": {
          "base_uri": "https://localhost:8080/"
        },
        "id": "13MQZsaNPrdV",
        "outputId": "1d4d3482-240b-4c78-8720-e36181c8088e"
      },
      "execution_count": 16,
      "outputs": [
        {
          "output_type": "stream",
          "name": "stdout",
          "text": [
            "Stacking Accuracy: 0.6698198198198199\n"
          ]
        }
      ]
    },
    {
      "cell_type": "markdown",
      "source": [
        "### feature engineering X, tuned xgb + tuned rf(optuna) + tuned logistic regression(optuna) / logisticregression -> 67.2"
      ],
      "metadata": {
        "id": "UdrVW96xRJTJ"
      }
    },
    {
      "cell_type": "code",
      "source": [
        "# randomforest tuning\n",
        "def rf_objective(trial):\n",
        "    params = {\n",
        "        'n_estimators': trial.suggest_int('n_estimators', 100, 300),\n",
        "        'max_depth': trial.suggest_int('max_depth', 5, 20),\n",
        "        'min_samples_split': trial.suggest_int('min_samples_split', 2, 10),\n",
        "        'min_samples_leaf': trial.suggest_int('min_samples_leaf', 1, 5),\n",
        "        'max_features': trial.suggest_categorical('max_features', ['sqrt', 'log2']),\n",
        "        'bootstrap': trial.suggest_categorical('bootstrap', [True, False]),\n",
        "    }\n",
        "\n",
        "    model = RandomForestClassifier(random_state=42, **params)\n",
        "    score = cross_val_score(model, X_train, y_train, cv=3, scoring='accuracy', n_jobs=-1)\n",
        "    return score.mean()\n",
        "\n",
        "study_rf = optuna.create_study(direction='maximize')\n",
        "study_rf.optimize(rf_objective, n_trials=100)\n",
        "\n",
        "print(\"Best Score:\", study_rf.best_value)\n",
        "print(\"Best Params:\", study_rf.best_params)"
      ],
      "metadata": {
        "colab": {
          "base_uri": "https://localhost:8080/"
        },
        "collapsed": true,
        "id": "Ogx7DQmdRLsK",
        "outputId": "2e9561b4-dda0-499f-ce08-c484c73d49b0"
      },
      "execution_count": 17,
      "outputs": [
        {
          "output_type": "stream",
          "name": "stderr",
          "text": [
            "[I 2025-05-12 12:29:16,165] A new study created in memory with name: no-name-1b29e8a6-cf0e-4e59-a468-c759c38771f0\n",
            "[I 2025-05-12 12:29:42,978] Trial 0 finished with value: 0.6454954954954955 and parameters: {'n_estimators': 296, 'max_depth': 7, 'min_samples_split': 6, 'min_samples_leaf': 1, 'max_features': 'sqrt', 'bootstrap': True}. Best is trial 0 with value: 0.6454954954954955.\n",
            "[I 2025-05-12 12:30:20,177] Trial 1 finished with value: 0.6527027027027027 and parameters: {'n_estimators': 274, 'max_depth': 12, 'min_samples_split': 10, 'min_samples_leaf': 5, 'max_features': 'log2', 'bootstrap': False}. Best is trial 1 with value: 0.6527027027027027.\n",
            "[I 2025-05-12 12:31:13,691] Trial 2 finished with value: 0.6524774774774774 and parameters: {'n_estimators': 225, 'max_depth': 19, 'min_samples_split': 4, 'min_samples_leaf': 5, 'max_features': 'sqrt', 'bootstrap': False}. Best is trial 1 with value: 0.6527027027027027.\n",
            "[I 2025-05-12 12:31:45,293] Trial 3 finished with value: 0.6539977477477478 and parameters: {'n_estimators': 180, 'max_depth': 16, 'min_samples_split': 8, 'min_samples_leaf': 2, 'max_features': 'log2', 'bootstrap': False}. Best is trial 3 with value: 0.6539977477477478.\n",
            "[I 2025-05-12 12:31:58,263] Trial 4 finished with value: 0.6423986486486486 and parameters: {'n_estimators': 260, 'max_depth': 5, 'min_samples_split': 6, 'min_samples_leaf': 3, 'max_features': 'log2', 'bootstrap': True}. Best is trial 3 with value: 0.6539977477477478.\n",
            "[I 2025-05-12 12:32:18,431] Trial 5 finished with value: 0.6444819819819819 and parameters: {'n_estimators': 234, 'max_depth': 7, 'min_samples_split': 2, 'min_samples_leaf': 4, 'max_features': 'log2', 'bootstrap': False}. Best is trial 3 with value: 0.6539977477477478.\n",
            "[I 2025-05-12 12:32:31,905] Trial 6 finished with value: 0.6527027027027027 and parameters: {'n_estimators': 109, 'max_depth': 10, 'min_samples_split': 10, 'min_samples_leaf': 5, 'max_features': 'log2', 'bootstrap': False}. Best is trial 3 with value: 0.6539977477477478.\n",
            "[I 2025-05-12 12:32:54,247] Trial 7 finished with value: 0.6515765765765765 and parameters: {'n_estimators': 111, 'max_depth': 20, 'min_samples_split': 2, 'min_samples_leaf': 2, 'max_features': 'log2', 'bootstrap': False}. Best is trial 3 with value: 0.6539977477477478.\n",
            "[I 2025-05-12 12:33:28,994] Trial 8 finished with value: 0.6528153153153153 and parameters: {'n_estimators': 244, 'max_depth': 14, 'min_samples_split': 2, 'min_samples_leaf': 3, 'max_features': 'sqrt', 'bootstrap': True}. Best is trial 3 with value: 0.6539977477477478.\n",
            "[I 2025-05-12 12:33:55,780] Trial 9 finished with value: 0.6498310810810811 and parameters: {'n_estimators': 255, 'max_depth': 9, 'min_samples_split': 8, 'min_samples_leaf': 1, 'max_features': 'sqrt', 'bootstrap': True}. Best is trial 3 with value: 0.6539977477477478.\n",
            "[I 2025-05-12 12:34:24,558] Trial 10 finished with value: 0.6532094594594594 and parameters: {'n_estimators': 168, 'max_depth': 16, 'min_samples_split': 8, 'min_samples_leaf': 2, 'max_features': 'log2', 'bootstrap': False}. Best is trial 3 with value: 0.6539977477477478.\n",
            "[I 2025-05-12 12:34:55,170] Trial 11 finished with value: 0.6538288288288289 and parameters: {'n_estimators': 167, 'max_depth': 16, 'min_samples_split': 8, 'min_samples_leaf': 2, 'max_features': 'log2', 'bootstrap': False}. Best is trial 3 with value: 0.6539977477477478.\n",
            "[I 2025-05-12 12:35:25,362] Trial 12 finished with value: 0.6528153153153153 and parameters: {'n_estimators': 171, 'max_depth': 17, 'min_samples_split': 8, 'min_samples_leaf': 2, 'max_features': 'log2', 'bootstrap': False}. Best is trial 3 with value: 0.6539977477477478.\n",
            "[I 2025-05-12 12:35:55,088] Trial 13 finished with value: 0.6502252252252252 and parameters: {'n_estimators': 178, 'max_depth': 15, 'min_samples_split': 7, 'min_samples_leaf': 2, 'max_features': 'log2', 'bootstrap': False}. Best is trial 3 with value: 0.6539977477477478.\n",
            "[I 2025-05-12 12:36:21,032] Trial 14 finished with value: 0.6512950450450451 and parameters: {'n_estimators': 138, 'max_depth': 18, 'min_samples_split': 9, 'min_samples_leaf': 1, 'max_features': 'log2', 'bootstrap': False}. Best is trial 3 with value: 0.6539977477477478.\n",
            "[I 2025-05-12 12:36:51,698] Trial 15 finished with value: 0.6550112612612612 and parameters: {'n_estimators': 205, 'max_depth': 13, 'min_samples_split': 5, 'min_samples_leaf': 3, 'max_features': 'log2', 'bootstrap': False}. Best is trial 15 with value: 0.6550112612612612.\n",
            "[I 2025-05-12 12:37:18,388] Trial 16 finished with value: 0.6511261261261262 and parameters: {'n_estimators': 205, 'max_depth': 11, 'min_samples_split': 4, 'min_samples_leaf': 4, 'max_features': 'log2', 'bootstrap': False}. Best is trial 15 with value: 0.6550112612612612.\n",
            "[I 2025-05-12 12:37:47,416] Trial 17 finished with value: 0.652927927927928 and parameters: {'n_estimators': 197, 'max_depth': 13, 'min_samples_split': 5, 'min_samples_leaf': 4, 'max_features': 'log2', 'bootstrap': False}. Best is trial 15 with value: 0.6550112612612612.\n",
            "[I 2025-05-12 12:38:17,305] Trial 18 finished with value: 0.652421171171171 and parameters: {'n_estimators': 207, 'max_depth': 14, 'min_samples_split': 4, 'min_samples_leaf': 3, 'max_features': 'sqrt', 'bootstrap': True}. Best is trial 15 with value: 0.6550112612612612.\n",
            "[I 2025-05-12 12:38:38,092] Trial 19 finished with value: 0.6536036036036036 and parameters: {'n_estimators': 145, 'max_depth': 13, 'min_samples_split': 6, 'min_samples_leaf': 3, 'max_features': 'log2', 'bootstrap': False}. Best is trial 15 with value: 0.6550112612612612.\n",
            "[I 2025-05-12 12:39:03,225] Trial 20 finished with value: 0.6515202702702703 and parameters: {'n_estimators': 142, 'max_depth': 18, 'min_samples_split': 5, 'min_samples_leaf': 4, 'max_features': 'log2', 'bootstrap': False}. Best is trial 15 with value: 0.6550112612612612.\n",
            "[I 2025-05-12 12:39:37,408] Trial 21 finished with value: 0.6523648648648649 and parameters: {'n_estimators': 193, 'max_depth': 16, 'min_samples_split': 7, 'min_samples_leaf': 2, 'max_features': 'log2', 'bootstrap': False}. Best is trial 15 with value: 0.6550112612612612.\n",
            "[I 2025-05-12 12:40:03,691] Trial 22 finished with value: 0.6516328828828829 and parameters: {'n_estimators': 158, 'max_depth': 15, 'min_samples_split': 9, 'min_samples_leaf': 2, 'max_features': 'log2', 'bootstrap': False}. Best is trial 15 with value: 0.6550112612612612.\n",
            "[I 2025-05-12 12:40:41,998] Trial 23 finished with value: 0.6539977477477478 and parameters: {'n_estimators': 223, 'max_depth': 17, 'min_samples_split': 7, 'min_samples_leaf': 3, 'max_features': 'log2', 'bootstrap': False}. Best is trial 15 with value: 0.6550112612612612.\n",
            "[I 2025-05-12 12:41:22,204] Trial 24 finished with value: 0.6528153153153152 and parameters: {'n_estimators': 220, 'max_depth': 20, 'min_samples_split': 7, 'min_samples_leaf': 3, 'max_features': 'log2', 'bootstrap': False}. Best is trial 15 with value: 0.6550112612612612.\n",
            "[I 2025-05-12 12:41:55,204] Trial 25 finished with value: 0.6498310810810811 and parameters: {'n_estimators': 182, 'max_depth': 17, 'min_samples_split': 5, 'min_samples_leaf': 3, 'max_features': 'log2', 'bootstrap': False}. Best is trial 15 with value: 0.6550112612612612.\n",
            "[I 2025-05-12 12:42:23,909] Trial 26 finished with value: 0.65 and parameters: {'n_estimators': 220, 'max_depth': 12, 'min_samples_split': 9, 'min_samples_leaf': 4, 'max_features': 'sqrt', 'bootstrap': True}. Best is trial 15 with value: 0.6550112612612612.\n",
            "[I 2025-05-12 12:42:54,368] Trial 27 finished with value: 0.652195945945946 and parameters: {'n_estimators': 190, 'max_depth': 14, 'min_samples_split': 3, 'min_samples_leaf': 3, 'max_features': 'log2', 'bootstrap': False}. Best is trial 15 with value: 0.6550112612612612.\n",
            "[I 2025-05-12 12:43:36,705] Trial 28 finished with value: 0.6534346846846847 and parameters: {'n_estimators': 239, 'max_depth': 18, 'min_samples_split': 7, 'min_samples_leaf': 3, 'max_features': 'log2', 'bootstrap': False}. Best is trial 15 with value: 0.6550112612612612.\n",
            "[I 2025-05-12 12:44:08,825] Trial 29 finished with value: 0.6504504504504505 and parameters: {'n_estimators': 298, 'max_depth': 9, 'min_samples_split': 6, 'min_samples_leaf': 1, 'max_features': 'sqrt', 'bootstrap': True}. Best is trial 15 with value: 0.6550112612612612.\n",
            "[I 2025-05-12 12:44:56,954] Trial 30 finished with value: 0.6542229729729729 and parameters: {'n_estimators': 274, 'max_depth': 15, 'min_samples_split': 5, 'min_samples_leaf': 1, 'max_features': 'log2', 'bootstrap': False}. Best is trial 15 with value: 0.6550112612612612.\n",
            "[I 2025-05-12 12:45:43,924] Trial 31 finished with value: 0.6547297297297296 and parameters: {'n_estimators': 276, 'max_depth': 15, 'min_samples_split': 5, 'min_samples_leaf': 1, 'max_features': 'log2', 'bootstrap': False}. Best is trial 15 with value: 0.6550112612612612.\n",
            "[I 2025-05-12 12:46:31,352] Trial 32 finished with value: 0.6537162162162162 and parameters: {'n_estimators': 282, 'max_depth': 15, 'min_samples_split': 5, 'min_samples_leaf': 1, 'max_features': 'log2', 'bootstrap': False}. Best is trial 15 with value: 0.6550112612612612.\n",
            "[I 2025-05-12 12:47:08,973] Trial 33 finished with value: 0.6541103603603604 and parameters: {'n_estimators': 280, 'max_depth': 11, 'min_samples_split': 4, 'min_samples_leaf': 1, 'max_features': 'log2', 'bootstrap': False}. Best is trial 15 with value: 0.6550112612612612.\n",
            "[I 2025-05-12 12:47:44,914] Trial 34 finished with value: 0.6538851351351351 and parameters: {'n_estimators': 281, 'max_depth': 11, 'min_samples_split': 4, 'min_samples_leaf': 1, 'max_features': 'log2', 'bootstrap': False}. Best is trial 15 with value: 0.6550112612612612.\n",
            "[I 2025-05-12 12:48:20,974] Trial 35 finished with value: 0.6528153153153154 and parameters: {'n_estimators': 266, 'max_depth': 11, 'min_samples_split': 3, 'min_samples_leaf': 1, 'max_features': 'log2', 'bootstrap': False}. Best is trial 15 with value: 0.6550112612612612.\n",
            "[I 2025-05-12 12:48:59,750] Trial 36 finished with value: 0.6526463963963964 and parameters: {'n_estimators': 285, 'max_depth': 12, 'min_samples_split': 3, 'min_samples_leaf': 1, 'max_features': 'log2', 'bootstrap': False}. Best is trial 15 with value: 0.6550112612612612.\n",
            "[I 2025-05-12 12:49:38,089] Trial 37 finished with value: 0.6474662162162163 and parameters: {'n_estimators': 269, 'max_depth': 8, 'min_samples_split': 5, 'min_samples_leaf': 1, 'max_features': 'sqrt', 'bootstrap': False}. Best is trial 15 with value: 0.6550112612612612.\n",
            "[I 2025-05-12 12:50:08,711] Trial 38 finished with value: 0.6501126126126126 and parameters: {'n_estimators': 289, 'max_depth': 13, 'min_samples_split': 4, 'min_samples_leaf': 1, 'max_features': 'log2', 'bootstrap': True}. Best is trial 15 with value: 0.6550112612612612.\n",
            "[I 2025-05-12 12:50:27,092] Trial 39 finished with value: 0.6430743243243243 and parameters: {'n_estimators': 249, 'max_depth': 6, 'min_samples_split': 6, 'min_samples_leaf': 5, 'max_features': 'log2', 'bootstrap': False}. Best is trial 15 with value: 0.6550112612612612.\n",
            "[I 2025-05-12 12:50:58,358] Trial 40 finished with value: 0.6529842342342342 and parameters: {'n_estimators': 263, 'max_depth': 10, 'min_samples_split': 6, 'min_samples_leaf': 1, 'max_features': 'log2', 'bootstrap': False}. Best is trial 15 with value: 0.6550112612612612.\n",
            "[I 2025-05-12 12:51:42,225] Trial 41 finished with value: 0.6532094594594594 and parameters: {'n_estimators': 275, 'max_depth': 14, 'min_samples_split': 5, 'min_samples_leaf': 2, 'max_features': 'log2', 'bootstrap': False}. Best is trial 15 with value: 0.6550112612612612.\n",
            "[I 2025-05-12 12:52:24,871] Trial 42 finished with value: 0.653322072072072 and parameters: {'n_estimators': 254, 'max_depth': 15, 'min_samples_split': 4, 'min_samples_leaf': 2, 'max_features': 'log2', 'bootstrap': False}. Best is trial 15 with value: 0.6550112612612612.\n",
            "[I 2025-05-12 12:53:10,441] Trial 43 finished with value: 0.6530968468468469 and parameters: {'n_estimators': 299, 'max_depth': 13, 'min_samples_split': 3, 'min_samples_leaf': 1, 'max_features': 'log2', 'bootstrap': False}. Best is trial 15 with value: 0.6550112612612612.\n",
            "[I 2025-05-12 12:53:50,956] Trial 44 finished with value: 0.6544481981981982 and parameters: {'n_estimators': 232, 'max_depth': 16, 'min_samples_split': 6, 'min_samples_leaf': 2, 'max_features': 'log2', 'bootstrap': False}. Best is trial 15 with value: 0.6550112612612612.\n",
            "[I 2025-05-12 12:54:33,468] Trial 45 finished with value: 0.6544481981981982 and parameters: {'n_estimators': 232, 'max_depth': 16, 'min_samples_split': 6, 'min_samples_leaf': 2, 'max_features': 'log2', 'bootstrap': False}. Best is trial 15 with value: 0.6550112612612612.\n",
            "[I 2025-05-12 12:55:26,077] Trial 46 finished with value: 0.6509009009009009 and parameters: {'n_estimators': 230, 'max_depth': 16, 'min_samples_split': 6, 'min_samples_leaf': 2, 'max_features': 'sqrt', 'bootstrap': False}. Best is trial 15 with value: 0.6550112612612612.\n",
            "[I 2025-05-12 12:55:57,681] Trial 47 finished with value: 0.6496058558558558 and parameters: {'n_estimators': 242, 'max_depth': 19, 'min_samples_split': 6, 'min_samples_leaf': 2, 'max_features': 'log2', 'bootstrap': True}. Best is trial 15 with value: 0.6550112612612612.\n",
            "[I 2025-05-12 12:56:33,119] Trial 48 finished with value: 0.6522522522522523 and parameters: {'n_estimators': 213, 'max_depth': 15, 'min_samples_split': 5, 'min_samples_leaf': 2, 'max_features': 'log2', 'bootstrap': False}. Best is trial 15 with value: 0.6550112612612612.\n",
            "[I 2025-05-12 12:57:15,183] Trial 49 finished with value: 0.6521396396396396 and parameters: {'n_estimators': 236, 'max_depth': 17, 'min_samples_split': 6, 'min_samples_leaf': 2, 'max_features': 'log2', 'bootstrap': False}. Best is trial 15 with value: 0.6550112612612612.\n",
            "[I 2025-05-12 12:57:59,670] Trial 50 finished with value: 0.6541103603603604 and parameters: {'n_estimators': 255, 'max_depth': 16, 'min_samples_split': 5, 'min_samples_leaf': 1, 'max_features': 'log2', 'bootstrap': False}. Best is trial 15 with value: 0.6550112612612612.\n",
            "[I 2025-05-12 12:58:43,530] Trial 51 finished with value: 0.6532094594594594 and parameters: {'n_estimators': 276, 'max_depth': 14, 'min_samples_split': 4, 'min_samples_leaf': 1, 'max_features': 'log2', 'bootstrap': False}. Best is trial 15 with value: 0.6550112612612612.\n",
            "[I 2025-05-12 12:59:26,829] Trial 52 finished with value: 0.6518581081081081 and parameters: {'n_estimators': 291, 'max_depth': 12, 'min_samples_split': 5, 'min_samples_leaf': 1, 'max_features': 'log2', 'bootstrap': False}. Best is trial 15 with value: 0.6550112612612612.\n",
            "[I 2025-05-12 13:00:10,193] Trial 53 finished with value: 0.654222972972973 and parameters: {'n_estimators': 248, 'max_depth': 16, 'min_samples_split': 5, 'min_samples_leaf': 1, 'max_features': 'log2', 'bootstrap': False}. Best is trial 15 with value: 0.6550112612612612.\n",
            "[I 2025-05-12 13:00:48,802] Trial 54 finished with value: 0.6551801801801802 and parameters: {'n_estimators': 230, 'max_depth': 16, 'min_samples_split': 6, 'min_samples_leaf': 2, 'max_features': 'log2', 'bootstrap': False}. Best is trial 54 with value: 0.6551801801801802.\n",
            "[I 2025-05-12 13:01:28,873] Trial 55 finished with value: 0.6545045045045045 and parameters: {'n_estimators': 231, 'max_depth': 16, 'min_samples_split': 6, 'min_samples_leaf': 2, 'max_features': 'log2', 'bootstrap': False}. Best is trial 54 with value: 0.6551801801801802.\n",
            "[I 2025-05-12 13:02:13,691] Trial 56 finished with value: 0.6498310810810811 and parameters: {'n_estimators': 212, 'max_depth': 19, 'min_samples_split': 7, 'min_samples_leaf': 2, 'max_features': 'log2', 'bootstrap': False}. Best is trial 54 with value: 0.6551801801801802.\n",
            "[I 2025-05-12 13:03:09,167] Trial 57 finished with value: 0.6514076576576576 and parameters: {'n_estimators': 228, 'max_depth': 17, 'min_samples_split': 6, 'min_samples_leaf': 2, 'max_features': 'sqrt', 'bootstrap': False}. Best is trial 54 with value: 0.6551801801801802.\n",
            "[I 2025-05-12 13:03:34,762] Trial 58 finished with value: 0.6520270270270271 and parameters: {'n_estimators': 199, 'max_depth': 18, 'min_samples_split': 6, 'min_samples_leaf': 2, 'max_features': 'log2', 'bootstrap': True}. Best is trial 54 with value: 0.6551801801801802.\n",
            "[I 2025-05-12 13:04:12,429] Trial 59 finished with value: 0.6528716216216216 and parameters: {'n_estimators': 214, 'max_depth': 16, 'min_samples_split': 7, 'min_samples_leaf': 3, 'max_features': 'log2', 'bootstrap': False}. Best is trial 54 with value: 0.6551801801801802.\n",
            "[I 2025-05-12 13:04:49,513] Trial 60 finished with value: 0.6536599099099099 and parameters: {'n_estimators': 236, 'max_depth': 14, 'min_samples_split': 6, 'min_samples_leaf': 4, 'max_features': 'log2', 'bootstrap': False}. Best is trial 54 with value: 0.6551801801801802.\n",
            "[I 2025-05-12 13:05:32,506] Trial 61 finished with value: 0.654054054054054 and parameters: {'n_estimators': 248, 'max_depth': 16, 'min_samples_split': 6, 'min_samples_leaf': 2, 'max_features': 'log2', 'bootstrap': False}. Best is trial 54 with value: 0.6551801801801802.\n",
            "[I 2025-05-12 13:06:13,244] Trial 62 finished with value: 0.6477477477477477 and parameters: {'n_estimators': 226, 'max_depth': 17, 'min_samples_split': 5, 'min_samples_leaf': 2, 'max_features': 'log2', 'bootstrap': False}. Best is trial 54 with value: 0.6551801801801802.\n",
            "[I 2025-05-12 13:06:52,955] Trial 63 finished with value: 0.652421171171171 and parameters: {'n_estimators': 246, 'max_depth': 15, 'min_samples_split': 5, 'min_samples_leaf': 2, 'max_features': 'log2', 'bootstrap': False}. Best is trial 54 with value: 0.6551801801801802.\n",
            "[I 2025-05-12 13:07:28,332] Trial 64 finished with value: 0.6527590090090091 and parameters: {'n_estimators': 206, 'max_depth': 16, 'min_samples_split': 6, 'min_samples_leaf': 3, 'max_features': 'log2', 'bootstrap': False}. Best is trial 54 with value: 0.6551801801801802.\n",
            "[I 2025-05-12 13:08:11,431] Trial 65 finished with value: 0.6514076576576576 and parameters: {'n_estimators': 232, 'max_depth': 18, 'min_samples_split': 7, 'min_samples_leaf': 2, 'max_features': 'log2', 'bootstrap': False}. Best is trial 54 with value: 0.6551801801801802.\n",
            "[I 2025-05-12 13:08:45,927] Trial 66 finished with value: 0.6518581081081082 and parameters: {'n_estimators': 219, 'max_depth': 14, 'min_samples_split': 5, 'min_samples_leaf': 3, 'max_features': 'log2', 'bootstrap': False}. Best is trial 54 with value: 0.6551801801801802.\n",
            "[I 2025-05-12 13:09:29,138] Trial 67 finished with value: 0.650731981981982 and parameters: {'n_estimators': 260, 'max_depth': 15, 'min_samples_split': 7, 'min_samples_leaf': 2, 'max_features': 'log2', 'bootstrap': False}. Best is trial 54 with value: 0.6551801801801802.\n",
            "[I 2025-05-12 13:10:24,320] Trial 68 finished with value: 0.6523085585585585 and parameters: {'n_estimators': 242, 'max_depth': 16, 'min_samples_split': 6, 'min_samples_leaf': 3, 'max_features': 'sqrt', 'bootstrap': False}. Best is trial 54 with value: 0.6551801801801802.\n",
            "[I 2025-05-12 13:10:46,608] Trial 69 finished with value: 0.649268018018018 and parameters: {'n_estimators': 185, 'max_depth': 17, 'min_samples_split': 8, 'min_samples_leaf': 2, 'max_features': 'log2', 'bootstrap': True}. Best is trial 54 with value: 0.6551801801801802.\n",
            "[I 2025-05-12 13:11:23,505] Trial 70 finished with value: 0.6533783783783784 and parameters: {'n_estimators': 252, 'max_depth': 13, 'min_samples_split': 5, 'min_samples_leaf': 4, 'max_features': 'log2', 'bootstrap': False}. Best is trial 54 with value: 0.6551801801801802.\n",
            "[I 2025-05-12 13:11:43,939] Trial 71 finished with value: 0.6519707207207207 and parameters: {'n_estimators': 123, 'max_depth': 15, 'min_samples_split': 5, 'min_samples_leaf': 1, 'max_features': 'log2', 'bootstrap': False}. Best is trial 54 with value: 0.6551801801801802.\n",
            "[I 2025-05-12 13:12:29,363] Trial 72 finished with value: 0.654391891891892 and parameters: {'n_estimators': 259, 'max_depth': 16, 'min_samples_split': 5, 'min_samples_leaf': 1, 'max_features': 'log2', 'bootstrap': False}. Best is trial 54 with value: 0.6551801801801802.\n",
            "[I 2025-05-12 13:13:14,396] Trial 73 finished with value: 0.654391891891892 and parameters: {'n_estimators': 259, 'max_depth': 16, 'min_samples_split': 5, 'min_samples_leaf': 1, 'max_features': 'log2', 'bootstrap': False}. Best is trial 54 with value: 0.6551801801801802.\n",
            "[I 2025-05-12 13:14:02,615] Trial 74 finished with value: 0.6538851351351351 and parameters: {'n_estimators': 262, 'max_depth': 17, 'min_samples_split': 6, 'min_samples_leaf': 1, 'max_features': 'log2', 'bootstrap': False}. Best is trial 54 with value: 0.6551801801801802.\n",
            "[I 2025-05-12 13:14:42,450] Trial 75 finished with value: 0.653153153153153 and parameters: {'n_estimators': 268, 'max_depth': 14, 'min_samples_split': 4, 'min_samples_leaf': 5, 'max_features': 'log2', 'bootstrap': False}. Best is trial 54 with value: 0.6551801801801802.\n",
            "[I 2025-05-12 13:15:21,482] Trial 76 finished with value: 0.6525337837837837 and parameters: {'n_estimators': 222, 'max_depth': 17, 'min_samples_split': 7, 'min_samples_leaf': 1, 'max_features': 'log2', 'bootstrap': False}. Best is trial 54 with value: 0.6551801801801802.\n",
            "[I 2025-05-12 13:16:10,311] Trial 77 finished with value: 0.6559684684684685 and parameters: {'n_estimators': 258, 'max_depth': 18, 'min_samples_split': 4, 'min_samples_leaf': 1, 'max_features': 'log2', 'bootstrap': False}. Best is trial 77 with value: 0.6559684684684685.\n",
            "[I 2025-05-12 13:16:54,272] Trial 78 finished with value: 0.65365990990991 and parameters: {'n_estimators': 234, 'max_depth': 20, 'min_samples_split': 4, 'min_samples_leaf': 2, 'max_features': 'log2', 'bootstrap': False}. Best is trial 77 with value: 0.6559684684684685.\n",
            "[I 2025-05-12 13:17:30,961] Trial 79 finished with value: 0.6543355855855856 and parameters: {'n_estimators': 203, 'max_depth': 18, 'min_samples_split': 4, 'min_samples_leaf': 1, 'max_features': 'log2', 'bootstrap': False}. Best is trial 77 with value: 0.6559684684684685.\n",
            "[I 2025-05-12 13:18:06,518] Trial 80 finished with value: 0.6505630630630631 and parameters: {'n_estimators': 211, 'max_depth': 19, 'min_samples_split': 10, 'min_samples_leaf': 2, 'max_features': 'sqrt', 'bootstrap': True}. Best is trial 77 with value: 0.6559684684684685.\n",
            "[I 2025-05-12 13:18:52,859] Trial 81 finished with value: 0.6541103603603604 and parameters: {'n_estimators': 258, 'max_depth': 16, 'min_samples_split': 5, 'min_samples_leaf': 1, 'max_features': 'log2', 'bootstrap': False}. Best is trial 77 with value: 0.6559684684684685.\n",
            "[I 2025-05-12 13:19:37,558] Trial 82 finished with value: 0.6524774774774774 and parameters: {'n_estimators': 243, 'max_depth': 18, 'min_samples_split': 6, 'min_samples_leaf': 1, 'max_features': 'log2', 'bootstrap': False}. Best is trial 77 with value: 0.6559684684684685.\n",
            "[I 2025-05-12 13:20:09,402] Trial 83 finished with value: 0.6541103603603603 and parameters: {'n_estimators': 192, 'max_depth': 15, 'min_samples_split': 5, 'min_samples_leaf': 1, 'max_features': 'log2', 'bootstrap': False}. Best is trial 77 with value: 0.6559684684684685.\n",
            "[I 2025-05-12 13:20:57,596] Trial 84 finished with value: 0.6537162162162162 and parameters: {'n_estimators': 271, 'max_depth': 17, 'min_samples_split': 6, 'min_samples_leaf': 1, 'max_features': 'log2', 'bootstrap': False}. Best is trial 77 with value: 0.6559684684684685.\n",
            "[I 2025-05-12 13:21:40,033] Trial 85 finished with value: 0.6532094594594595 and parameters: {'n_estimators': 239, 'max_depth': 16, 'min_samples_split': 4, 'min_samples_leaf': 1, 'max_features': 'log2', 'bootstrap': False}. Best is trial 77 with value: 0.6559684684684685.\n",
            "[I 2025-05-12 13:22:22,568] Trial 86 finished with value: 0.6530405405405405 and parameters: {'n_estimators': 252, 'max_depth': 15, 'min_samples_split': 6, 'min_samples_leaf': 1, 'max_features': 'log2', 'bootstrap': False}. Best is trial 77 with value: 0.6559684684684685.\n",
            "[I 2025-05-12 13:22:53,335] Trial 87 finished with value: 0.6505067567567567 and parameters: {'n_estimators': 174, 'max_depth': 17, 'min_samples_split': 3, 'min_samples_leaf': 2, 'max_features': 'log2', 'bootstrap': False}. Best is trial 77 with value: 0.6559684684684685.\n",
            "[I 2025-05-12 13:23:28,506] Trial 88 finished with value: 0.6524211711711713 and parameters: {'n_estimators': 217, 'max_depth': 14, 'min_samples_split': 5, 'min_samples_leaf': 3, 'max_features': 'log2', 'bootstrap': False}. Best is trial 77 with value: 0.6559684684684685.\n",
            "[I 2025-05-12 13:24:07,686] Trial 89 finished with value: 0.6539977477477478 and parameters: {'n_estimators': 227, 'max_depth': 15, 'min_samples_split': 5, 'min_samples_leaf': 1, 'max_features': 'log2', 'bootstrap': False}. Best is trial 77 with value: 0.6559684684684685.\n",
            "[I 2025-05-12 13:24:58,988] Trial 90 finished with value: 0.6526463963963964 and parameters: {'n_estimators': 291, 'max_depth': 16, 'min_samples_split': 4, 'min_samples_leaf': 2, 'max_features': 'log2', 'bootstrap': False}. Best is trial 77 with value: 0.6559684684684685.\n",
            "[I 2025-05-12 13:25:36,018] Trial 91 finished with value: 0.65365990990991 and parameters: {'n_estimators': 199, 'max_depth': 19, 'min_samples_split': 4, 'min_samples_leaf': 1, 'max_features': 'log2', 'bootstrap': False}. Best is trial 77 with value: 0.6559684684684685.\n",
            "[I 2025-05-12 13:26:27,030] Trial 92 finished with value: 0.654391891891892 and parameters: {'n_estimators': 265, 'max_depth': 18, 'min_samples_split': 3, 'min_samples_leaf': 1, 'max_features': 'log2', 'bootstrap': False}. Best is trial 77 with value: 0.6559684684684685.\n",
            "[I 2025-05-12 13:27:17,625] Trial 93 finished with value: 0.6546171171171171 and parameters: {'n_estimators': 263, 'max_depth': 18, 'min_samples_split': 2, 'min_samples_leaf': 1, 'max_features': 'log2', 'bootstrap': False}. Best is trial 77 with value: 0.6559684684684685.\n",
            "[I 2025-05-12 13:28:08,457] Trial 94 finished with value: 0.6531531531531533 and parameters: {'n_estimators': 273, 'max_depth': 17, 'min_samples_split': 6, 'min_samples_leaf': 1, 'max_features': 'log2', 'bootstrap': False}. Best is trial 77 with value: 0.6559684684684685.\n",
            "[I 2025-05-12 13:28:56,355] Trial 95 finished with value: 0.6525337837837838 and parameters: {'n_estimators': 257, 'max_depth': 16, 'min_samples_split': 2, 'min_samples_leaf': 1, 'max_features': 'log2', 'bootstrap': False}. Best is trial 77 with value: 0.6559684684684685.\n",
            "[I 2025-05-12 13:29:49,974] Trial 96 finished with value: 0.6519144144144143 and parameters: {'n_estimators': 278, 'max_depth': 18, 'min_samples_split': 2, 'min_samples_leaf': 2, 'max_features': 'log2', 'bootstrap': False}. Best is trial 77 with value: 0.6559684684684685.\n",
            "[I 2025-05-12 13:30:39,189] Trial 97 finished with value: 0.6520270270270271 and parameters: {'n_estimators': 239, 'max_depth': 17, 'min_samples_split': 6, 'min_samples_leaf': 1, 'max_features': 'log2', 'bootstrap': False}. Best is trial 77 with value: 0.6559684684684685.\n",
            "[I 2025-05-12 13:31:05,055] Trial 98 finished with value: 0.6494369369369369 and parameters: {'n_estimators': 162, 'max_depth': 15, 'min_samples_split': 2, 'min_samples_leaf': 2, 'max_features': 'sqrt', 'bootstrap': True}. Best is trial 77 with value: 0.6559684684684685.\n",
            "[I 2025-05-12 13:31:55,373] Trial 99 finished with value: 0.6521396396396396 and parameters: {'n_estimators': 264, 'max_depth': 19, 'min_samples_split': 7, 'min_samples_leaf': 1, 'max_features': 'log2', 'bootstrap': False}. Best is trial 77 with value: 0.6559684684684685.\n"
          ]
        },
        {
          "output_type": "stream",
          "name": "stdout",
          "text": [
            "Best Score: 0.6559684684684685\n",
            "Best Params: {'n_estimators': 258, 'max_depth': 18, 'min_samples_split': 4, 'min_samples_leaf': 1, 'max_features': 'log2', 'bootstrap': False}\n"
          ]
        }
      ]
    },
    {
      "cell_type": "code",
      "source": [
        "# logistic regression tuning\n",
        "def lr_objective(trial):\n",
        "    solver = trial.suggest_categorical('solver', ['liblinear', 'lbfgs'])\n",
        "    penalty = 'l2' if solver != 'liblinear' else trial.suggest_categorical('penalty', ['l1', 'l2'])\n",
        "\n",
        "    params = {\n",
        "        'C': trial.suggest_float('C', 1e-3, 100.0, log=True),\n",
        "        'solver': solver,\n",
        "        'penalty': penalty,\n",
        "        'max_iter': 1000\n",
        "    }\n",
        "\n",
        "    model = LogisticRegression(**params)\n",
        "    score = cross_val_score(model, X_train, y_train, cv=3, scoring='accuracy', n_jobs=-1)\n",
        "    return score.mean()\n",
        "\n",
        "study_lr = optuna.create_study(direction='maximize')\n",
        "study_lr.optimize(lr_objective, n_trials=300)\n",
        "\n",
        "print(\"Best Params:\", study_lr.best_params)\n",
        "print(\"Best Score:\", study_lr.best_value)"
      ],
      "metadata": {
        "colab": {
          "base_uri": "https://localhost:8080/"
        },
        "collapsed": true,
        "id": "DTbT0pYQa6xQ",
        "outputId": "2f66f4d9-64d2-47e6-a66f-7d862e5bc40f"
      },
      "execution_count": 18,
      "outputs": [
        {
          "output_type": "stream",
          "name": "stderr",
          "text": [
            "[I 2025-05-12 13:32:02,571] A new study created in memory with name: no-name-f9a4086b-f076-4248-b46a-21c9fd518707\n",
            "[I 2025-05-12 13:32:03,124] Trial 0 finished with value: 0.6400337837837838 and parameters: {'solver': 'lbfgs', 'C': 54.34323892674367}. Best is trial 0 with value: 0.6400337837837838.\n",
            "[I 2025-05-12 13:32:05,195] Trial 1 finished with value: 0.6395833333333333 and parameters: {'solver': 'liblinear', 'penalty': 'l2', 'C': 18.204261868935664}. Best is trial 0 with value: 0.6400337837837838.\n",
            "[I 2025-05-12 13:32:05,699] Trial 2 finished with value: 0.6402027027027026 and parameters: {'solver': 'lbfgs', 'C': 6.442652874264538}. Best is trial 2 with value: 0.6402027027027026.\n",
            "[I 2025-05-12 13:32:06,029] Trial 3 finished with value: 0.6367680180180181 and parameters: {'solver': 'lbfgs', 'C': 0.004514257593669814}. Best is trial 2 with value: 0.6402027027027026.\n",
            "[I 2025-05-12 13:32:06,448] Trial 4 finished with value: 0.6318693693693693 and parameters: {'solver': 'liblinear', 'penalty': 'l2', 'C': 0.0014067643802382736}. Best is trial 2 with value: 0.6402027027027026.\n",
            "[I 2025-05-12 13:32:06,780] Trial 5 finished with value: 0.637894144144144 and parameters: {'solver': 'lbfgs', 'C': 0.010455011859061503}. Best is trial 2 with value: 0.6402027027027026.\n",
            "[I 2025-05-12 13:32:07,233] Trial 6 finished with value: 0.6397522522522522 and parameters: {'solver': 'lbfgs', 'C': 0.14156776527626452}. Best is trial 2 with value: 0.6402027027027026.\n",
            "[I 2025-05-12 13:32:11,078] Trial 7 finished with value: 0.6398648648648649 and parameters: {'solver': 'liblinear', 'penalty': 'l1', 'C': 1.7965897489804992}. Best is trial 2 with value: 0.6402027027027026.\n",
            "[I 2025-05-12 13:32:11,880] Trial 8 finished with value: 0.6403153153153154 and parameters: {'solver': 'lbfgs', 'C': 1.7437644605326448}. Best is trial 8 with value: 0.6403153153153154.\n",
            "[I 2025-05-12 13:32:12,686] Trial 9 finished with value: 0.6398085585585586 and parameters: {'solver': 'lbfgs', 'C': 35.56350570483378}. Best is trial 8 with value: 0.6403153153153154.\n",
            "[I 2025-05-12 13:32:14,041] Trial 10 finished with value: 0.6349099099099099 and parameters: {'solver': 'liblinear', 'penalty': 'l1', 'C': 0.09318538623880837}. Best is trial 8 with value: 0.6403153153153154.\n",
            "[I 2025-05-12 13:32:14,574] Trial 11 finished with value: 0.640259009009009 and parameters: {'solver': 'lbfgs', 'C': 2.6954616431530445}. Best is trial 8 with value: 0.6403153153153154.\n",
            "[I 2025-05-12 13:32:15,119] Trial 12 finished with value: 0.6404842342342342 and parameters: {'solver': 'lbfgs', 'C': 0.9685102516954125}. Best is trial 12 with value: 0.6404842342342342.\n",
            "[I 2025-05-12 13:32:15,654] Trial 13 finished with value: 0.6400337837837838 and parameters: {'solver': 'lbfgs', 'C': 0.5501760981006689}. Best is trial 12 with value: 0.6404842342342342.\n",
            "[I 2025-05-12 13:32:16,059] Trial 14 finished with value: 0.639695945945946 and parameters: {'solver': 'lbfgs', 'C': 0.5353403917513953}. Best is trial 12 with value: 0.6404842342342342.\n",
            "[I 2025-05-12 13:32:16,475] Trial 15 finished with value: 0.6396396396396397 and parameters: {'solver': 'lbfgs', 'C': 0.08019058070547969}. Best is trial 12 with value: 0.6404842342342342.\n",
            "[I 2025-05-12 13:32:16,987] Trial 16 finished with value: 0.6402027027027026 and parameters: {'solver': 'lbfgs', 'C': 2.208161329344187}. Best is trial 12 with value: 0.6404842342342342.\n",
            "[I 2025-05-12 13:32:17,366] Trial 17 finished with value: 0.6378378378378379 and parameters: {'solver': 'lbfgs', 'C': 0.024260473953555024}. Best is trial 12 with value: 0.6404842342342342.\n",
            "[I 2025-05-12 13:32:19,076] Trial 18 finished with value: 0.6390765765765766 and parameters: {'solver': 'liblinear', 'penalty': 'l2', 'C': 7.593041200220414}. Best is trial 12 with value: 0.6404842342342342.\n",
            "[I 2025-05-12 13:32:19,634] Trial 19 finished with value: 0.6405405405405405 and parameters: {'solver': 'lbfgs', 'C': 0.8331397919732316}. Best is trial 19 with value: 0.6405405405405405.\n",
            "[I 2025-05-12 13:32:20,114] Trial 20 finished with value: 0.6398648648648648 and parameters: {'solver': 'lbfgs', 'C': 0.3586076941301851}. Best is trial 19 with value: 0.6405405405405405.\n",
            "[I 2025-05-12 13:32:20,631] Trial 21 finished with value: 0.6405405405405405 and parameters: {'solver': 'lbfgs', 'C': 1.7172007970045577}. Best is trial 19 with value: 0.6405405405405405.\n",
            "[I 2025-05-12 13:32:21,115] Trial 22 finished with value: 0.6398648648648648 and parameters: {'solver': 'lbfgs', 'C': 0.8072755060276727}. Best is trial 19 with value: 0.6405405405405405.\n",
            "[I 2025-05-12 13:32:21,702] Trial 23 finished with value: 0.6393581081081081 and parameters: {'solver': 'lbfgs', 'C': 6.396746190760563}. Best is trial 19 with value: 0.6405405405405405.\n",
            "[I 2025-05-12 13:32:22,152] Trial 24 finished with value: 0.6399211711711712 and parameters: {'solver': 'lbfgs', 'C': 0.21588153446789507}. Best is trial 19 with value: 0.6405405405405405.\n",
            "[I 2025-05-12 13:32:22,536] Trial 25 finished with value: 0.6376126126126126 and parameters: {'solver': 'lbfgs', 'C': 0.040830291633120845}. Best is trial 19 with value: 0.6405405405405405.\n",
            "[I 2025-05-12 13:32:24,744] Trial 26 finished with value: 0.639527027027027 and parameters: {'solver': 'liblinear', 'penalty': 'l1', 'C': 0.916182483951114}. Best is trial 19 with value: 0.6405405405405405.\n",
            "[I 2025-05-12 13:32:25,564] Trial 27 finished with value: 0.6399211711711712 and parameters: {'solver': 'lbfgs', 'C': 14.773974128197365}. Best is trial 19 with value: 0.6405405405405405.\n",
            "[I 2025-05-12 13:32:26,266] Trial 28 finished with value: 0.640259009009009 and parameters: {'solver': 'lbfgs', 'C': 3.906951334702404}. Best is trial 19 with value: 0.6405405405405405.\n",
            "[I 2025-05-12 13:32:26,906] Trial 29 finished with value: 0.6396396396396397 and parameters: {'solver': 'lbfgs', 'C': 0.2625069481591807}. Best is trial 19 with value: 0.6405405405405405.\n",
            "[I 2025-05-12 13:32:27,786] Trial 30 finished with value: 0.6396396396396397 and parameters: {'solver': 'lbfgs', 'C': 55.15700213985165}. Best is trial 19 with value: 0.6405405405405405.\n",
            "[I 2025-05-12 13:32:28,417] Trial 31 finished with value: 0.6405405405405405 and parameters: {'solver': 'lbfgs', 'C': 1.4340161280287906}. Best is trial 19 with value: 0.6405405405405405.\n",
            "[I 2025-05-12 13:32:28,905] Trial 32 finished with value: 0.6406531531531532 and parameters: {'solver': 'lbfgs', 'C': 1.1592660763212101}. Best is trial 32 with value: 0.6406531531531532.\n",
            "[I 2025-05-12 13:32:29,399] Trial 33 finished with value: 0.640427927927928 and parameters: {'solver': 'lbfgs', 'C': 1.2985790725886692}. Best is trial 32 with value: 0.6406531531531532.\n",
            "[I 2025-05-12 13:32:29,865] Trial 34 finished with value: 0.6398648648648648 and parameters: {'solver': 'lbfgs', 'C': 12.156464897416956}. Best is trial 32 with value: 0.6406531531531532.\n",
            "[I 2025-05-12 13:32:31,566] Trial 35 finished with value: 0.6390765765765765 and parameters: {'solver': 'liblinear', 'penalty': 'l2', 'C': 4.243815731479303}. Best is trial 32 with value: 0.6406531531531532.\n",
            "[I 2025-05-12 13:32:32,032] Trial 36 finished with value: 0.6400337837837838 and parameters: {'solver': 'lbfgs', 'C': 0.42315446846199906}. Best is trial 32 with value: 0.6406531531531532.\n",
            "[I 2025-05-12 13:32:32,481] Trial 37 finished with value: 0.6402027027027027 and parameters: {'solver': 'lbfgs', 'C': 0.1567844405093598}. Best is trial 32 with value: 0.6406531531531532.\n",
            "[I 2025-05-12 13:32:36,168] Trial 38 finished with value: 0.6394144144144144 and parameters: {'solver': 'liblinear', 'penalty': 'l1', 'C': 27.429743117305886}. Best is trial 32 with value: 0.6406531531531532.\n",
            "[I 2025-05-12 13:32:36,782] Trial 39 finished with value: 0.6396959459459459 and parameters: {'solver': 'lbfgs', 'C': 3.4677854399962165}. Best is trial 32 with value: 0.6406531531531532.\n",
            "[I 2025-05-12 13:32:37,310] Trial 40 finished with value: 0.6400337837837838 and parameters: {'solver': 'lbfgs', 'C': 1.4820198834880427}. Best is trial 32 with value: 0.6406531531531532.\n",
            "[I 2025-05-12 13:32:37,815] Trial 41 finished with value: 0.640259009009009 and parameters: {'solver': 'lbfgs', 'C': 0.8348483112971737}. Best is trial 32 with value: 0.6406531531531532.\n",
            "[I 2025-05-12 13:32:38,422] Trial 42 finished with value: 0.6403716216216216 and parameters: {'solver': 'lbfgs', 'C': 0.9068107810155179}. Best is trial 32 with value: 0.6406531531531532.\n",
            "[I 2025-05-12 13:32:39,193] Trial 43 finished with value: 0.6399211711711712 and parameters: {'solver': 'lbfgs', 'C': 6.629703419649731}. Best is trial 32 with value: 0.6406531531531532.\n",
            "[I 2025-05-12 13:32:39,968] Trial 44 finished with value: 0.6404279279279278 and parameters: {'solver': 'lbfgs', 'C': 1.2529976544998702}. Best is trial 32 with value: 0.6406531531531532.\n",
            "[I 2025-05-12 13:32:40,345] Trial 45 finished with value: 0.6286599099099099 and parameters: {'solver': 'lbfgs', 'C': 0.0010422698847069485}. Best is trial 32 with value: 0.6406531531531532.\n",
            "[I 2025-05-12 13:32:41,217] Trial 46 finished with value: 0.6403153153153153 and parameters: {'solver': 'lbfgs', 'C': 2.04236229121734}. Best is trial 32 with value: 0.6406531531531532.\n",
            "[I 2025-05-12 13:32:43,542] Trial 47 finished with value: 0.6391891891891892 and parameters: {'solver': 'liblinear', 'penalty': 'l1', 'C': 0.641611296521793}. Best is trial 32 with value: 0.6406531531531532.\n",
            "[I 2025-05-12 13:32:43,876] Trial 48 finished with value: 0.635472972972973 and parameters: {'solver': 'lbfgs', 'C': 0.002853058449184732}. Best is trial 32 with value: 0.6406531531531532.\n",
            "[I 2025-05-12 13:32:44,355] Trial 49 finished with value: 0.6399774774774775 and parameters: {'solver': 'lbfgs', 'C': 0.09333322315365428}. Best is trial 32 with value: 0.6406531531531532.\n",
            "[I 2025-05-12 13:32:44,837] Trial 50 finished with value: 0.6396396396396397 and parameters: {'solver': 'lbfgs', 'C': 0.3152681689392591}. Best is trial 32 with value: 0.6406531531531532.\n",
            "[I 2025-05-12 13:32:45,410] Trial 51 finished with value: 0.6397522522522522 and parameters: {'solver': 'lbfgs', 'C': 93.64855724027764}. Best is trial 32 with value: 0.6406531531531532.\n",
            "[I 2025-05-12 13:32:45,928] Trial 52 finished with value: 0.6402027027027027 and parameters: {'solver': 'lbfgs', 'C': 1.3390675269937078}. Best is trial 32 with value: 0.6406531531531532.\n",
            "[I 2025-05-12 13:32:46,500] Trial 53 finished with value: 0.6402027027027026 and parameters: {'solver': 'lbfgs', 'C': 2.9776813419429797}. Best is trial 32 with value: 0.6406531531531532.\n",
            "[I 2025-05-12 13:32:46,952] Trial 54 finished with value: 0.6393018018018017 and parameters: {'solver': 'lbfgs', 'C': 0.4839394791120748}. Best is trial 32 with value: 0.6406531531531532.\n",
            "[I 2025-05-12 13:32:47,468] Trial 55 finished with value: 0.6404279279279278 and parameters: {'solver': 'lbfgs', 'C': 1.754159358495704}. Best is trial 32 with value: 0.6406531531531532.\n",
            "[I 2025-05-12 13:32:47,989] Trial 56 finished with value: 0.639527027027027 and parameters: {'solver': 'lbfgs', 'C': 5.477384706095226}. Best is trial 32 with value: 0.6406531531531532.\n",
            "[I 2025-05-12 13:32:48,575] Trial 57 finished with value: 0.6395833333333333 and parameters: {'solver': 'lbfgs', 'C': 8.870101959831368}. Best is trial 32 with value: 0.6406531531531532.\n",
            "[I 2025-05-12 13:32:49,503] Trial 58 finished with value: 0.6391328828828828 and parameters: {'solver': 'liblinear', 'penalty': 'l2', 'C': 0.1720797690210014}. Best is trial 32 with value: 0.6406531531531532.\n",
            "[I 2025-05-12 13:32:50,033] Trial 59 finished with value: 0.640259009009009 and parameters: {'solver': 'lbfgs', 'C': 2.6299515731012986}. Best is trial 32 with value: 0.6406531531531532.\n",
            "[I 2025-05-12 13:32:50,543] Trial 60 finished with value: 0.6395833333333334 and parameters: {'solver': 'lbfgs', 'C': 0.6310594238944506}. Best is trial 32 with value: 0.6406531531531532.\n",
            "[I 2025-05-12 13:32:51,014] Trial 61 finished with value: 0.6402027027027027 and parameters: {'solver': 'lbfgs', 'C': 1.2265584977589477}. Best is trial 32 with value: 0.6406531531531532.\n",
            "[I 2025-05-12 13:32:51,490] Trial 62 finished with value: 0.6407657657657658 and parameters: {'solver': 'lbfgs', 'C': 1.0845761956897975}. Best is trial 62 with value: 0.6407657657657658.\n",
            "[I 2025-05-12 13:32:51,974] Trial 63 finished with value: 0.6407657657657658 and parameters: {'solver': 'lbfgs', 'C': 1.0796336865867942}. Best is trial 62 with value: 0.6407657657657658.\n",
            "[I 2025-05-12 13:32:52,702] Trial 64 finished with value: 0.6403153153153154 and parameters: {'solver': 'lbfgs', 'C': 2.243761361818459}. Best is trial 62 with value: 0.6407657657657658.\n",
            "[I 2025-05-12 13:32:53,374] Trial 65 finished with value: 0.6399211711711712 and parameters: {'solver': 'lbfgs', 'C': 0.39412708216448306}. Best is trial 62 with value: 0.6407657657657658.\n",
            "[I 2025-05-12 13:32:54,012] Trial 66 finished with value: 0.6396396396396397 and parameters: {'solver': 'lbfgs', 'C': 0.7154259248291712}. Best is trial 62 with value: 0.6407657657657658.\n",
            "[I 2025-05-12 13:32:54,734] Trial 67 finished with value: 0.6395270270270269 and parameters: {'solver': 'lbfgs', 'C': 0.2627662383674729}. Best is trial 62 with value: 0.6407657657657658.\n",
            "[I 2025-05-12 13:32:56,605] Trial 68 finished with value: 0.6391891891891892 and parameters: {'solver': 'liblinear', 'penalty': 'l2', 'C': 1.1571193903603105}. Best is trial 62 with value: 0.6407657657657658.\n",
            "[I 2025-05-12 13:32:57,217] Trial 69 finished with value: 0.639527027027027 and parameters: {'solver': 'lbfgs', 'C': 3.8034561675837657}. Best is trial 62 with value: 0.6407657657657658.\n",
            "[I 2025-05-12 13:32:57,699] Trial 70 finished with value: 0.6396396396396397 and parameters: {'solver': 'lbfgs', 'C': 0.5323506273986346}. Best is trial 62 with value: 0.6407657657657658.\n",
            "[I 2025-05-12 13:32:58,232] Trial 71 finished with value: 0.6402027027027026 and parameters: {'solver': 'lbfgs', 'C': 0.986917060434685}. Best is trial 62 with value: 0.6407657657657658.\n",
            "[I 2025-05-12 13:32:58,739] Trial 72 finished with value: 0.6399211711711712 and parameters: {'solver': 'lbfgs', 'C': 1.8989552060126798}. Best is trial 62 with value: 0.6407657657657658.\n",
            "[I 2025-05-12 13:32:59,286] Trial 73 finished with value: 0.6401463963963964 and parameters: {'solver': 'lbfgs', 'C': 1.480915571366115}. Best is trial 62 with value: 0.6407657657657658.\n",
            "[I 2025-05-12 13:32:59,788] Trial 74 finished with value: 0.640259009009009 and parameters: {'solver': 'lbfgs', 'C': 4.9179330384416255}. Best is trial 62 with value: 0.6407657657657658.\n",
            "[I 2025-05-12 13:33:00,314] Trial 75 finished with value: 0.640259009009009 and parameters: {'solver': 'lbfgs', 'C': 2.7039963052633844}. Best is trial 62 with value: 0.6407657657657658.\n",
            "[I 2025-05-12 13:33:00,786] Trial 76 finished with value: 0.6405405405405405 and parameters: {'solver': 'lbfgs', 'C': 0.8665445426852122}. Best is trial 62 with value: 0.6407657657657658.\n",
            "[I 2025-05-12 13:33:01,294] Trial 77 finished with value: 0.6400900900900902 and parameters: {'solver': 'lbfgs', 'C': 0.8014209603394805}. Best is trial 62 with value: 0.6407657657657658.\n",
            "[I 2025-05-12 13:33:01,748] Trial 78 finished with value: 0.6397522522522522 and parameters: {'solver': 'lbfgs', 'C': 0.3598743508254316}. Best is trial 62 with value: 0.6407657657657658.\n",
            "[I 2025-05-12 13:33:02,202] Trial 79 finished with value: 0.6400900900900902 and parameters: {'solver': 'lbfgs', 'C': 0.21291270560128542}. Best is trial 62 with value: 0.6407657657657658.\n",
            "[I 2025-05-12 13:33:03,112] Trial 80 finished with value: 0.6362612612612613 and parameters: {'solver': 'liblinear', 'penalty': 'l1', 'C': 0.11523327588857366}. Best is trial 62 with value: 0.6407657657657658.\n",
            "[I 2025-05-12 13:33:03,605] Trial 81 finished with value: 0.6405968468468469 and parameters: {'solver': 'lbfgs', 'C': 0.9618184527295982}. Best is trial 62 with value: 0.6407657657657658.\n",
            "[I 2025-05-12 13:33:04,071] Trial 82 finished with value: 0.6396396396396397 and parameters: {'solver': 'lbfgs', 'C': 0.5567279458946474}. Best is trial 62 with value: 0.6407657657657658.\n",
            "[I 2025-05-12 13:33:04,596] Trial 83 finished with value: 0.6407094594594595 and parameters: {'solver': 'lbfgs', 'C': 0.953123808285876}. Best is trial 62 with value: 0.6407657657657658.\n",
            "[I 2025-05-12 13:33:05,086] Trial 84 finished with value: 0.6403153153153153 and parameters: {'solver': 'lbfgs', 'C': 0.9933024931409664}. Best is trial 62 with value: 0.6407657657657658.\n",
            "[I 2025-05-12 13:33:05,634] Trial 85 finished with value: 0.64009009009009 and parameters: {'solver': 'lbfgs', 'C': 1.7544749692812953}. Best is trial 62 with value: 0.6407657657657658.\n",
            "[I 2025-05-12 13:33:06,137] Trial 86 finished with value: 0.6401463963963964 and parameters: {'solver': 'lbfgs', 'C': 0.7244145236829875}. Best is trial 62 with value: 0.6407657657657658.\n",
            "[I 2025-05-12 13:33:06,790] Trial 87 finished with value: 0.6399774774774775 and parameters: {'solver': 'lbfgs', 'C': 2.1829207483204427}. Best is trial 62 with value: 0.6407657657657658.\n",
            "[I 2025-05-12 13:33:07,342] Trial 88 finished with value: 0.6382882882882882 and parameters: {'solver': 'lbfgs', 'C': 0.05127372869857695}. Best is trial 62 with value: 0.6407657657657658.\n",
            "[I 2025-05-12 13:33:08,117] Trial 89 finished with value: 0.6397522522522522 and parameters: {'solver': 'lbfgs', 'C': 3.0573932107504747}. Best is trial 62 with value: 0.6407657657657658.\n",
            "[I 2025-05-12 13:33:08,873] Trial 90 finished with value: 0.6397522522522522 and parameters: {'solver': 'lbfgs', 'C': 0.3013064728514347}. Best is trial 62 with value: 0.6407657657657658.\n",
            "[I 2025-05-12 13:33:09,656] Trial 91 finished with value: 0.6404842342342343 and parameters: {'solver': 'lbfgs', 'C': 1.0765446497589448}. Best is trial 62 with value: 0.6407657657657658.\n",
            "[I 2025-05-12 13:33:10,344] Trial 92 finished with value: 0.6407094594594595 and parameters: {'solver': 'lbfgs', 'C': 1.1476004579143302}. Best is trial 62 with value: 0.6407657657657658.\n",
            "[I 2025-05-12 13:33:10,866] Trial 93 finished with value: 0.6397522522522522 and parameters: {'solver': 'lbfgs', 'C': 0.45256837110606724}. Best is trial 62 with value: 0.6407657657657658.\n",
            "[I 2025-05-12 13:33:11,380] Trial 94 finished with value: 0.6405405405405405 and parameters: {'solver': 'lbfgs', 'C': 1.5734177526442388}. Best is trial 62 with value: 0.6407657657657658.\n",
            "[I 2025-05-12 13:33:11,887] Trial 95 finished with value: 0.6401463963963964 and parameters: {'solver': 'lbfgs', 'C': 0.8351904602868878}. Best is trial 62 with value: 0.6407657657657658.\n",
            "[I 2025-05-12 13:33:12,400] Trial 96 finished with value: 0.6405968468468468 and parameters: {'solver': 'lbfgs', 'C': 1.1709299262337969}. Best is trial 62 with value: 0.6407657657657658.\n",
            "[I 2025-05-12 13:33:12,918] Trial 97 finished with value: 0.6403153153153154 and parameters: {'solver': 'lbfgs', 'C': 1.3910829942015166}. Best is trial 62 with value: 0.6407657657657658.\n",
            "[I 2025-05-12 13:33:13,433] Trial 98 finished with value: 0.6405968468468469 and parameters: {'solver': 'lbfgs', 'C': 2.38161469673268}. Best is trial 62 with value: 0.6407657657657658.\n",
            "[I 2025-05-12 13:33:16,441] Trial 99 finished with value: 0.6398085585585586 and parameters: {'solver': 'liblinear', 'penalty': 'l1', 'C': 2.3725894734604505}. Best is trial 62 with value: 0.6407657657657658.\n",
            "[I 2025-05-12 13:33:16,974] Trial 100 finished with value: 0.640427927927928 and parameters: {'solver': 'lbfgs', 'C': 4.417802372929372}. Best is trial 62 with value: 0.6407657657657658.\n",
            "[I 2025-05-12 13:33:17,479] Trial 101 finished with value: 0.6399211711711712 and parameters: {'solver': 'lbfgs', 'C': 1.8116400196757059}. Best is trial 62 with value: 0.6407657657657658.\n",
            "[I 2025-05-12 13:33:17,950] Trial 102 finished with value: 0.6398648648648648 and parameters: {'solver': 'lbfgs', 'C': 0.5889082234172656}. Best is trial 62 with value: 0.6407657657657658.\n",
            "[I 2025-05-12 13:33:18,464] Trial 103 finished with value: 0.6403153153153154 and parameters: {'solver': 'lbfgs', 'C': 3.4870158927591577}. Best is trial 62 with value: 0.6407657657657658.\n",
            "[I 2025-05-12 13:33:18,948] Trial 104 finished with value: 0.6406531531531532 and parameters: {'solver': 'lbfgs', 'C': 1.154627630583921}. Best is trial 62 with value: 0.6407657657657658.\n",
            "[I 2025-05-12 13:33:19,478] Trial 105 finished with value: 0.6405405405405405 and parameters: {'solver': 'lbfgs', 'C': 1.0694783531287555}. Best is trial 62 with value: 0.6407657657657658.\n",
            "[I 2025-05-12 13:33:19,963] Trial 106 finished with value: 0.6400337837837838 and parameters: {'solver': 'lbfgs', 'C': 0.6793548891884573}. Best is trial 62 with value: 0.6407657657657658.\n",
            "[I 2025-05-12 13:33:20,629] Trial 107 finished with value: 0.6399774774774775 and parameters: {'solver': 'lbfgs', 'C': 1.2686643360937622}. Best is trial 62 with value: 0.6407657657657658.\n",
            "[I 2025-05-12 13:33:21,130] Trial 108 finished with value: 0.6369932432432432 and parameters: {'solver': 'lbfgs', 'C': 0.0088080296864121}. Best is trial 62 with value: 0.6407657657657658.\n",
            "[I 2025-05-12 13:33:21,821] Trial 109 finished with value: 0.6399211711711712 and parameters: {'solver': 'lbfgs', 'C': 0.4250019336347528}. Best is trial 62 with value: 0.6407657657657658.\n",
            "[I 2025-05-12 13:33:22,602] Trial 110 finished with value: 0.6403153153153154 and parameters: {'solver': 'lbfgs', 'C': 9.058850974357144}. Best is trial 62 with value: 0.6407657657657658.\n",
            "[I 2025-05-12 13:33:23,370] Trial 111 finished with value: 0.6403153153153153 and parameters: {'solver': 'lbfgs', 'C': 1.5658412555894323}. Best is trial 62 with value: 0.6407657657657658.\n",
            "[I 2025-05-12 13:33:24,091] Trial 112 finished with value: 0.6402590090090091 and parameters: {'solver': 'lbfgs', 'C': 2.093501016903896}. Best is trial 62 with value: 0.6407657657657658.\n",
            "[I 2025-05-12 13:33:24,704] Trial 113 finished with value: 0.6394144144144144 and parameters: {'solver': 'lbfgs', 'C': 2.966836830789651}. Best is trial 62 with value: 0.6407657657657658.\n",
            "[I 2025-05-12 13:33:25,226] Trial 114 finished with value: 0.6402027027027026 and parameters: {'solver': 'lbfgs', 'C': 1.131445153096235}. Best is trial 62 with value: 0.6407657657657658.\n",
            "[I 2025-05-12 13:33:25,739] Trial 115 finished with value: 0.6396396396396397 and parameters: {'solver': 'lbfgs', 'C': 0.7441563796471308}. Best is trial 62 with value: 0.6407657657657658.\n",
            "[I 2025-05-12 13:33:26,219] Trial 116 finished with value: 0.64009009009009 and parameters: {'solver': 'lbfgs', 'C': 0.9416000360071072}. Best is trial 62 with value: 0.6407657657657658.\n",
            "[I 2025-05-12 13:33:26,752] Trial 117 finished with value: 0.6407094594594595 and parameters: {'solver': 'lbfgs', 'C': 1.4522057460078412}. Best is trial 62 with value: 0.6407657657657658.\n",
            "[I 2025-05-12 13:33:28,163] Trial 118 finished with value: 0.6394144144144144 and parameters: {'solver': 'liblinear', 'penalty': 'l2', 'C': 0.5108113849392882}. Best is trial 62 with value: 0.6407657657657658.\n",
            "[I 2025-05-12 13:33:28,995] Trial 119 finished with value: 0.6404842342342342 and parameters: {'solver': 'lbfgs', 'C': 1.726696171436562}. Best is trial 62 with value: 0.6407657657657658.\n",
            "[I 2025-05-12 13:33:29,839] Trial 120 finished with value: 0.6404842342342342 and parameters: {'solver': 'lbfgs', 'C': 2.2078741669023176}. Best is trial 62 with value: 0.6407657657657658.\n",
            "[I 2025-05-12 13:33:30,664] Trial 121 finished with value: 0.640259009009009 and parameters: {'solver': 'lbfgs', 'C': 1.398860423453505}. Best is trial 62 with value: 0.6407657657657658.\n",
            "[I 2025-05-12 13:33:31,345] Trial 122 finished with value: 0.6401463963963964 and parameters: {'solver': 'lbfgs', 'C': 1.1159121667631748}. Best is trial 62 with value: 0.6407657657657658.\n",
            "[I 2025-05-12 13:33:31,889] Trial 123 finished with value: 0.6403716216216216 and parameters: {'solver': 'lbfgs', 'C': 2.5855461399743818}. Best is trial 62 with value: 0.6407657657657658.\n",
            "[I 2025-05-12 13:33:32,398] Trial 124 finished with value: 0.6398085585585586 and parameters: {'solver': 'lbfgs', 'C': 0.6155887255382775}. Best is trial 62 with value: 0.6407657657657658.\n",
            "[I 2025-05-12 13:33:32,938] Trial 125 finished with value: 0.6401463963963964 and parameters: {'solver': 'lbfgs', 'C': 0.8092669832480822}. Best is trial 62 with value: 0.6407657657657658.\n",
            "[I 2025-05-12 13:33:33,475] Trial 126 finished with value: 0.640427927927928 and parameters: {'solver': 'lbfgs', 'C': 1.447253372818802}. Best is trial 62 with value: 0.6407657657657658.\n",
            "[I 2025-05-12 13:33:33,972] Trial 127 finished with value: 0.6399211711711712 and parameters: {'solver': 'lbfgs', 'C': 2.0145846487622787}. Best is trial 62 with value: 0.6407657657657658.\n",
            "[I 2025-05-12 13:33:34,686] Trial 128 finished with value: 0.6405405405405405 and parameters: {'solver': 'lbfgs', 'C': 5.569313658229472}. Best is trial 62 with value: 0.6407657657657658.\n",
            "[I 2025-05-12 13:33:35,447] Trial 129 finished with value: 0.6405405405405405 and parameters: {'solver': 'lbfgs', 'C': 0.9489423993223091}. Best is trial 62 with value: 0.6407657657657658.\n",
            "[I 2025-05-12 13:33:36,337] Trial 130 finished with value: 0.639695945945946 and parameters: {'solver': 'lbfgs', 'C': 3.2886444141219275}. Best is trial 62 with value: 0.6407657657657658.\n",
            "[I 2025-05-12 13:33:37,136] Trial 131 finished with value: 0.6398085585585586 and parameters: {'solver': 'lbfgs', 'C': 0.7899779891236979}. Best is trial 62 with value: 0.6407657657657658.\n",
            "[I 2025-05-12 13:33:37,860] Trial 132 finished with value: 0.6403716216216216 and parameters: {'solver': 'lbfgs', 'C': 1.2363895146355233}. Best is trial 62 with value: 0.6407657657657658.\n",
            "[I 2025-05-12 13:33:38,429] Trial 133 finished with value: 0.6404279279279279 and parameters: {'solver': 'lbfgs', 'C': 1.6741739381668255}. Best is trial 62 with value: 0.6407657657657658.\n",
            "[I 2025-05-12 13:33:38,947] Trial 134 finished with value: 0.6404279279279278 and parameters: {'solver': 'lbfgs', 'C': 0.9595956345811645}. Best is trial 62 with value: 0.6407657657657658.\n",
            "[I 2025-05-12 13:33:39,488] Trial 135 finished with value: 0.64009009009009 and parameters: {'solver': 'lbfgs', 'C': 0.678888833993241}. Best is trial 62 with value: 0.6407657657657658.\n",
            "[I 2025-05-12 13:33:40,014] Trial 136 finished with value: 0.639527027027027 and parameters: {'solver': 'lbfgs', 'C': 0.4986465202328307}. Best is trial 62 with value: 0.6407657657657658.\n",
            "[I 2025-05-12 13:33:40,549] Trial 137 finished with value: 0.639695945945946 and parameters: {'solver': 'lbfgs', 'C': 0.3650695650099931}. Best is trial 62 with value: 0.6407657657657658.\n",
            "[I 2025-05-12 13:33:43,139] Trial 138 finished with value: 0.6396959459459459 and parameters: {'solver': 'liblinear', 'penalty': 'l1', 'C': 1.3496836734925075}. Best is trial 62 with value: 0.6407657657657658.\n",
            "[I 2025-05-12 13:33:43,777] Trial 139 finished with value: 0.6393018018018019 and parameters: {'solver': 'lbfgs', 'C': 2.557877644117848}. Best is trial 62 with value: 0.6407657657657658.\n",
            "[I 2025-05-12 13:33:44,336] Trial 140 finished with value: 0.6404842342342343 and parameters: {'solver': 'lbfgs', 'C': 0.9090258496685454}. Best is trial 62 with value: 0.6407657657657658.\n",
            "[I 2025-05-12 13:33:44,901] Trial 141 finished with value: 0.6403716216216216 and parameters: {'solver': 'lbfgs', 'C': 1.6573453833932872}. Best is trial 62 with value: 0.6407657657657658.\n",
            "[I 2025-05-12 13:33:45,472] Trial 142 finished with value: 0.6405405405405405 and parameters: {'solver': 'lbfgs', 'C': 1.0921429259704958}. Best is trial 62 with value: 0.6407657657657658.\n",
            "[I 2025-05-12 13:33:46,042] Trial 143 finished with value: 0.6404842342342342 and parameters: {'solver': 'lbfgs', 'C': 1.5599280360052814}. Best is trial 62 with value: 0.6407657657657658.\n",
            "[I 2025-05-12 13:33:46,595] Trial 144 finished with value: 0.6399211711711712 and parameters: {'solver': 'lbfgs', 'C': 1.8579051918599192}. Best is trial 62 with value: 0.6407657657657658.\n",
            "[I 2025-05-12 13:33:47,141] Trial 145 finished with value: 0.6405968468468468 and parameters: {'solver': 'lbfgs', 'C': 1.2404633958611273}. Best is trial 62 with value: 0.6407657657657658.\n",
            "[I 2025-05-12 13:33:47,662] Trial 146 finished with value: 0.6400337837837838 and parameters: {'solver': 'lbfgs', 'C': 0.6778700264424}. Best is trial 62 with value: 0.6407657657657658.\n",
            "[I 2025-05-12 13:33:48,493] Trial 147 finished with value: 0.6404279279279278 and parameters: {'solver': 'lbfgs', 'C': 1.2486301450125605}. Best is trial 62 with value: 0.6407657657657658.\n",
            "[I 2025-05-12 13:33:49,249] Trial 148 finished with value: 0.6404842342342343 and parameters: {'solver': 'lbfgs', 'C': 0.908756065770634}. Best is trial 62 with value: 0.6407657657657658.\n",
            "[I 2025-05-12 13:33:49,985] Trial 149 finished with value: 0.640259009009009 and parameters: {'solver': 'lbfgs', 'C': 2.223280708898112}. Best is trial 62 with value: 0.6407657657657658.\n",
            "[I 2025-05-12 13:33:50,758] Trial 150 finished with value: 0.6399774774774775 and parameters: {'solver': 'lbfgs', 'C': 0.6246621048324665}. Best is trial 62 with value: 0.6407657657657658.\n",
            "[I 2025-05-12 13:33:51,598] Trial 151 finished with value: 0.6403153153153154 and parameters: {'solver': 'lbfgs', 'C': 1.4461601789429952}. Best is trial 62 with value: 0.6407657657657658.\n",
            "[I 2025-05-12 13:33:52,189] Trial 152 finished with value: 0.640259009009009 and parameters: {'solver': 'lbfgs', 'C': 1.1007154351184618}. Best is trial 62 with value: 0.6407657657657658.\n",
            "[I 2025-05-12 13:33:52,738] Trial 153 finished with value: 0.6402027027027027 and parameters: {'solver': 'lbfgs', 'C': 1.808644202014453}. Best is trial 62 with value: 0.6407657657657658.\n",
            "[I 2025-05-12 13:33:53,184] Trial 154 finished with value: 0.6400900900900901 and parameters: {'solver': 'lbfgs', 'C': 4.2631617814522365}. Best is trial 62 with value: 0.6407657657657658.\n",
            "[I 2025-05-12 13:33:53,723] Trial 155 finished with value: 0.6398648648648648 and parameters: {'solver': 'lbfgs', 'C': 0.8270311193756736}. Best is trial 62 with value: 0.6407657657657658.\n",
            "[I 2025-05-12 13:33:54,292] Trial 156 finished with value: 0.6400337837837838 and parameters: {'solver': 'lbfgs', 'C': 2.9547470651880334}. Best is trial 62 with value: 0.6407657657657658.\n",
            "[I 2025-05-12 13:33:54,871] Trial 157 finished with value: 0.6400900900900902 and parameters: {'solver': 'lbfgs', 'C': 1.1742461834200555}. Best is trial 62 with value: 0.6407657657657658.\n",
            "[I 2025-05-12 13:33:55,432] Trial 158 finished with value: 0.6402590090090091 and parameters: {'solver': 'lbfgs', 'C': 2.2300225915668324}. Best is trial 62 with value: 0.6407657657657658.\n",
            "[I 2025-05-12 13:33:55,925] Trial 159 finished with value: 0.6397522522522522 and parameters: {'solver': 'lbfgs', 'C': 0.5091997159702745}. Best is trial 62 with value: 0.6407657657657658.\n",
            "[I 2025-05-12 13:33:57,371] Trial 160 finished with value: 0.6388513513513514 and parameters: {'solver': 'liblinear', 'penalty': 'l2', 'C': 1.440877136090617}. Best is trial 62 with value: 0.6407657657657658.\n",
            "[I 2025-05-12 13:33:57,882] Trial 161 finished with value: 0.6405968468468469 and parameters: {'solver': 'lbfgs', 'C': 1.0009807104558992}. Best is trial 62 with value: 0.6407657657657658.\n",
            "[I 2025-05-12 13:33:58,420] Trial 162 finished with value: 0.6403716216216216 and parameters: {'solver': 'lbfgs', 'C': 0.7713296483157026}. Best is trial 62 with value: 0.6407657657657658.\n",
            "[I 2025-05-12 13:33:58,930] Trial 163 finished with value: 0.6407094594594595 and parameters: {'solver': 'lbfgs', 'C': 1.0107285864161708}. Best is trial 62 with value: 0.6407657657657658.\n",
            "[I 2025-05-12 13:33:59,460] Trial 164 finished with value: 0.6405968468468468 and parameters: {'solver': 'lbfgs', 'C': 1.074770701871531}. Best is trial 62 with value: 0.6407657657657658.\n",
            "[I 2025-05-12 13:33:59,969] Trial 165 finished with value: 0.6403716216216216 and parameters: {'solver': 'lbfgs', 'C': 1.041978065414388}. Best is trial 62 with value: 0.6407657657657658.\n",
            "[I 2025-05-12 13:34:00,531] Trial 166 finished with value: 0.6398648648648648 and parameters: {'solver': 'lbfgs', 'C': 1.24443345318038}. Best is trial 62 with value: 0.6407657657657658.\n",
            "[I 2025-05-12 13:34:01,003] Trial 167 finished with value: 0.6394707207207208 and parameters: {'solver': 'lbfgs', 'C': 0.556959791190904}. Best is trial 62 with value: 0.6407657657657658.\n",
            "[I 2025-05-12 13:34:01,548] Trial 168 finished with value: 0.6398648648648648 and parameters: {'solver': 'lbfgs', 'C': 1.8484490673470468}. Best is trial 62 with value: 0.6407657657657658.\n",
            "[I 2025-05-12 13:34:02,116] Trial 169 finished with value: 0.6405968468468469 and parameters: {'solver': 'lbfgs', 'C': 0.9544495637897171}. Best is trial 62 with value: 0.6407657657657658.\n",
            "[I 2025-05-12 13:34:02,868] Trial 170 finished with value: 0.6396959459459459 and parameters: {'solver': 'lbfgs', 'C': 0.7388997184601761}. Best is trial 62 with value: 0.6407657657657658.\n",
            "[I 2025-05-12 13:34:03,586] Trial 171 finished with value: 0.6405968468468469 and parameters: {'solver': 'lbfgs', 'C': 1.0350379095349376}. Best is trial 62 with value: 0.6407657657657658.\n",
            "[I 2025-05-12 13:34:04,323] Trial 172 finished with value: 0.64009009009009 and parameters: {'solver': 'lbfgs', 'C': 0.9274012021777471}. Best is trial 62 with value: 0.6407657657657658.\n",
            "[I 2025-05-12 13:34:05,103] Trial 173 finished with value: 0.640427927927928 and parameters: {'solver': 'lbfgs', 'C': 1.0727901922600778}. Best is trial 62 with value: 0.6407657657657658.\n",
            "[I 2025-05-12 13:34:05,839] Trial 174 finished with value: 0.640427927927928 and parameters: {'solver': 'lbfgs', 'C': 1.3262343473519742}. Best is trial 62 with value: 0.6407657657657658.\n",
            "[I 2025-05-12 13:34:06,344] Trial 175 finished with value: 0.6399774774774775 and parameters: {'solver': 'lbfgs', 'C': 0.6679171645405843}. Best is trial 62 with value: 0.6407657657657658.\n",
            "[I 2025-05-12 13:34:06,864] Trial 176 finished with value: 0.6402027027027027 and parameters: {'solver': 'lbfgs', 'C': 0.9091596134692473}. Best is trial 62 with value: 0.6407657657657658.\n",
            "[I 2025-05-12 13:34:07,325] Trial 177 finished with value: 0.639695945945946 and parameters: {'solver': 'lbfgs', 'C': 0.4237219032115558}. Best is trial 62 with value: 0.6407657657657658.\n",
            "[I 2025-05-12 13:34:07,813] Trial 178 finished with value: 0.6405405405405405 and parameters: {'solver': 'lbfgs', 'C': 1.509469733184329}. Best is trial 62 with value: 0.6407657657657658.\n",
            "[I 2025-05-12 13:34:08,351] Trial 179 finished with value: 0.640259009009009 and parameters: {'solver': 'lbfgs', 'C': 1.1481375004902075}. Best is trial 62 with value: 0.6407657657657658.\n",
            "[I 2025-05-12 13:34:08,906] Trial 180 finished with value: 0.6402027027027026 and parameters: {'solver': 'lbfgs', 'C': 1.9978499890508665}. Best is trial 62 with value: 0.6407657657657658.\n",
            "[I 2025-05-12 13:34:09,445] Trial 181 finished with value: 0.6400337837837838 and parameters: {'solver': 'lbfgs', 'C': 1.4109748947414746}. Best is trial 62 with value: 0.6407657657657658.\n",
            "[I 2025-05-12 13:34:10,001] Trial 182 finished with value: 0.640259009009009 and parameters: {'solver': 'lbfgs', 'C': 0.8689721693684813}. Best is trial 62 with value: 0.6407657657657658.\n",
            "[I 2025-05-12 13:34:10,536] Trial 183 finished with value: 0.6405968468468468 and parameters: {'solver': 'lbfgs', 'C': 1.1050696499507113}. Best is trial 62 with value: 0.6407657657657658.\n",
            "[I 2025-05-12 13:34:11,084] Trial 184 finished with value: 0.6406531531531532 and parameters: {'solver': 'lbfgs', 'C': 1.076592340864872}. Best is trial 62 with value: 0.6407657657657658.\n",
            "[I 2025-05-12 13:34:11,612] Trial 185 finished with value: 0.6399774774774775 and parameters: {'solver': 'lbfgs', 'C': 0.6461483935922545}. Best is trial 62 with value: 0.6407657657657658.\n",
            "[I 2025-05-12 13:34:12,150] Trial 186 finished with value: 0.6405405405405405 and parameters: {'solver': 'lbfgs', 'C': 1.0049254891771766}. Best is trial 62 with value: 0.6407657657657658.\n",
            "[I 2025-05-12 13:34:12,680] Trial 187 finished with value: 0.6400337837837838 and parameters: {'solver': 'lbfgs', 'C': 0.7769339676514608}. Best is trial 62 with value: 0.6407657657657658.\n",
            "[I 2025-05-12 13:34:13,241] Trial 188 finished with value: 0.6402027027027026 and parameters: {'solver': 'lbfgs', 'C': 1.195148484952977}. Best is trial 62 with value: 0.6407657657657658.\n",
            "[I 2025-05-12 13:34:13,778] Trial 189 finished with value: 0.6399211711711712 and parameters: {'solver': 'lbfgs', 'C': 0.5799545130706315}. Best is trial 62 with value: 0.6407657657657658.\n",
            "[I 2025-05-12 13:34:14,341] Trial 190 finished with value: 0.6402027027027026 and parameters: {'solver': 'lbfgs', 'C': 1.7044617805110054}. Best is trial 62 with value: 0.6407657657657658.\n",
            "[I 2025-05-12 13:34:14,859] Trial 191 finished with value: 0.6403716216216216 and parameters: {'solver': 'lbfgs', 'C': 1.0255722188503376}. Best is trial 62 with value: 0.6407657657657658.\n",
            "[I 2025-05-12 13:34:15,410] Trial 192 finished with value: 0.6403153153153153 and parameters: {'solver': 'lbfgs', 'C': 1.4213203978381856}. Best is trial 62 with value: 0.6407657657657658.\n",
            "[I 2025-05-12 13:34:16,005] Trial 193 finished with value: 0.6403716216216216 and parameters: {'solver': 'lbfgs', 'C': 0.7742440661302675}. Best is trial 62 with value: 0.6407657657657658.\n",
            "[I 2025-05-12 13:34:16,728] Trial 194 finished with value: 0.6401463963963964 and parameters: {'solver': 'lbfgs', 'C': 1.193806143478795}. Best is trial 62 with value: 0.6407657657657658.\n",
            "[I 2025-05-12 13:34:17,543] Trial 195 finished with value: 0.6398085585585586 and parameters: {'solver': 'lbfgs', 'C': 2.521437924899575}. Best is trial 62 with value: 0.6407657657657658.\n",
            "[I 2025-05-12 13:34:19,614] Trial 196 finished with value: 0.6391891891891891 and parameters: {'solver': 'liblinear', 'penalty': 'l2', 'C': 1.7756573649303424}. Best is trial 62 with value: 0.6407657657657658.\n",
            "[I 2025-05-12 13:34:20,120] Trial 197 finished with value: 0.6405405405405404 and parameters: {'solver': 'lbfgs', 'C': 0.9808119929037511}. Best is trial 62 with value: 0.6407657657657658.\n",
            "[I 2025-05-12 13:34:20,648] Trial 198 finished with value: 0.6406531531531532 and parameters: {'solver': 'lbfgs', 'C': 1.4211303138975397}. Best is trial 62 with value: 0.6407657657657658.\n",
            "[I 2025-05-12 13:34:21,198] Trial 199 finished with value: 0.6395833333333333 and parameters: {'solver': 'lbfgs', 'C': 1.2722855965140736}. Best is trial 62 with value: 0.6407657657657658.\n",
            "[I 2025-05-12 13:34:21,722] Trial 200 finished with value: 0.6400900900900902 and parameters: {'solver': 'lbfgs', 'C': 0.829565804463485}. Best is trial 62 with value: 0.6407657657657658.\n",
            "[I 2025-05-12 13:34:22,226] Trial 201 finished with value: 0.6403716216216216 and parameters: {'solver': 'lbfgs', 'C': 1.6086770904074466}. Best is trial 62 with value: 0.6407657657657658.\n",
            "[I 2025-05-12 13:34:22,718] Trial 202 finished with value: 0.6404842342342342 and parameters: {'solver': 'lbfgs', 'C': 1.081345913241911}. Best is trial 62 with value: 0.6407657657657658.\n",
            "[I 2025-05-12 13:34:23,242] Trial 203 finished with value: 0.6397522522522522 and parameters: {'solver': 'lbfgs', 'C': 2.266907665166861}. Best is trial 62 with value: 0.6407657657657658.\n",
            "[I 2025-05-12 13:34:23,778] Trial 204 finished with value: 0.6406531531531532 and parameters: {'solver': 'lbfgs', 'C': 1.3697324369826505}. Best is trial 62 with value: 0.6407657657657658.\n",
            "[I 2025-05-12 13:34:24,315] Trial 205 finished with value: 0.6403716216216216 and parameters: {'solver': 'lbfgs', 'C': 1.3894786434510817}. Best is trial 62 with value: 0.6407657657657658.\n",
            "[I 2025-05-12 13:34:24,844] Trial 206 finished with value: 0.6402027027027026 and parameters: {'solver': 'lbfgs', 'C': 0.9522443199231533}. Best is trial 62 with value: 0.6407657657657658.\n",
            "[I 2025-05-12 13:34:25,379] Trial 207 finished with value: 0.6401463963963964 and parameters: {'solver': 'lbfgs', 'C': 0.6776097833639537}. Best is trial 62 with value: 0.6407657657657658.\n",
            "[I 2025-05-12 13:34:25,899] Trial 208 finished with value: 0.640427927927928 and parameters: {'solver': 'lbfgs', 'C': 1.2674460993757142}. Best is trial 62 with value: 0.6407657657657658.\n",
            "[I 2025-05-12 13:34:26,427] Trial 209 finished with value: 0.6400337837837838 and parameters: {'solver': 'lbfgs', 'C': 1.7581463669612254}. Best is trial 62 with value: 0.6407657657657658.\n",
            "[I 2025-05-12 13:34:26,948] Trial 210 finished with value: 0.6407094594594595 and parameters: {'solver': 'lbfgs', 'C': 0.8221472242491671}. Best is trial 62 with value: 0.6407657657657658.\n",
            "[I 2025-05-12 13:34:27,457] Trial 211 finished with value: 0.6403716216216216 and parameters: {'solver': 'lbfgs', 'C': 0.8357454958620876}. Best is trial 62 with value: 0.6407657657657658.\n",
            "[I 2025-05-12 13:34:27,970] Trial 212 finished with value: 0.6403716216216216 and parameters: {'solver': 'lbfgs', 'C': 1.0677639038789501}. Best is trial 62 with value: 0.6407657657657658.\n",
            "[I 2025-05-12 13:34:28,475] Trial 213 finished with value: 0.6398085585585586 and parameters: {'solver': 'lbfgs', 'C': 0.5496395526225749}. Best is trial 62 with value: 0.6407657657657658.\n",
            "[I 2025-05-12 13:34:29,025] Trial 214 finished with value: 0.6400337837837838 and parameters: {'solver': 'lbfgs', 'C': 0.7548181800037955}. Best is trial 62 with value: 0.6407657657657658.\n",
            "[I 2025-05-12 13:34:29,560] Trial 215 finished with value: 0.6404842342342342 and parameters: {'solver': 'lbfgs', 'C': 1.3975836312201955}. Best is trial 62 with value: 0.6407657657657658.\n",
            "[I 2025-05-12 13:34:30,200] Trial 216 finished with value: 0.6407094594594595 and parameters: {'solver': 'lbfgs', 'C': 1.0062012330342973}. Best is trial 62 with value: 0.6407657657657658.\n",
            "[I 2025-05-12 13:34:30,929] Trial 217 finished with value: 0.6402027027027026 and parameters: {'solver': 'lbfgs', 'C': 1.0330567988385793}. Best is trial 62 with value: 0.6407657657657658.\n",
            "[I 2025-05-12 13:34:31,658] Trial 218 finished with value: 0.6405405405405405 and parameters: {'solver': 'lbfgs', 'C': 1.5314408112760705}. Best is trial 62 with value: 0.6407657657657658.\n",
            "[I 2025-05-12 13:34:32,333] Trial 219 finished with value: 0.6405405405405405 and parameters: {'solver': 'lbfgs', 'C': 1.1844690700757774}. Best is trial 62 with value: 0.6407657657657658.\n",
            "[I 2025-05-12 13:34:33,112] Trial 220 finished with value: 0.6405968468468469 and parameters: {'solver': 'lbfgs', 'C': 2.004818945054527}. Best is trial 62 with value: 0.6407657657657658.\n",
            "[I 2025-05-12 13:34:33,901] Trial 221 finished with value: 0.6403716216216216 and parameters: {'solver': 'lbfgs', 'C': 2.005720491581341}. Best is trial 62 with value: 0.6407657657657658.\n",
            "[I 2025-05-12 13:34:34,434] Trial 222 finished with value: 0.6406531531531532 and parameters: {'solver': 'lbfgs', 'C': 0.9142641695975599}. Best is trial 62 with value: 0.6407657657657658.\n",
            "[I 2025-05-12 13:34:34,920] Trial 223 finished with value: 0.6406531531531532 and parameters: {'solver': 'lbfgs', 'C': 0.9147350884108474}. Best is trial 62 with value: 0.6407657657657658.\n",
            "[I 2025-05-12 13:34:35,434] Trial 224 finished with value: 0.6403153153153154 and parameters: {'solver': 'lbfgs', 'C': 0.8283186603552029}. Best is trial 62 with value: 0.6407657657657658.\n",
            "[I 2025-05-12 13:34:35,959] Trial 225 finished with value: 0.6400337837837838 and parameters: {'solver': 'lbfgs', 'C': 0.6936728898736374}. Best is trial 62 with value: 0.6407657657657658.\n",
            "[I 2025-05-12 13:34:36,528] Trial 226 finished with value: 0.6402027027027027 and parameters: {'solver': 'lbfgs', 'C': 1.5589221106978641}. Best is trial 62 with value: 0.6407657657657658.\n",
            "[I 2025-05-12 13:34:37,003] Trial 227 finished with value: 0.6405968468468468 and parameters: {'solver': 'lbfgs', 'C': 0.8789534653555866}. Best is trial 62 with value: 0.6407657657657658.\n",
            "[I 2025-05-12 13:34:37,536] Trial 228 finished with value: 0.64009009009009 and parameters: {'solver': 'lbfgs', 'C': 2.0783598025229613}. Best is trial 62 with value: 0.6407657657657658.\n",
            "[I 2025-05-12 13:34:38,082] Trial 229 finished with value: 0.6403716216216216 and parameters: {'solver': 'lbfgs', 'C': 1.3213630621712873}. Best is trial 62 with value: 0.6407657657657658.\n",
            "[I 2025-05-12 13:34:38,655] Trial 230 finished with value: 0.6404842342342342 and parameters: {'solver': 'lbfgs', 'C': 0.9005793495037947}. Best is trial 62 with value: 0.6407657657657658.\n",
            "[I 2025-05-12 13:34:39,177] Trial 231 finished with value: 0.6406531531531532 and parameters: {'solver': 'lbfgs', 'C': 1.1348393836176194}. Best is trial 62 with value: 0.6407657657657658.\n",
            "[I 2025-05-12 13:34:39,738] Trial 232 finished with value: 0.6402027027027027 and parameters: {'solver': 'lbfgs', 'C': 1.2384107067227128}. Best is trial 62 with value: 0.6407657657657658.\n",
            "[I 2025-05-12 13:34:40,269] Trial 233 finished with value: 0.6403716216216216 and parameters: {'solver': 'lbfgs', 'C': 1.6753467455565612}. Best is trial 62 with value: 0.6407657657657658.\n",
            "[I 2025-05-12 13:34:40,819] Trial 234 finished with value: 0.6406531531531532 and parameters: {'solver': 'lbfgs', 'C': 0.9577681542271401}. Best is trial 62 with value: 0.6407657657657658.\n",
            "[I 2025-05-12 13:34:41,365] Trial 235 finished with value: 0.6405968468468469 and parameters: {'solver': 'lbfgs', 'C': 0.942420711542556}. Best is trial 62 with value: 0.6407657657657658.\n",
            "[I 2025-05-12 13:34:41,904] Trial 236 finished with value: 0.6399774774774775 and parameters: {'solver': 'lbfgs', 'C': 0.5963387429482843}. Best is trial 62 with value: 0.6407657657657658.\n",
            "[I 2025-05-12 13:34:44,590] Trial 237 finished with value: 0.6393581081081082 and parameters: {'solver': 'liblinear', 'penalty': 'l1', 'C': 0.7267104922241296}. Best is trial 62 with value: 0.6407657657657658.\n",
            "[I 2025-05-12 13:34:45,263] Trial 238 finished with value: 0.6402027027027026 and parameters: {'solver': 'lbfgs', 'C': 0.9227109258481826}. Best is trial 62 with value: 0.6407657657657658.\n",
            "[I 2025-05-12 13:34:45,707] Trial 239 finished with value: 0.634740990990991 and parameters: {'solver': 'lbfgs', 'C': 0.001918045323217038}. Best is trial 62 with value: 0.6407657657657658.\n",
            "[I 2025-05-12 13:34:46,495] Trial 240 finished with value: 0.640259009009009 and parameters: {'solver': 'lbfgs', 'C': 1.0037522309232103}. Best is trial 62 with value: 0.6407657657657658.\n",
            "[I 2025-05-12 13:34:47,324] Trial 241 finished with value: 0.6403716216216216 and parameters: {'solver': 'lbfgs', 'C': 1.1203762658807406}. Best is trial 62 with value: 0.6407657657657658.\n",
            "[I 2025-05-12 13:34:48,042] Trial 242 finished with value: 0.6402027027027027 and parameters: {'solver': 'lbfgs', 'C': 0.8132137207792766}. Best is trial 62 with value: 0.6407657657657658.\n",
            "[I 2025-05-12 13:34:48,577] Trial 243 finished with value: 0.6403153153153154 and parameters: {'solver': 'lbfgs', 'C': 1.365447289236008}. Best is trial 62 with value: 0.6407657657657658.\n",
            "[I 2025-05-12 13:34:49,074] Trial 244 finished with value: 0.640427927927928 and parameters: {'solver': 'lbfgs', 'C': 0.9722496712844041}. Best is trial 62 with value: 0.6407657657657658.\n",
            "[I 2025-05-12 13:34:49,586] Trial 245 finished with value: 0.640259009009009 and parameters: {'solver': 'lbfgs', 'C': 0.6380793602077481}. Best is trial 62 with value: 0.6407657657657658.\n",
            "[I 2025-05-12 13:34:50,071] Trial 246 finished with value: 0.6403716216216216 and parameters: {'solver': 'lbfgs', 'C': 1.5653162584359848}. Best is trial 62 with value: 0.6407657657657658.\n",
            "[I 2025-05-12 13:34:50,603] Trial 247 finished with value: 0.6407657657657658 and parameters: {'solver': 'lbfgs', 'C': 1.1510613299387968}. Best is trial 62 with value: 0.6407657657657658.\n",
            "[I 2025-05-12 13:34:51,111] Trial 248 finished with value: 0.6403716216216216 and parameters: {'solver': 'lbfgs', 'C': 0.7807728204551697}. Best is trial 62 with value: 0.6407657657657658.\n",
            "[I 2025-05-12 13:34:51,663] Trial 249 finished with value: 0.6400900900900902 and parameters: {'solver': 'lbfgs', 'C': 1.2159062392130886}. Best is trial 62 with value: 0.6407657657657658.\n",
            "[I 2025-05-12 13:34:52,215] Trial 250 finished with value: 0.6398648648648648 and parameters: {'solver': 'lbfgs', 'C': 2.618048848340137}. Best is trial 62 with value: 0.6407657657657658.\n",
            "[I 2025-05-12 13:34:52,715] Trial 251 finished with value: 0.6394707207207208 and parameters: {'solver': 'lbfgs', 'C': 0.49957087042602866}. Best is trial 62 with value: 0.6407657657657658.\n",
            "[I 2025-05-12 13:34:53,226] Trial 252 finished with value: 0.6405405405405404 and parameters: {'solver': 'lbfgs', 'C': 0.9460711968037877}. Best is trial 62 with value: 0.6407657657657658.\n",
            "[I 2025-05-12 13:34:53,745] Trial 253 finished with value: 0.6403153153153153 and parameters: {'solver': 'lbfgs', 'C': 1.830656897011777}. Best is trial 62 with value: 0.6407657657657658.\n",
            "[I 2025-05-12 13:34:54,302] Trial 254 finished with value: 0.6403716216216216 and parameters: {'solver': 'lbfgs', 'C': 1.515332408224053}. Best is trial 62 with value: 0.6407657657657658.\n",
            "[I 2025-05-12 13:34:54,835] Trial 255 finished with value: 0.6404842342342342 and parameters: {'solver': 'lbfgs', 'C': 1.086821454263901}. Best is trial 62 with value: 0.6407657657657658.\n",
            "[I 2025-05-12 13:34:55,417] Trial 256 finished with value: 0.6399774774774775 and parameters: {'solver': 'lbfgs', 'C': 0.725169036563128}. Best is trial 62 with value: 0.6407657657657658.\n",
            "[I 2025-05-12 13:34:55,946] Trial 257 finished with value: 0.6402027027027026 and parameters: {'solver': 'lbfgs', 'C': 1.2383876714260351}. Best is trial 62 with value: 0.6407657657657658.\n",
            "[I 2025-05-12 13:34:56,503] Trial 258 finished with value: 0.6403716216216216 and parameters: {'solver': 'lbfgs', 'C': 0.8914694296818105}. Best is trial 62 with value: 0.6407657657657658.\n",
            "[I 2025-05-12 13:34:57,023] Trial 259 finished with value: 0.6401463963963964 and parameters: {'solver': 'lbfgs', 'C': 2.0126740347182475}. Best is trial 62 with value: 0.6407657657657658.\n",
            "[I 2025-05-12 13:34:57,450] Trial 260 finished with value: 0.6385698198198199 and parameters: {'solver': 'lbfgs', 'C': 0.01876456630533806}. Best is trial 62 with value: 0.6407657657657658.\n",
            "[I 2025-05-12 13:34:57,973] Trial 261 finished with value: 0.6404842342342342 and parameters: {'solver': 'lbfgs', 'C': 1.4480833325967222}. Best is trial 62 with value: 0.6407657657657658.\n",
            "[I 2025-05-12 13:34:59,904] Trial 262 finished with value: 0.6393581081081081 and parameters: {'solver': 'liblinear', 'penalty': 'l2', 'C': 0.9836127958701939}. Best is trial 62 with value: 0.6407657657657658.\n",
            "[I 2025-05-12 13:35:00,690] Trial 263 finished with value: 0.6400337837837838 and parameters: {'solver': 'lbfgs', 'C': 0.6435286318412963}. Best is trial 62 with value: 0.6407657657657658.\n",
            "[I 2025-05-12 13:35:01,523] Trial 264 finished with value: 0.6403153153153154 and parameters: {'solver': 'lbfgs', 'C': 1.0871496091037214}. Best is trial 62 with value: 0.6407657657657658.\n",
            "[I 2025-05-12 13:35:02,254] Trial 265 finished with value: 0.6400337837837838 and parameters: {'solver': 'lbfgs', 'C': 0.7954432751037662}. Best is trial 62 with value: 0.6407657657657658.\n",
            "[I 2025-05-12 13:35:02,755] Trial 266 finished with value: 0.6396959459459459 and parameters: {'solver': 'lbfgs', 'C': 1.3756678899521995}. Best is trial 62 with value: 0.6407657657657658.\n",
            "[I 2025-05-12 13:35:03,414] Trial 267 finished with value: 0.6401463963963964 and parameters: {'solver': 'lbfgs', 'C': 3.5564951281371986}. Best is trial 62 with value: 0.6407657657657658.\n",
            "[I 2025-05-12 13:35:03,948] Trial 268 finished with value: 0.6403153153153154 and parameters: {'solver': 'lbfgs', 'C': 1.6722908942804398}. Best is trial 62 with value: 0.6407657657657658.\n",
            "[I 2025-05-12 13:35:04,447] Trial 269 finished with value: 0.639527027027027 and parameters: {'solver': 'lbfgs', 'C': 0.5182024313577575}. Best is trial 62 with value: 0.6407657657657658.\n",
            "[I 2025-05-12 13:35:04,967] Trial 270 finished with value: 0.6404279279279278 and parameters: {'solver': 'lbfgs', 'C': 1.189689055552761}. Best is trial 62 with value: 0.6407657657657658.\n",
            "[I 2025-05-12 13:35:05,479] Trial 271 finished with value: 0.6399211711711712 and parameters: {'solver': 'lbfgs', 'C': 2.1826886215456693}. Best is trial 62 with value: 0.6407657657657658.\n",
            "[I 2025-05-12 13:35:05,997] Trial 272 finished with value: 0.640259009009009 and parameters: {'solver': 'lbfgs', 'C': 0.8306637131281527}. Best is trial 62 with value: 0.6407657657657658.\n",
            "[I 2025-05-12 13:35:06,517] Trial 273 finished with value: 0.6403153153153154 and parameters: {'solver': 'lbfgs', 'C': 0.9755045690937393}. Best is trial 62 with value: 0.6407657657657658.\n",
            "[I 2025-05-12 13:35:07,063] Trial 274 finished with value: 0.6399211711711712 and parameters: {'solver': 'lbfgs', 'C': 24.451281180162507}. Best is trial 62 with value: 0.6407657657657658.\n",
            "[I 2025-05-12 13:35:07,578] Trial 275 finished with value: 0.64009009009009 and parameters: {'solver': 'lbfgs', 'C': 0.6985551371494281}. Best is trial 62 with value: 0.6407657657657658.\n",
            "[I 2025-05-12 13:35:08,112] Trial 276 finished with value: 0.6402027027027027 and parameters: {'solver': 'lbfgs', 'C': 1.343755649015471}. Best is trial 62 with value: 0.6407657657657658.\n",
            "[I 2025-05-12 13:35:08,640] Trial 277 finished with value: 0.6404279279279278 and parameters: {'solver': 'lbfgs', 'C': 1.7514806882512568}. Best is trial 62 with value: 0.6407657657657658.\n",
            "[I 2025-05-12 13:35:09,267] Trial 278 finished with value: 0.6392454954954955 and parameters: {'solver': 'lbfgs', 'C': 2.6444543765805184}. Best is trial 62 with value: 0.6407657657657658.\n",
            "[I 2025-05-12 13:35:09,804] Trial 279 finished with value: 0.6405968468468468 and parameters: {'solver': 'lbfgs', 'C': 1.0934378087923402}. Best is trial 62 with value: 0.6407657657657658.\n",
            "[I 2025-05-12 13:35:11,191] Trial 280 finished with value: 0.638963963963964 and parameters: {'solver': 'liblinear', 'penalty': 'l1', 'C': 0.39433032072639396}. Best is trial 62 with value: 0.6407657657657658.\n",
            "[I 2025-05-12 13:35:11,733] Trial 281 finished with value: 0.6403716216216216 and parameters: {'solver': 'lbfgs', 'C': 0.8923969764557381}. Best is trial 62 with value: 0.6407657657657658.\n",
            "[I 2025-05-12 13:35:12,314] Trial 282 finished with value: 0.6397522522522522 and parameters: {'solver': 'lbfgs', 'C': 0.6126957082538099}. Best is trial 62 with value: 0.6407657657657658.\n",
            "[I 2025-05-12 13:35:13,143] Trial 283 finished with value: 0.6403153153153154 and parameters: {'solver': 'lbfgs', 'C': 1.4747613867450673}. Best is trial 62 with value: 0.6407657657657658.\n",
            "[I 2025-05-12 13:35:13,958] Trial 284 finished with value: 0.6403716216216216 and parameters: {'solver': 'lbfgs', 'C': 1.2008345415411164}. Best is trial 62 with value: 0.6407657657657658.\n",
            "[I 2025-05-12 13:35:14,850] Trial 285 finished with value: 0.6399211711711711 and parameters: {'solver': 'lbfgs', 'C': 1.867680015015499}. Best is trial 62 with value: 0.6407657657657658.\n",
            "[I 2025-05-12 13:35:15,761] Trial 286 finished with value: 0.64009009009009 and parameters: {'solver': 'lbfgs', 'C': 0.793728384542984}. Best is trial 62 with value: 0.6407657657657658.\n",
            "[I 2025-05-12 13:35:16,475] Trial 287 finished with value: 0.6403716216216216 and parameters: {'solver': 'lbfgs', 'C': 1.115424058433549}. Best is trial 62 with value: 0.6407657657657658.\n",
            "[I 2025-05-12 13:35:16,962] Trial 288 finished with value: 0.640259009009009 and parameters: {'solver': 'lbfgs', 'C': 0.9442934276238776}. Best is trial 62 with value: 0.6407657657657658.\n",
            "[I 2025-05-12 13:35:17,485] Trial 289 finished with value: 0.6403716216216216 and parameters: {'solver': 'lbfgs', 'C': 1.4798119423772662}. Best is trial 62 with value: 0.6407657657657658.\n",
            "[I 2025-05-12 13:35:17,993] Trial 290 finished with value: 0.6401463963963964 and parameters: {'solver': 'lbfgs', 'C': 0.6829590852272528}. Best is trial 62 with value: 0.6407657657657658.\n",
            "[I 2025-05-12 13:35:18,544] Trial 291 finished with value: 0.6402027027027027 and parameters: {'solver': 'lbfgs', 'C': 2.361250174122106}. Best is trial 62 with value: 0.6407657657657658.\n",
            "[I 2025-05-12 13:35:19,083] Trial 292 finished with value: 0.6406531531531531 and parameters: {'solver': 'lbfgs', 'C': 1.2472505887971974}. Best is trial 62 with value: 0.6407657657657658.\n",
            "[I 2025-05-12 13:35:19,604] Trial 293 finished with value: 0.6405968468468468 and parameters: {'solver': 'lbfgs', 'C': 1.6670796542226909}. Best is trial 62 with value: 0.6407657657657658.\n",
            "[I 2025-05-12 13:35:20,112] Trial 294 finished with value: 0.640259009009009 and parameters: {'solver': 'lbfgs', 'C': 1.2944657586149246}. Best is trial 62 with value: 0.6407657657657658.\n",
            "[I 2025-05-12 13:35:20,644] Trial 295 finished with value: 0.640259009009009 and parameters: {'solver': 'lbfgs', 'C': 3.175276628250407}. Best is trial 62 with value: 0.6407657657657658.\n",
            "[I 2025-05-12 13:35:21,171] Trial 296 finished with value: 0.6406531531531532 and parameters: {'solver': 'lbfgs', 'C': 1.166965624298137}. Best is trial 62 with value: 0.6407657657657658.\n",
            "[I 2025-05-12 13:35:21,727] Trial 297 finished with value: 0.6405968468468468 and parameters: {'solver': 'lbfgs', 'C': 1.1205895344696521}. Best is trial 62 with value: 0.6407657657657658.\n",
            "[I 2025-05-12 13:35:22,193] Trial 298 finished with value: 0.6400900900900901 and parameters: {'solver': 'lbfgs', 'C': 0.47511773462765866}. Best is trial 62 with value: 0.6407657657657658.\n",
            "[I 2025-05-12 13:35:22,692] Trial 299 finished with value: 0.6402027027027026 and parameters: {'solver': 'lbfgs', 'C': 0.792620297580764}. Best is trial 62 with value: 0.6407657657657658.\n"
          ]
        },
        {
          "output_type": "stream",
          "name": "stdout",
          "text": [
            "Best Params: {'solver': 'lbfgs', 'C': 1.0845761956897975}\n",
            "Best Score: 0.6407657657657658\n"
          ]
        }
      ]
    },
    {
      "cell_type": "code",
      "source": [
        "# Base models\n",
        "base_learners = [\n",
        "    ('xgb', XGBClassifier(**best_xgb_params)),\n",
        "    ('rf', RandomForestClassifier(**study_rf.best_params)),\n",
        "    ('lr', LogisticRegression(**study_lr.best_params))\n",
        "]\n",
        "\n",
        "# Meta model\n",
        "meta_model = LogisticRegression()\n",
        "\n",
        "# Stacking\n",
        "stacking_clf = StackingClassifier(\n",
        "    estimators=base_learners,\n",
        "    final_estimator=meta_model,\n",
        "    cv=5,  # 내부에서 K-fold cross validation\n",
        "    n_jobs=-1\n",
        ")\n",
        "\n",
        "# 학습 및 평가\n",
        "stacking_clf.fit(X_train, y_train)\n",
        "y_pred_val = stacking_clf.predict(X_val)\n",
        "\n",
        "print(\"Stacking Accuracy:\", accuracy_score(y_val, y_pred_val))"
      ],
      "metadata": {
        "colab": {
          "base_uri": "https://localhost:8080/"
        },
        "id": "Gk64EqZvstaV",
        "outputId": "00559fff-c056-4ead-9bcb-e65aff5be884"
      },
      "execution_count": 19,
      "outputs": [
        {
          "output_type": "stream",
          "name": "stdout",
          "text": [
            "Stacking Accuracy: 0.6722972972972973\n"
          ]
        }
      ]
    },
    {
      "cell_type": "markdown",
      "source": [
        "### 상위 20개 변수 추출 // tuned xgb + rf + logistic regression / logisticregression -> 65.9"
      ],
      "metadata": {
        "id": "b7ghRohIVOGd"
      }
    },
    {
      "cell_type": "code",
      "source": [
        "# 상위 20개 추출\n",
        "# XGBoost로 학습\n",
        "xgb = XGBClassifier(eval_metric='logloss')\n",
        "xgb.fit(X_train, y_train)\n",
        "\n",
        "# 상위 중요 feature 20개 추출\n",
        "importances = xgb.feature_importances_\n",
        "indices = np.argsort(importances)[::-1]\n",
        "top_features = X.columns[indices[:20]]\n",
        "\n",
        "# 선택된 feature로 학습 데이터 구성\n",
        "X_train_selected = X_train[top_features]\n",
        "X_val_selected = X_val[top_features]\n",
        "\n",
        "# 결과 출력\n",
        "print(\"선택된 상위 20개 feature:\")\n",
        "print(top_features.tolist())"
      ],
      "metadata": {
        "colab": {
          "base_uri": "https://localhost:8080/"
        },
        "id": "ru_MVL-MVhP7",
        "outputId": "5cb7865f-32cf-4645-d5ae-7dac9368d932"
      },
      "execution_count": 20,
      "outputs": [
        {
          "output_type": "stream",
          "name": "stdout",
          "text": [
            "선택된 상위 20개 feature:\n",
            "['channel_Entertainment', 'channel_Tech', 'weekday_Saturday', 'channel_Social Media', 'weekday_Sunday', 'kw_max_max', 'kw_avg_avg', 'self_reference_avg_sharess', 'kw_max_avg', 'kw_min_avg', 'channel_World', 'self_reference_min_shares', 'weekday_Tuesday', 'min_positive_polarity', 'n_non_stop_unique_tokens', 'kw_min_min', 'LDA_02', 'n_unique_tokens', 'LDA_00', 'channel_Lifestyle']\n"
          ]
        }
      ]
    },
    {
      "cell_type": "code",
      "source": [
        "# Base models\n",
        "base_learners = [\n",
        "    ('xgb', XGBClassifier(**best_xgb_params)),\n",
        "    ('rf', RandomForestClassifier(n_estimators=100, random_state=42)),\n",
        "    ('lr', LogisticRegression(max_iter=1000))\n",
        "]\n",
        "\n",
        "# Meta model\n",
        "meta_model = LogisticRegression()\n",
        "\n",
        "# Stacking\n",
        "stacking_clf = StackingClassifier(\n",
        "    estimators=base_learners,\n",
        "    final_estimator=meta_model,\n",
        "    cv=5,  # 내부에서 K-fold cross validation\n",
        "    n_jobs=-1\n",
        ")\n",
        "\n",
        "# 학습 및 평가\n",
        "stacking_clf.fit(X_train_selected, y_train)\n",
        "y_pred_val = stacking_clf.predict(X_val_selected)\n",
        "\n",
        "print(\"Stacking Accuracy:\", accuracy_score(y_val, y_pred_val))"
      ],
      "metadata": {
        "colab": {
          "base_uri": "https://localhost:8080/"
        },
        "id": "NhAMr5UJuSt3",
        "outputId": "1c94df78-b1ee-46f0-bf6c-f96817b6add3"
      },
      "execution_count": 25,
      "outputs": [
        {
          "output_type": "stream",
          "name": "stdout",
          "text": [
            "Stacking Accuracy: 0.6599099099099099\n"
          ]
        }
      ]
    },
    {
      "cell_type": "markdown",
      "source": [
        "### 파생 변수 추가 // tuned xgb + rf + logistic regression / logisticregression -> 66.5"
      ],
      "metadata": {
        "id": "YRdC0PeQu8a4"
      }
    },
    {
      "cell_type": "code",
      "source": [
        "# 파생 변수 생성 함수\n",
        "def add_engineered_features(df):\n",
        "    df = df.copy()\n",
        "    df[\"tokens_title_content_ratio\"] = df[\"n_tokens_title\"] / (df[\"n_tokens_content\"] + 1e-5)\n",
        "    df[\"token_length_interaction\"] = df[\"n_tokens_title\"] * df[\"average_token_length\"]\n",
        "    df[\"positive_negative_ratio\"] = df[\"global_rate_positive_words\"] / (df[\"global_rate_negative_words\"] + 1e-5)\n",
        "    df[\"title_polarity_strength\"] = np.abs(df[\"title_sentiment_polarity\"])\n",
        "    df[\"extreme_sentiment\"] = df[\"max_positive_polarity\"] - df[\"min_negative_polarity\"]\n",
        "    lda_cols = [\"LDA_00\", \"LDA_01\", \"LDA_02\", \"LDA_03\", \"LDA_04\"]\n",
        "    df[\"lda_spread\"] = df[lda_cols].max(axis=1) - df[lda_cols].min(axis=1)\n",
        "    df[\"unique_stop_ratio\"] = df[\"n_non_stop_unique_tokens\"] / (df[\"n_non_stop_words\"] + 1e-5)\n",
        "    df[\"unique_token_ratio\"] = df[\"n_unique_tokens\"] / (df[\"n_tokens_content\"] + 1e-5)\n",
        "    return df\n",
        "\n",
        "# 파생 변수 추가\n",
        "df = add_engineered_features(df)\n",
        "\n",
        "# 피처 및 타겟 분리\n",
        "X = df.drop(columns=[\"id\", \"shares\", \"y\"])  # 타겟 컬럼은 y\n",
        "y = df[\"y\"]\n",
        "\n",
        "# 학습/검증 분할\n",
        "X_train, X_val, y_train, y_val = train_test_split(X, y, test_size=0.2, random_state=42)"
      ],
      "metadata": {
        "id": "LJJQq5ofu8Dz"
      },
      "execution_count": 26,
      "outputs": []
    },
    {
      "cell_type": "code",
      "source": [
        "# Base models\n",
        "base_learners = [\n",
        "    ('xgb', XGBClassifier(**best_xgb_params)),\n",
        "    ('rf', RandomForestClassifier(n_estimators=100, random_state=42)),\n",
        "    ('lr', LogisticRegression(max_iter=1000))\n",
        "]\n",
        "\n",
        "# Meta model\n",
        "meta_model = LogisticRegression()\n",
        "\n",
        "# Stacking\n",
        "stacking_clf = StackingClassifier(\n",
        "    estimators=base_learners,\n",
        "    final_estimator=meta_model,\n",
        "    cv=5,  # 내부에서 K-fold cross validation\n",
        "    n_jobs=-1\n",
        ")\n",
        "\n",
        "# 학습 및 평가\n",
        "stacking_clf.fit(X_train, y_train)\n",
        "y_pred_val = stacking_clf.predict(X_val)\n",
        "\n",
        "print(\"Stacking Accuracy:\", accuracy_score(y_val, y_pred_val))"
      ],
      "metadata": {
        "colab": {
          "base_uri": "https://localhost:8080/"
        },
        "id": "o5NkJoZ3w8PT",
        "outputId": "4ebb8367-b7fe-44b9-c92f-61eee22e5c48"
      },
      "execution_count": 27,
      "outputs": [
        {
          "output_type": "stream",
          "name": "stdout",
          "text": [
            "Stacking Accuracy: 0.6657657657657657\n"
          ]
        }
      ]
    },
    {
      "cell_type": "markdown",
      "source": [
        "### feature engineering\n",
        "- 파생 변수 추가 및 중요 변수 선택"
      ],
      "metadata": {
        "id": "yVXuuhODNhzx"
      }
    },
    {
      "cell_type": "code",
      "source": [
        "# 파생 변수 생성 함수\n",
        "def add_engineered_features(df):\n",
        "    df = df.copy()\n",
        "    df[\"tokens_title_content_ratio\"] = df[\"n_tokens_title\"] / (df[\"n_tokens_content\"] + 1e-5)\n",
        "    df[\"token_length_interaction\"] = df[\"n_tokens_title\"] * df[\"average_token_length\"]\n",
        "    df[\"positive_negative_ratio\"] = df[\"global_rate_positive_words\"] / (df[\"global_rate_negative_words\"] + 1e-5)\n",
        "    df[\"title_polarity_strength\"] = np.abs(df[\"title_sentiment_polarity\"])\n",
        "    df[\"extreme_sentiment\"] = df[\"max_positive_polarity\"] - df[\"min_negative_polarity\"]\n",
        "    lda_cols = [\"LDA_00\", \"LDA_01\", \"LDA_02\", \"LDA_03\", \"LDA_04\"]\n",
        "    df[\"lda_spread\"] = df[lda_cols].max(axis=1) - df[lda_cols].min(axis=1)\n",
        "    df[\"unique_stop_ratio\"] = df[\"n_non_stop_unique_tokens\"] / (df[\"n_non_stop_words\"] + 1e-5)\n",
        "    df[\"unique_token_ratio\"] = df[\"n_unique_tokens\"] / (df[\"n_tokens_content\"] + 1e-5)\n",
        "    return df\n",
        "\n",
        "# 파생 변수 추가\n",
        "df = add_engineered_features(df)\n",
        "\n",
        "# 피처 및 타겟 분리\n",
        "X = df.drop(columns=[\"id\", \"shares\", \"y\"])  # 타겟 컬럼은 y\n",
        "y = df[\"y\"]\n",
        "\n",
        "# 학습/검증 분할\n",
        "X_train, X_val, y_train, y_val = train_test_split(X, y, test_size=0.2, random_state=42)\n",
        "\n",
        "# XGBoost로 학습\n",
        "xgb = XGBClassifier(eval_metric='logloss')\n",
        "xgb.fit(X_train, y_train)\n",
        "\n",
        "# 상위 중요 feature 20개 추출\n",
        "importances = xgb.feature_importances_\n",
        "indices = np.argsort(importances)[::-1]\n",
        "top_features = X.columns[indices[:20]]\n",
        "\n",
        "# 선택된 feature로 학습 데이터 구성\n",
        "X_train_selected = X_train[top_features]\n",
        "X_val_selected = X_val[top_features]\n",
        "\n",
        "# 결과 출력\n",
        "print(\"선택된 상위 20개 feature:\")\n",
        "print(top_features.tolist())"
      ],
      "metadata": {
        "colab": {
          "base_uri": "https://localhost:8080/"
        },
        "id": "quLRb32pNhHY",
        "outputId": "e01238c4-f896-4c71-ae78-d5bd338a341c"
      },
      "execution_count": null,
      "outputs": [
        {
          "output_type": "stream",
          "name": "stdout",
          "text": [
            "선택된 상위 20개 feature:\n",
            "['channel_Entertainment', 'channel_Tech', 'weekday_Saturday', 'channel_Social Media', 'channel_World', 'kw_avg_avg', 'kw_max_max', 'weekday_Sunday', 'self_reference_min_shares', 'self_reference_avg_sharess', 'kw_min_min', 'kw_min_avg', 'kw_max_avg', 'weekday_Thursday', 'num_imgs', 'LDA_02', 'LDA_00', 'channel_Lifestyle', 'weekday_Tuesday', 'channel_Business']\n"
          ]
        }
      ]
    },
    {
      "cell_type": "markdown",
      "source": [
        "- 선택된 변수 기준으로 xgb 튜닝 (GridSearchCV)"
      ],
      "metadata": {
        "id": "ZwBaTQYOWsUJ"
      }
    },
    {
      "cell_type": "code",
      "source": [
        "# GridSearchCV 설정\n",
        "param_grid = {\n",
        "    'max_depth': [3, 4],\n",
        "    'learning_rate': [0.05, 0.1],\n",
        "    'n_estimators': [100, 200],\n",
        "    'subsample': [0.8, 1.0],\n",
        "    'colsample_bytree': [0.8, 1.0]\n",
        "}\n",
        "\n",
        "xgb_tune = XGBClassifier(use_label_encoder=False, eval_metric='logloss', random_state=42)\n",
        "grid = GridSearchCV(xgb_tune, param_grid, scoring='accuracy', cv=3, verbose=1, n_jobs=-1)\n",
        "grid.fit(X_train_selected, y_train)\n",
        "\n",
        "print(\"Best Params:\", grid.best_params_)\n",
        "print(\"Best CV Score:\", grid.best_score_)"
      ],
      "metadata": {
        "id": "-x2Kam5iWsBV",
        "colab": {
          "base_uri": "https://localhost:8080/"
        },
        "outputId": "c6f598ff-a6dc-4654-8301-7feba558441a"
      },
      "execution_count": null,
      "outputs": [
        {
          "output_type": "stream",
          "name": "stdout",
          "text": [
            "Fitting 3 folds for each of 32 candidates, totalling 96 fits\n"
          ]
        },
        {
          "output_type": "stream",
          "name": "stderr",
          "text": [
            "/usr/local/lib/python3.11/dist-packages/xgboost/core.py:158: UserWarning: [06:38:52] WARNING: /workspace/src/learner.cc:740: \n",
            "Parameters: { \"use_label_encoder\" } are not used.\n",
            "\n",
            "  warnings.warn(smsg, UserWarning)\n"
          ]
        },
        {
          "output_type": "stream",
          "name": "stdout",
          "text": [
            "Best Params: {'colsample_bytree': 0.8, 'learning_rate': 0.1, 'max_depth': 3, 'n_estimators': 200, 'subsample': 0.8}\n",
            "Best CV Score: 0.6537162162162161\n"
          ]
        }
      ]
    },
    {
      "cell_type": "code",
      "source": [
        "best_model = grid.best_estimator_\n",
        "y_pred_best = best_model.predict(X_val_selected)\n",
        "print(\"Tuned XGBoost Accuracy:\", accuracy_score(y_val, y_pred_best))"
      ],
      "metadata": {
        "id": "2FYuHX3kW4Mr",
        "colab": {
          "base_uri": "https://localhost:8080/"
        },
        "outputId": "160beb04-7920-4cee-e772-86530517ecd7"
      },
      "execution_count": null,
      "outputs": [
        {
          "output_type": "stream",
          "name": "stdout",
          "text": [
            "Tuned XGBoost Accuracy: 0.6497747747747747\n"
          ]
        }
      ]
    },
    {
      "cell_type": "markdown",
      "source": [
        "* 선택된 변수 기준으로 xgb 튜닝 (RandomizedSearchCV)"
      ],
      "metadata": {
        "id": "ehpZ8Pu-S8q2"
      }
    },
    {
      "cell_type": "code",
      "source": [
        "from sklearn.model_selection import RandomizedSearchCV\n",
        "from xgboost import XGBClassifier\n",
        "from sklearn.metrics import make_scorer, f1_score\n",
        "\n",
        "param_dist = {\n",
        "    'n_estimators': [100, 200, 300, 400],\n",
        "    'max_depth': [3, 5, 7, 9],\n",
        "    'learning_rate': [0.01, 0.05, 0.1, 0.2],\n",
        "    'subsample': [0.6, 0.8, 1.0],\n",
        "    'colsample_bytree': [0.6, 0.8, 1.0],\n",
        "    'gamma': [0, 0.1, 0.2, 0.5],\n",
        "    'min_child_weight': [1, 3, 5]\n",
        "}\n",
        "\n",
        "xgb_model = XGBClassifier(\n",
        "    eval_metric='logloss',\n",
        "    random_state= 42\n",
        ")\n",
        "\n",
        "scorer = make_scorer(f1_score)\n",
        "\n",
        "rs = RandomizedSearchCV(\n",
        "    xgb_model,\n",
        "    param_distributions=param_dist,\n",
        "    n_iter=30,\n",
        "    scoring=scorer,\n",
        "    cv=3,\n",
        "    verbose=1,\n",
        "    n_jobs=-1\n",
        ")\n",
        "\n",
        "rs.fit(X_train_selected, y_train)\n",
        "\n",
        "best_model = rs.best_estimator_\n",
        "y_pred_best = best_model.predict(X_val_selected)"
      ],
      "metadata": {
        "colab": {
          "base_uri": "https://localhost:8080/"
        },
        "id": "xem-joL2TCvh",
        "outputId": "18730a4b-bff0-411b-cf89-ad6bdb964daa"
      },
      "execution_count": null,
      "outputs": [
        {
          "output_type": "stream",
          "name": "stdout",
          "text": [
            "Fitting 3 folds for each of 30 candidates, totalling 90 fits\n"
          ]
        }
      ]
    },
    {
      "cell_type": "code",
      "source": [
        "print(\"Tuned XGBoost Accuracy:\", accuracy_score(y_val, y_pred_best))\n",
        "print(\"Tuned XGBoost F1 Score:\", f1_score(y_val, y_pred_best))\n",
        "print(\"Best Params:\", rs.best_params_)"
      ],
      "metadata": {
        "colab": {
          "base_uri": "https://localhost:8080/"
        },
        "id": "fj51gUvYVirK",
        "outputId": "4f96e8f4-284e-4138-da3c-afb144760323"
      },
      "execution_count": null,
      "outputs": [
        {
          "output_type": "stream",
          "name": "stdout",
          "text": [
            "Tuned XGBoost Accuracy: 0.6475225225225225\n",
            "Tuned XGBoost F1 Score: 0.649809800850302\n",
            "Best Params: {'subsample': 0.6, 'n_estimators': 100, 'min_child_weight': 1, 'max_depth': 7, 'learning_rate': 0.05, 'gamma': 0.5, 'colsample_bytree': 0.6}\n"
          ]
        }
      ]
    }
  ]
}