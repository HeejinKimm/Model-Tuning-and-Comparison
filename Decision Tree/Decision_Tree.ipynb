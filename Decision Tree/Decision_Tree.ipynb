{
  "nbformat": 4,
  "nbformat_minor": 0,
  "metadata": {
    "colab": {
      "provenance": []
    },
    "kernelspec": {
      "name": "python3",
      "display_name": "Python 3"
    },
    "language_info": {
      "name": "python"
    }
  },
  "cells": [
    {
      "cell_type": "code",
      "source": [
        "import pandas as pd\n",
        "from sklearn.model_selection import train_test_split\n",
        "from sklearn.tree import DecisionTreeClassifier\n",
        "from sklearn.metrics import accuracy_score, classification_report"
      ],
      "metadata": {
        "id": "jfNP0dt5tn0t"
      },
      "execution_count": 1,
      "outputs": []
    },
    {
      "cell_type": "code",
      "execution_count": 3,
      "metadata": {
        "colab": {
          "base_uri": "https://localhost:8080/"
        },
        "id": "NkViF1MpthDp",
        "outputId": "4afd3280-2f72-44a1-c457-0c13f1593997"
      },
      "outputs": [
        {
          "output_type": "stream",
          "name": "stdout",
          "text": [
            "Accuracy: 0.6213963963963964\n",
            "              precision    recall  f1-score   support\n",
            "\n",
            "           0       0.63      0.62      0.62      2239\n",
            "           1       0.62      0.62      0.62      2201\n",
            "\n",
            "    accuracy                           0.62      4440\n",
            "   macro avg       0.62      0.62      0.62      4440\n",
            "weighted avg       0.62      0.62      0.62      4440\n",
            "\n"
          ]
        }
      ],
      "source": [
        "#데이터 불러오기\n",
        "df = pd.read_csv(\"/content/drive/MyDrive/25-1 패턴인식 프로젝트/train_processed.csv\")\n",
        "\n",
        "#feature, target 분리\n",
        "X = df.drop(['shares','y'], axis=1)\n",
        "y = df['y']\n",
        "\n",
        "#train-validation split\n",
        "X_train, X_val, y_train, y_val = train_test_split(X, y, test_size=0.2, random_state=42, stratify=y)\n",
        "\n",
        "#model fitting\n",
        "dt = DecisionTreeClassifier(\n",
        "    max_depth=5,\n",
        "    min_samples_split=5,\n",
        "    min_samples_leaf=2,\n",
        "    random_state=42\n",
        ")\n",
        "dt.fit(X_train, y_train)\n",
        "\n",
        "# 예측\n",
        "y_pred = dt.predict(X_val)\n",
        "\n",
        "# 평가\n",
        "print(\"Accuracy:\", accuracy_score(y_val, y_pred))\n",
        "print(classification_report(y_val, y_pred))"
      ]
    }
  ]
}