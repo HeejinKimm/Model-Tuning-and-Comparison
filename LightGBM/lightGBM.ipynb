{
  "nbformat": 4,
  "nbformat_minor": 0,
  "metadata": {
    "colab": {
      "provenance": [],
      "gpuType": "T4"
    },
    "kernelspec": {
      "name": "python3",
      "display_name": "Python 3"
    },
    "language_info": {
      "name": "python"
    },
    "accelerator": "GPU"
  },
  "cells": [
    {
      "cell_type": "code",
      "execution_count": 13,
      "metadata": {
        "id": "LB27bCX_Jn2u"
      },
      "outputs": [],
      "source": [
        "import lightgbm as lgb\n",
        "\n",
        "import pandas as pd\n",
        "import numpy as np\n",
        "\n",
        "from sklearn.metrics import accuracy_score, recall_score, f1_score, precision_score, roc_auc_score\n",
        "from sklearn.metrics import confusion_matrix\n",
        "from sklearn.model_selection import train_test_split\n",
        "\n",
        "\n",
        "import matplotlib as mpl\n",
        "import matplotlib.pyplot as plt\n",
        "import seaborn as sns\n",
        "\n",
        "import warnings\n",
        "from sklearn.model_selection import StratifiedKFold, cross_val_score"
      ]
    },
    {
      "cell_type": "code",
      "source": [
        "from google.colab import drive\n",
        "\n",
        "drive.mount('/content/gdrive')\n",
        "\n",
        "# Load data form drive\n",
        "df = pd.read_csv('/content/gdrive/MyDrive/2025-1 Pattern recognition/train_processed.csv', engine='python')\n",
        "df.info()"
      ],
      "metadata": {
        "id": "_5phxty2LT_a",
        "colab": {
          "base_uri": "https://localhost:8080/"
        },
        "outputId": "73e23299-734b-4fc8-b769-4a4c3082156d"
      },
      "execution_count": 3,
      "outputs": [
        {
          "output_type": "stream",
          "name": "stdout",
          "text": [
            "Mounted at /content/gdrive\n",
            "<class 'pandas.core.frame.DataFrame'>\n",
            "RangeIndex: 22200 entries, 0 to 22199\n",
            "Data columns (total 60 columns):\n",
            " #   Column                        Non-Null Count  Dtype  \n",
            "---  ------                        --------------  -----  \n",
            " 0   id                            22200 non-null  int64  \n",
            " 1   n_tokens_title                22200 non-null  float64\n",
            " 2   n_tokens_content              22200 non-null  float64\n",
            " 3   n_unique_tokens               22200 non-null  float64\n",
            " 4   n_non_stop_words              22200 non-null  float64\n",
            " 5   n_non_stop_unique_tokens      22200 non-null  float64\n",
            " 6   num_hrefs                     22200 non-null  float64\n",
            " 7   num_self_hrefs                22200 non-null  float64\n",
            " 8   num_imgs                      22200 non-null  float64\n",
            " 9   num_videos                    22200 non-null  float64\n",
            " 10  average_token_length          22200 non-null  float64\n",
            " 11  num_keywords                  22200 non-null  float64\n",
            " 12  kw_min_min                    22200 non-null  float64\n",
            " 13  kw_max_min                    22200 non-null  float64\n",
            " 14  kw_avg_min                    22200 non-null  float64\n",
            " 15  kw_min_max                    22200 non-null  float64\n",
            " 16  kw_max_max                    22200 non-null  float64\n",
            " 17  kw_avg_max                    22200 non-null  float64\n",
            " 18  kw_min_avg                    22200 non-null  float64\n",
            " 19  kw_max_avg                    22200 non-null  float64\n",
            " 20  kw_avg_avg                    22200 non-null  float64\n",
            " 21  self_reference_min_shares     22200 non-null  float64\n",
            " 22  self_reference_max_shares     22200 non-null  float64\n",
            " 23  self_reference_avg_sharess    22200 non-null  float64\n",
            " 24  LDA_00                        22200 non-null  float64\n",
            " 25  LDA_01                        22200 non-null  float64\n",
            " 26  LDA_02                        22200 non-null  float64\n",
            " 27  LDA_03                        22200 non-null  float64\n",
            " 28  LDA_04                        22200 non-null  float64\n",
            " 29  global_subjectivity           22200 non-null  float64\n",
            " 30  global_sentiment_polarity     22200 non-null  float64\n",
            " 31  global_rate_positive_words    22200 non-null  float64\n",
            " 32  global_rate_negative_words    22200 non-null  float64\n",
            " 33  rate_positive_words           22200 non-null  float64\n",
            " 34  rate_negative_words           22200 non-null  float64\n",
            " 35  avg_positive_polarity         22200 non-null  float64\n",
            " 36  min_positive_polarity         22200 non-null  float64\n",
            " 37  max_positive_polarity         22200 non-null  float64\n",
            " 38  avg_negative_polarity         22200 non-null  float64\n",
            " 39  min_negative_polarity         22200 non-null  float64\n",
            " 40  max_negative_polarity         22200 non-null  float64\n",
            " 41  title_subjectivity            22200 non-null  float64\n",
            " 42  title_sentiment_polarity      22200 non-null  float64\n",
            " 43  abs_title_subjectivity        22200 non-null  float64\n",
            " 44  abs_title_sentiment_polarity  22200 non-null  float64\n",
            " 45  channel_Business              22200 non-null  bool   \n",
            " 46  channel_Entertainment         22200 non-null  bool   \n",
            " 47  channel_Lifestyle             22200 non-null  bool   \n",
            " 48  channel_Social Media          22200 non-null  bool   \n",
            " 49  channel_Tech                  22200 non-null  bool   \n",
            " 50  channel_World                 22200 non-null  bool   \n",
            " 51  weekday_Monday                22200 non-null  bool   \n",
            " 52  weekday_Tuesday               22200 non-null  bool   \n",
            " 53  weekday_Wednesday             22200 non-null  bool   \n",
            " 54  weekday_Thursday              22200 non-null  bool   \n",
            " 55  weekday_Friday                22200 non-null  bool   \n",
            " 56  weekday_Saturday              22200 non-null  bool   \n",
            " 57  weekday_Sunday                22200 non-null  bool   \n",
            " 58  shares                        22200 non-null  int64  \n",
            " 59  y                             22200 non-null  int64  \n",
            "dtypes: bool(13), float64(44), int64(3)\n",
            "memory usage: 8.2 MB\n"
          ]
        }
      ]
    },
    {
      "cell_type": "code",
      "source": [
        "# 피처/타깃 분리\n",
        "target_col = 'y'\n",
        "feature_cols = [c for c in df.columns if c != target_col]\n",
        "\n",
        "X = df[feature_cols]\n",
        "y = df[target_col]\n",
        "\n",
        "# 피처셋 구성: id, shares, 원본 y 모두 제거\n",
        "X = df.drop(columns=['id', 'shares', 'y'])\n",
        "\n",
        "# 칼럼명 공백 → 언더스코어\n",
        "X.columns = [c.strip().replace(' ', '_') for c in X.columns]"
      ],
      "metadata": {
        "id": "nj7G46DXOKLQ"
      },
      "execution_count": 4,
      "outputs": []
    },
    {
      "cell_type": "code",
      "source": [
        "def drop_corr_features(X, threshold):\n",
        "    # 1) 원본 상관행렬 계산\n",
        "    corr = X.corr()\n",
        "    # 2) 상삼각(주대각선 위)만 남기기\n",
        "    upper = corr.where(np.triu(np.ones(corr.shape), k=1).astype(bool))\n",
        "    # 3) 양(+) 또는 음(–) 상관관계가 threshold보다 클 경우 제거 대상\n",
        "    to_drop = [\n",
        "        col for col in upper.columns\n",
        "        if (upper[col] >  threshold).any()  # 강한 양의 상관\n",
        "        or (upper[col] < -threshold).any()  # 강한 음의 상관\n",
        "    ]\n",
        "    return to_drop\n",
        "\n",
        "# 사용 예시\n",
        "to_drop = drop_corr_features(X, threshold=0.8)\n",
        "print(f\"Dropping {len(to_drop)} high-corr features (>|0.8|):\", to_drop)\n",
        "\n",
        "# 제거 후 데이터\n",
        "X_reduced = X.drop(columns=to_drop)"
      ],
      "metadata": {
        "id": "oHknwk43OLNm",
        "colab": {
          "base_uri": "https://localhost:8080/"
        },
        "outputId": "81b6a71c-00c1-4389-ea8d-70796d0760ef"
      },
      "execution_count": 5,
      "outputs": [
        {
          "output_type": "stream",
          "name": "stdout",
          "text": [
            "Dropping 5 high-corr features (>|0.8|): ['n_non_stop_unique_tokens', 'average_token_length', 'kw_min_avg', 'self_reference_max_shares', 'self_reference_avg_sharess']\n"
          ]
        }
      ]
    },
    {
      "cell_type": "code",
      "source": [
        "# 차원(행 × 열) 확인\n",
        "print(\"Shape:\", X_reduced.shape)\n",
        "\n",
        "# 남은 컬럼 리스트\n",
        "print(\"Columns:\", X_reduced.columns.tolist())\n",
        "\n",
        "# 통계 요약\n",
        "print(\"Describe:\\n\", X_reduced.describe())"
      ],
      "metadata": {
        "id": "r0_QLq9iSeV_",
        "colab": {
          "base_uri": "https://localhost:8080/"
        },
        "outputId": "44283d4c-1b96-43b2-dfb3-ce282498d9ca"
      },
      "execution_count": 6,
      "outputs": [
        {
          "output_type": "stream",
          "name": "stdout",
          "text": [
            "Shape: (22200, 52)\n",
            "Columns: ['n_tokens_title', 'n_tokens_content', 'n_unique_tokens', 'n_non_stop_words', 'num_hrefs', 'num_self_hrefs', 'num_imgs', 'num_videos', 'num_keywords', 'kw_min_min', 'kw_max_min', 'kw_avg_min', 'kw_min_max', 'kw_max_max', 'kw_avg_max', 'kw_max_avg', 'kw_avg_avg', 'self_reference_min_shares', 'LDA_00', 'LDA_01', 'LDA_02', 'LDA_03', 'LDA_04', 'global_subjectivity', 'global_sentiment_polarity', 'global_rate_positive_words', 'global_rate_negative_words', 'rate_positive_words', 'rate_negative_words', 'avg_positive_polarity', 'min_positive_polarity', 'max_positive_polarity', 'avg_negative_polarity', 'min_negative_polarity', 'max_negative_polarity', 'title_subjectivity', 'title_sentiment_polarity', 'abs_title_subjectivity', 'abs_title_sentiment_polarity', 'channel_Business', 'channel_Entertainment', 'channel_Lifestyle', 'channel_Social_Media', 'channel_Tech', 'channel_World', 'weekday_Monday', 'weekday_Tuesday', 'weekday_Wednesday', 'weekday_Thursday', 'weekday_Friday', 'weekday_Saturday', 'weekday_Sunday']\n",
            "Describe:\n",
            "        n_tokens_title  n_tokens_content  n_unique_tokens  n_non_stop_words  \\\n",
            "count    22200.000000      22200.000000     22200.000000      22200.000000   \n",
            "mean        10.348784        530.878288         0.531533          0.973108   \n",
            "std          2.001873        439.672685         0.131494          0.161771   \n",
            "min          3.000000          0.000000         0.000000          0.000000   \n",
            "25%          9.000000        261.000000         0.479290          1.000000   \n",
            "50%         10.000000        409.000000         0.539683          1.000000   \n",
            "75%         12.000000        666.000000         0.601024          1.000000   \n",
            "max         19.000000       7413.000000         1.000000          1.000000   \n",
            "\n",
            "          num_hrefs  num_self_hrefs      num_imgs    num_videos  num_keywords  \\\n",
            "count  22200.000000    22200.000000  22200.000000  22200.000000  22200.000000   \n",
            "mean       2.148592        1.227500      1.068595      0.361543      7.193153   \n",
            "std        0.766320        0.658890      0.927473      0.655180      1.812781   \n",
            "min        0.000000        0.000000      0.000000      0.000000      1.000000   \n",
            "25%        1.791759        0.693147      0.693147      0.000000      6.000000   \n",
            "50%        2.079442        1.386294      0.693147      0.000000      7.000000   \n",
            "75%        2.639057        1.609438      1.386294      0.693147      9.000000   \n",
            "max        5.231109        4.762174      4.691348      4.521789     10.000000   \n",
            "\n",
            "         kw_min_min  ...  avg_positive_polarity  min_positive_polarity  \\\n",
            "count  22200.000000  ...           22200.000000           22200.000000   \n",
            "mean       2.490465  ...               0.354505               0.095641   \n",
            "std        1.189683  ...               0.099410               0.067816   \n",
            "min       -0.042560  ...               0.000000               0.000000   \n",
            "25%        1.609438  ...               0.312979               0.050000   \n",
            "50%        2.280443  ...               0.359375               0.100000   \n",
            "75%        2.741473  ...               0.405173               0.100000   \n",
            "max        7.669679  ...               1.000000               1.000000   \n",
            "\n",
            "       max_positive_polarity  avg_negative_polarity  min_negative_polarity  \\\n",
            "count           22200.000000           22200.000000           22200.000000   \n",
            "mean                0.760252              -0.259329              -0.520844   \n",
            "std                 0.236196               0.121227               0.274235   \n",
            "min                 0.000000              -1.000000              -1.000000   \n",
            "25%                 0.600000              -0.318729              -0.700000   \n",
            "50%                 0.800000              -0.253718              -0.500000   \n",
            "75%                 1.000000              -0.195405              -0.333333   \n",
            "max                 1.000000               0.000000               0.000000   \n",
            "\n",
            "       max_negative_polarity  title_subjectivity  title_sentiment_polarity  \\\n",
            "count           22200.000000        22200.000000              22200.000000   \n",
            "mean               -0.106888            0.270411                  0.063111   \n",
            "std                 0.091197            0.312862                  0.251906   \n",
            "min                -1.000000            0.000000                 -1.000000   \n",
            "25%                -0.125000            0.000000                  0.000000   \n",
            "50%                -0.100000            0.144444                  0.000000   \n",
            "75%                -0.050000            0.500000                  0.136364   \n",
            "max                 0.000000            1.000000                  1.000000   \n",
            "\n",
            "       abs_title_subjectivity  abs_title_sentiment_polarity  \n",
            "count            22200.000000                  22200.000000  \n",
            "mean                 0.358995                      0.139571  \n",
            "std                  0.184837                      0.218943  \n",
            "min                  0.000000                      0.000000  \n",
            "25%                  0.192911                      0.000000  \n",
            "50%                  0.500000                      0.000000  \n",
            "75%                  0.500000                      0.200000  \n",
            "max                  0.500000                      1.000000  \n",
            "\n",
            "[8 rows x 39 columns]\n"
          ]
        }
      ]
    },
    {
      "cell_type": "code",
      "source": [
        "# 교차검증으로 과적합 여부 확인\n",
        "clf = lgb.LGBMClassifier(\n",
        "    objective='binary',       # binary classification\n",
        "    metric='binary_logloss',  # Binary log loss\n",
        "    learning_rate=0.09,\n",
        "    num_leaves=21,            # Max number of leaves that one tree can have\n",
        "    min_child_samples=31,\n",
        "    reg_alpha=6.2,\n",
        "    reg_lambda=4.8,\n",
        "    random_state=42\n",
        ")\n",
        "\n",
        "skf = StratifiedKFold(n_splits=8, shuffle=True, random_state=42)\n",
        "auc_scores = cross_val_score(clf, X_reduced, y,\n",
        "                             cv=skf,\n",
        "                             scoring='roc_auc',\n",
        "                             n_jobs=-1)\n",
        "print(\"5-Fold AUC scores:\", np.round(auc_scores,4))\n",
        "print(\"Mean AUC:\", np.round(auc_scores.mean(),4))"
      ],
      "metadata": {
        "colab": {
          "base_uri": "https://localhost:8080/"
        },
        "id": "oVXi7ZMWOoOv",
        "outputId": "9345d7a5-de90-40f2-da76-9dc00d45ecf2"
      },
      "execution_count": 11,
      "outputs": [
        {
          "output_type": "stream",
          "name": "stdout",
          "text": [
            "5-Fold AUC scores: [0.6929 0.7208 0.721  0.7115 0.7012 0.7196 0.725  0.7178]\n",
            "Mean AUC: 0.7137\n"
          ]
        }
      ]
    },
    {
      "cell_type": "code",
      "source": [
        "# 최종 Train/Val 분리 & 평가\n",
        "X_tr, X_val, y_tr, y_val = train_test_split(\n",
        "    X_reduced, y, test_size=0.2,\n",
        "    stratify=y, random_state=42\n",
        ")\n",
        "clf.fit(\n",
        "    X_tr, y_tr,\n",
        "    eval_set=[(X_val, y_val)],\n",
        "    eval_metric='binary_logloss',\n",
        "    callbacks=[lgb.early_stopping(stopping_rounds=30),\n",
        "               lgb.log_evaluation(period=20)]\n",
        ")\n",
        "y_pred = clf.predict(X_val)\n",
        "y_prob = clf.predict_proba(X_val)[:,1]"
      ],
      "metadata": {
        "id": "9l1hJZovQMCc",
        "colab": {
          "base_uri": "https://localhost:8080/"
        },
        "outputId": "551d62e4-2cb7-4fad-eded-ed2bbe1b1ae9"
      },
      "execution_count": 14,
      "outputs": [
        {
          "output_type": "stream",
          "name": "stdout",
          "text": [
            "[LightGBM] [Info] Number of positive: 8803, number of negative: 8957\n",
            "[LightGBM] [Info] Auto-choosing row-wise multi-threading, the overhead of testing was 0.002595 seconds.\n",
            "You can set `force_row_wise=true` to remove the overhead.\n",
            "And if memory is not enough, you can set `force_col_wise=true`.\n",
            "[LightGBM] [Info] Total Bins 7323\n",
            "[LightGBM] [Info] Number of data points in the train set: 17760, number of used features: 52\n",
            "[LightGBM] [Info] [binary:BoostFromScore]: pavg=0.495664 -> initscore=-0.017343\n",
            "[LightGBM] [Info] Start training from score -0.017343\n",
            "Training until validation scores don't improve for 30 rounds\n",
            "[20]\tvalid_0's binary_logloss: 0.629225\n",
            "[40]\tvalid_0's binary_logloss: 0.616828\n",
            "[60]\tvalid_0's binary_logloss: 0.613087\n",
            "[80]\tvalid_0's binary_logloss: 0.611747\n",
            "[100]\tvalid_0's binary_logloss: 0.610939\n",
            "Did not meet early stopping. Best iteration is:\n",
            "[100]\tvalid_0's binary_logloss: 0.610939\n"
          ]
        }
      ]
    },
    {
      "cell_type": "code",
      "source": [
        "from sklearn.metrics import classification_report\n",
        "\n",
        "print(\"Final Validation Accuracy:\", accuracy_score(y_val, y_pred))\n",
        "print(\"Final Validation AUC     :\", roc_auc_score(y_val, y_prob))\n",
        "print(\"\\nClassification Report:\\n\", classification_report(y_val, y_pred))"
      ],
      "metadata": {
        "id": "6l6ls585QPiq",
        "colab": {
          "base_uri": "https://localhost:8080/"
        },
        "outputId": "ff66fcfd-a75e-411c-fd5a-adaf626eefc6"
      },
      "execution_count": 15,
      "outputs": [
        {
          "output_type": "stream",
          "name": "stdout",
          "text": [
            "Final Validation Accuracy: 0.6641891891891892\n",
            "Final Validation AUC     : 0.7265230652598326\n",
            "\n",
            "Classification Report:\n",
            "               precision    recall  f1-score   support\n",
            "\n",
            "           0       0.67      0.66      0.67      2239\n",
            "           1       0.66      0.67      0.66      2201\n",
            "\n",
            "    accuracy                           0.66      4440\n",
            "   macro avg       0.66      0.66      0.66      4440\n",
            "weighted avg       0.66      0.66      0.66      4440\n",
            "\n"
          ]
        }
      ]
    },
    {
      "cell_type": "code",
      "source": [
        "pip install optuna"
      ],
      "metadata": {
        "id": "vg_I3Y2Tct4J",
        "colab": {
          "base_uri": "https://localhost:8080/"
        },
        "outputId": "192b12ec-fbe9-435a-e5c6-2add3ea510af"
      },
      "execution_count": 16,
      "outputs": [
        {
          "output_type": "stream",
          "name": "stdout",
          "text": [
            "Collecting optuna\n",
            "  Downloading optuna-4.3.0-py3-none-any.whl.metadata (17 kB)\n",
            "Collecting alembic>=1.5.0 (from optuna)\n",
            "  Downloading alembic-1.15.2-py3-none-any.whl.metadata (7.3 kB)\n",
            "Collecting colorlog (from optuna)\n",
            "  Downloading colorlog-6.9.0-py3-none-any.whl.metadata (10 kB)\n",
            "Requirement already satisfied: numpy in /usr/local/lib/python3.11/dist-packages (from optuna) (2.0.2)\n",
            "Requirement already satisfied: packaging>=20.0 in /usr/local/lib/python3.11/dist-packages (from optuna) (24.2)\n",
            "Requirement already satisfied: sqlalchemy>=1.4.2 in /usr/local/lib/python3.11/dist-packages (from optuna) (2.0.40)\n",
            "Requirement already satisfied: tqdm in /usr/local/lib/python3.11/dist-packages (from optuna) (4.67.1)\n",
            "Requirement already satisfied: PyYAML in /usr/local/lib/python3.11/dist-packages (from optuna) (6.0.2)\n",
            "Requirement already satisfied: Mako in /usr/lib/python3/dist-packages (from alembic>=1.5.0->optuna) (1.1.3)\n",
            "Requirement already satisfied: typing-extensions>=4.12 in /usr/local/lib/python3.11/dist-packages (from alembic>=1.5.0->optuna) (4.13.2)\n",
            "Requirement already satisfied: greenlet>=1 in /usr/local/lib/python3.11/dist-packages (from sqlalchemy>=1.4.2->optuna) (3.2.1)\n",
            "Downloading optuna-4.3.0-py3-none-any.whl (386 kB)\n",
            "\u001b[2K   \u001b[90m━━━━━━━━━━━━━━━━━━━━━━━━━━━━━━━━━━━━━━━━\u001b[0m \u001b[32m386.6/386.6 kB\u001b[0m \u001b[31m29.5 MB/s\u001b[0m eta \u001b[36m0:00:00\u001b[0m\n",
            "\u001b[?25hDownloading alembic-1.15.2-py3-none-any.whl (231 kB)\n",
            "\u001b[2K   \u001b[90m━━━━━━━━━━━━━━━━━━━━━━━━━━━━━━━━━━━━━━━━\u001b[0m \u001b[32m231.9/231.9 kB\u001b[0m \u001b[31m17.4 MB/s\u001b[0m eta \u001b[36m0:00:00\u001b[0m\n",
            "\u001b[?25hDownloading colorlog-6.9.0-py3-none-any.whl (11 kB)\n",
            "Installing collected packages: colorlog, alembic, optuna\n",
            "Successfully installed alembic-1.15.2 colorlog-6.9.0 optuna-4.3.0\n"
          ]
        }
      ]
    },
    {
      "cell_type": "code",
      "source": [
        "import pandas as pd\n",
        "import numpy as np\n",
        "import lightgbm as lgb\n",
        "import optuna\n",
        "from sklearn.model_selection import StratifiedKFold, cross_val_score\n",
        "\n",
        "# 1) 데이터 로드 및 전처리\n",
        "df = pd.read_csv('/content/gdrive/MyDrive/2025-1 Pattern recognition/train_processed.csv', engine='python')\n",
        "y = df['y']\n",
        "X = df.drop(columns=['id', 'shares', 'y'])\n",
        "# 컬럼명 공백 → 언더스코어\n",
        "X.columns = [c.strip().replace(' ', '_') for c in X.columns]\n",
        "# 너무 강한 상관(>|0.8|) 피처 제거\n",
        "def drop_corr_features(X, threshold=0.8):\n",
        "    corr  = X.corr()\n",
        "    upper = corr.where(np.triu(np.ones(corr.shape), k=1).astype(bool))\n",
        "    return [col for col in upper.columns\n",
        "            if (upper[col] >  threshold).any()\n",
        "            or (upper[col] < -threshold).any()]\n",
        "\n",
        "to_drop    = drop_corr_features(X, threshold=0.8)\n",
        "X_reduced  = X.drop(columns=to_drop)\n",
        "\n",
        "# 2) Optuna objective 함수 정의\n",
        "def objective(trial):\n",
        "    params = {\n",
        "        'objective': 'binary',\n",
        "        'metric': 'auc',\n",
        "        'boosting_type': 'gbdt',\n",
        "        'learning_rate': trial.suggest_float('learning_rate', 1e-3, 0.3, log=True),\n",
        "        'num_leaves': trial.suggest_int('num_leaves', 20, 150),\n",
        "        'max_depth': trial.suggest_int('max_depth', 3, 16),\n",
        "        'min_child_samples': trial.suggest_int('min_child_samples', 5, 100),\n",
        "        'subsample': trial.suggest_float('subsample', 0.5, 1.0),\n",
        "        'colsample_bytree': trial.suggest_float('colsample_bytree', 0.5, 1.0),\n",
        "        'reg_alpha': trial.suggest_float('reg_alpha', 0.0, 10.0),\n",
        "        'reg_lambda': trial.suggest_float('reg_lambda', 0.0, 10.0),\n",
        "        'random_state': 42,\n",
        "        'n_jobs': -1\n",
        "    }\n",
        "    model = lgb.LGBMClassifier(**params)\n",
        "    cv = StratifiedKFold(n_splits=5, shuffle=True, random_state=42)\n",
        "    scores = cross_val_score(model, X_reduced, y, cv=cv, scoring='roc_auc', n_jobs=-1)\n",
        "    return scores.mean()\n",
        "\n",
        "# 3) 스터디 생성 및 최적화 수행\n",
        "study = optuna.create_study(direction='maximize')\n",
        "study.optimize(objective, n_trials=50)\n",
        "\n",
        "# 4) 최적 결과 확인\n",
        "print(\"Best AUC    :\", study.best_value)\n",
        "print(\"Best Params :\", study.best_params)\n",
        "\n",
        "# 5) 최적 파라미터로 모델 학습\n",
        "best_params = study.best_params.copy()\n",
        "best_params.update({\n",
        "    'objective': 'binary',\n",
        "    'metric': 'binary_logloss',\n",
        "    'boosting_type': 'gbdt',\n",
        "    'random_state': 42,\n",
        "    'n_jobs': -1\n",
        "})\n",
        "final_model = lgb.LGBMClassifier(**best_params)\n",
        "final_model.fit(X_reduced, y)\n",
        "\n",
        "# 6) 피처 중요도 확인\n",
        "importances = pd.Series(final_model.feature_importances_, index=X_reduced.columns)\n",
        "print(\"\\nTop 10 Feature Importances:\\n\", importances.sort_values(ascending=False).head(10))\n"
      ],
      "metadata": {
        "colab": {
          "base_uri": "https://localhost:8080/"
        },
        "id": "XPQ4iw3IcgFU",
        "outputId": "3507df2d-6b8f-4082-ecb6-093aa5200d9e"
      },
      "execution_count": null,
      "outputs": [
        {
          "output_type": "stream",
          "name": "stderr",
          "text": [
            "[I 2025-04-29 12:09:00,122] A new study created in memory with name: no-name-b5f9c76e-b33a-4dce-b027-f70ed5af8ceb\n",
            "[I 2025-04-29 12:09:17,022] Trial 0 finished with value: 0.6948337889332953 and parameters: {'learning_rate': 0.0013608100191502396, 'num_leaves': 110, 'max_depth': 11, 'min_child_samples': 37, 'subsample': 0.6346053019636584, 'colsample_bytree': 0.7453399743464246, 'reg_alpha': 2.610228959906916, 'reg_lambda': 3.882420388187721}. Best is trial 0 with value: 0.6948337889332953.\n",
            "[I 2025-04-29 12:09:31,572] Trial 1 finished with value: 0.6995870436201848 and parameters: {'learning_rate': 0.004440252956993858, 'num_leaves': 112, 'max_depth': 12, 'min_child_samples': 22, 'subsample': 0.7270790511446023, 'colsample_bytree': 0.7003574986298999, 'reg_alpha': 4.637886474375465, 'reg_lambda': 4.408450271556889}. Best is trial 1 with value: 0.6995870436201848.\n",
            "[I 2025-04-29 12:09:44,734] Trial 2 finished with value: 0.6918387990808481 and parameters: {'learning_rate': 0.0028071980979931035, 'num_leaves': 37, 'max_depth': 8, 'min_child_samples': 52, 'subsample': 0.7973660376649259, 'colsample_bytree': 0.6631004838802819, 'reg_alpha': 8.987068729217894, 'reg_lambda': 5.294433102402914}. Best is trial 1 with value: 0.6995870436201848.\n",
            "[I 2025-04-29 12:10:05,981] Trial 3 finished with value: 0.697570420772389 and parameters: {'learning_rate': 0.0017874424450930258, 'num_leaves': 143, 'max_depth': 16, 'min_child_samples': 74, 'subsample': 0.7686822094230317, 'colsample_bytree': 0.7319174632520747, 'reg_alpha': 1.8569559047579431, 'reg_lambda': 2.254776036996585}. Best is trial 1 with value: 0.6995870436201848.\n",
            "[I 2025-04-29 12:10:24,353] Trial 4 finished with value: 0.7112919588179794 and parameters: {'learning_rate': 0.03130396437077374, 'num_leaves': 92, 'max_depth': 15, 'min_child_samples': 15, 'subsample': 0.9054062559354445, 'colsample_bytree': 0.8587373946773811, 'reg_alpha': 8.104540489432589, 'reg_lambda': 5.067540097587411}. Best is trial 4 with value: 0.7112919588179794.\n",
            "[I 2025-04-29 12:10:37,342] Trial 5 finished with value: 0.6913664595538952 and parameters: {'learning_rate': 0.008140611350755554, 'num_leaves': 144, 'max_depth': 7, 'min_child_samples': 27, 'subsample': 0.9800334307407899, 'colsample_bytree': 0.9460501630850098, 'reg_alpha': 8.455032076489772, 'reg_lambda': 7.843910494621388}. Best is trial 4 with value: 0.7112919588179794.\n",
            "[I 2025-04-29 12:10:41,857] Trial 6 finished with value: 0.7111015403250789 and parameters: {'learning_rate': 0.18662287463425425, 'num_leaves': 130, 'max_depth': 3, 'min_child_samples': 16, 'subsample': 0.8098616468870319, 'colsample_bytree': 0.8459922652078307, 'reg_alpha': 0.5963058885717853, 'reg_lambda': 4.266415049579307}. Best is trial 4 with value: 0.7112919588179794.\n",
            "[I 2025-04-29 12:10:51,978] Trial 7 finished with value: 0.6951241885089634 and parameters: {'learning_rate': 0.0014425268393088177, 'num_leaves': 27, 'max_depth': 15, 'min_child_samples': 56, 'subsample': 0.5959107475152328, 'colsample_bytree': 0.5683970830054004, 'reg_alpha': 0.7922287577852749, 'reg_lambda': 3.944434667992881}. Best is trial 4 with value: 0.7112919588179794.\n",
            "[I 2025-04-29 12:11:10,248] Trial 8 finished with value: 0.7125438983753338 and parameters: {'learning_rate': 0.01981972549133112, 'num_leaves': 140, 'max_depth': 12, 'min_child_samples': 21, 'subsample': 0.9889132838400667, 'colsample_bytree': 0.5250463476551706, 'reg_alpha': 2.5871054350714573, 'reg_lambda': 3.021295620856963}. Best is trial 8 with value: 0.7125438983753338.\n",
            "[I 2025-04-29 12:11:14,253] Trial 9 finished with value: 0.7129061504484271 and parameters: {'learning_rate': 0.1986159710511143, 'num_leaves': 83, 'max_depth': 5, 'min_child_samples': 85, 'subsample': 0.5156945002938305, 'colsample_bytree': 0.6292849750929644, 'reg_alpha': 4.06090133742473, 'reg_lambda': 7.720823266032614}. Best is trial 9 with value: 0.7129061504484271.\n",
            "[I 2025-04-29 12:11:19,426] Trial 10 finished with value: 0.7125838780076494 and parameters: {'learning_rate': 0.2884659190743126, 'num_leaves': 59, 'max_depth': 3, 'min_child_samples': 95, 'subsample': 0.5044908242635598, 'colsample_bytree': 0.6126878928900705, 'reg_alpha': 5.599770283453339, 'reg_lambda': 9.936495456863994}. Best is trial 9 with value: 0.7129061504484271.\n",
            "[I 2025-04-29 12:11:24,978] Trial 11 finished with value: 0.7129951135117916 and parameters: {'learning_rate': 0.25991251728780673, 'num_leaves': 57, 'max_depth': 3, 'min_child_samples': 98, 'subsample': 0.5017853643266957, 'colsample_bytree': 0.613769555106703, 'reg_alpha': 5.906094796350287, 'reg_lambda': 9.901914562334547}. Best is trial 11 with value: 0.7129951135117916.\n",
            "[I 2025-04-29 12:11:30,416] Trial 12 finished with value: 0.7136723025708032 and parameters: {'learning_rate': 0.07793478376935815, 'num_leaves': 64, 'max_depth': 5, 'min_child_samples': 99, 'subsample': 0.5230226874019583, 'colsample_bytree': 0.6227464961742987, 'reg_alpha': 5.587556256685459, 'reg_lambda': 9.695688564870457}. Best is trial 12 with value: 0.7136723025708032.\n",
            "[I 2025-04-29 12:11:38,299] Trial 13 finished with value: 0.7136681180994737 and parameters: {'learning_rate': 0.07706270061910338, 'num_leaves': 58, 'max_depth': 5, 'min_child_samples': 93, 'subsample': 0.6106692562767646, 'colsample_bytree': 0.5150199810638934, 'reg_alpha': 6.474890296137709, 'reg_lambda': 9.81077156491498}. Best is trial 12 with value: 0.7136723025708032.\n",
            "[I 2025-04-29 12:11:47,360] Trial 14 finished with value: 0.7143338626041326 and parameters: {'learning_rate': 0.060221606672461916, 'num_leaves': 62, 'max_depth': 6, 'min_child_samples': 72, 'subsample': 0.6202543934910221, 'colsample_bytree': 0.521385659985393, 'reg_alpha': 6.948245391590724, 'reg_lambda': 7.7891906037060945}. Best is trial 14 with value: 0.7143338626041326.\n",
            "[I 2025-04-29 12:11:55,077] Trial 15 finished with value: 0.7144005840427379 and parameters: {'learning_rate': 0.05764673798326323, 'num_leaves': 78, 'max_depth': 6, 'min_child_samples': 72, 'subsample': 0.6841343636236459, 'colsample_bytree': 0.5576457692656958, 'reg_alpha': 7.461336105008692, 'reg_lambda': 7.689614449858285}. Best is trial 15 with value: 0.7144005840427379.\n",
            "[I 2025-04-29 12:12:03,527] Trial 16 finished with value: 0.7149770428581632 and parameters: {'learning_rate': 0.06442093138777127, 'num_leaves': 88, 'max_depth': 8, 'min_child_samples': 70, 'subsample': 0.6941106892860951, 'colsample_bytree': 0.5042798579965458, 'reg_alpha': 9.938539781205048, 'reg_lambda': 6.816125532376087}. Best is trial 16 with value: 0.7149770428581632.\n",
            "[I 2025-04-29 12:12:17,831] Trial 17 finished with value: 0.7116811194335977 and parameters: {'learning_rate': 0.035769510003215634, 'num_leaves': 84, 'max_depth': 9, 'min_child_samples': 65, 'subsample': 0.6976793673801525, 'colsample_bytree': 0.8294040543381347, 'reg_alpha': 9.942538416251116, 'reg_lambda': 7.005649539553168}. Best is trial 16 with value: 0.7149770428581632.\n",
            "[I 2025-04-29 12:12:29,725] Trial 18 finished with value: 0.7035026021789369 and parameters: {'learning_rate': 0.010551184457330873, 'num_leaves': 99, 'max_depth': 10, 'min_child_samples': 46, 'subsample': 0.6935708327865, 'colsample_bytree': 0.5727068496564841, 'reg_alpha': 7.572188737841355, 'reg_lambda': 6.1205041549447445}. Best is trial 16 with value: 0.7149770428581632.\n",
            "[I 2025-04-29 12:12:37,491] Trial 19 finished with value: 0.7120147204737606 and parameters: {'learning_rate': 0.11764160734783015, 'num_leaves': 75, 'max_depth': 8, 'min_child_samples': 81, 'subsample': 0.8535285010380943, 'colsample_bytree': 0.5028770275394486, 'reg_alpha': 9.90353739747416, 'reg_lambda': 1.1125977345244422}. Best is trial 16 with value: 0.7149770428581632.\n",
            "[I 2025-04-29 12:12:48,648] Trial 20 finished with value: 0.7114331121300096 and parameters: {'learning_rate': 0.03654312906866423, 'num_leaves': 117, 'max_depth': 7, 'min_child_samples': 66, 'subsample': 0.6644033189258749, 'colsample_bytree': 0.8017706597612004, 'reg_alpha': 9.039296225827629, 'reg_lambda': 6.391313929957057}. Best is trial 16 with value: 0.7149770428581632.\n",
            "[I 2025-04-29 12:12:56,139] Trial 21 finished with value: 0.715238971866333 and parameters: {'learning_rate': 0.08486213142810357, 'num_leaves': 40, 'max_depth': 6, 'min_child_samples': 70, 'subsample': 0.5771212194025227, 'colsample_bytree': 0.5685697690646044, 'reg_alpha': 7.0644061506479545, 'reg_lambda': 8.407696260080858}. Best is trial 21 with value: 0.715238971866333.\n",
            "[I 2025-04-29 12:13:02,616] Trial 22 finished with value: 0.7138230282982638 and parameters: {'learning_rate': 0.13522499476240704, 'num_leaves': 45, 'max_depth': 6, 'min_child_samples': 61, 'subsample': 0.5746707949876533, 'colsample_bytree': 0.5651349231566362, 'reg_alpha': 7.062920962895676, 'reg_lambda': 8.517046087063946}. Best is trial 21 with value: 0.715238971866333.\n",
            "[I 2025-04-29 12:13:12,630] Trial 23 finished with value: 0.7127599271109368 and parameters: {'learning_rate': 0.051222493165520105, 'num_leaves': 24, 'max_depth': 9, 'min_child_samples': 80, 'subsample': 0.66524856437589, 'colsample_bytree': 0.6682735102722528, 'reg_alpha': 7.753312232090028, 'reg_lambda': 8.678485534525851}. Best is trial 21 with value: 0.715238971866333.\n",
            "[I 2025-04-29 12:13:22,793] Trial 24 finished with value: 0.7076011561391176 and parameters: {'learning_rate': 0.021144766309105913, 'num_leaves': 73, 'max_depth': 7, 'min_child_samples': 73, 'subsample': 0.579003607967838, 'colsample_bytree': 0.5763327838021223, 'reg_alpha': 8.951087789414835, 'reg_lambda': 6.760710263853312}. Best is trial 21 with value: 0.715238971866333.\n",
            "[I 2025-04-29 12:13:27,891] Trial 25 finished with value: 0.7133908095666365 and parameters: {'learning_rate': 0.11470517769314616, 'num_leaves': 99, 'max_depth': 4, 'min_child_samples': 89, 'subsample': 0.7425088561807163, 'colsample_bytree': 0.9800275344879912, 'reg_alpha': 4.537137859177932, 'reg_lambda': 8.720294373981403}. Best is trial 21 with value: 0.715238971866333.\n",
            "[I 2025-04-29 12:13:37,663] Trial 26 finished with value: 0.7053170786611712 and parameters: {'learning_rate': 0.01434520583461304, 'num_leaves': 44, 'max_depth': 8, 'min_child_samples': 42, 'subsample': 0.55557178261339, 'colsample_bytree': 0.5454728150461958, 'reg_alpha': 6.671694244867623, 'reg_lambda': 5.766569170065981}. Best is trial 21 with value: 0.715238971866333.\n",
            "[I 2025-04-29 12:13:44,145] Trial 27 finished with value: 0.7144424668387611 and parameters: {'learning_rate': 0.05298362153024434, 'num_leaves': 46, 'max_depth': 6, 'min_child_samples': 60, 'subsample': 0.6553432516928093, 'colsample_bytree': 0.6614307991495252, 'reg_alpha': 3.885044294217714, 'reg_lambda': 7.180150196405201}. Best is trial 21 with value: 0.715238971866333.\n",
            "[I 2025-04-29 12:13:55,119] Trial 28 finished with value: 0.7130837851041513 and parameters: {'learning_rate': 0.09145343974437146, 'num_leaves': 36, 'max_depth': 10, 'min_child_samples': 53, 'subsample': 0.6431308196637395, 'colsample_bytree': 0.6981803664982825, 'reg_alpha': 3.746305945011609, 'reg_lambda': 7.110656006440774}. Best is trial 21 with value: 0.715238971866333.\n",
            "[I 2025-04-29 12:14:10,294] Trial 29 finished with value: 0.7140029803125563 and parameters: {'learning_rate': 0.04345146156717971, 'num_leaves': 47, 'max_depth': 11, 'min_child_samples': 34, 'subsample': 0.6382520044377777, 'colsample_bytree': 0.7797951439009901, 'reg_alpha': 3.4401929911344893, 'reg_lambda': 5.654095107659291}. Best is trial 21 with value: 0.715238971866333.\n",
            "[I 2025-04-29 12:14:17,192] Trial 30 finished with value: 0.7026927886217075 and parameters: {'learning_rate': 0.02563668200730011, 'num_leaves': 70, 'max_depth': 4, 'min_child_samples': 61, 'subsample': 0.5512241223221215, 'colsample_bytree': 0.6572650415940159, 'reg_alpha': 2.729098424864475, 'reg_lambda': 8.852424547205867}. Best is trial 21 with value: 0.715238971866333.\n",
            "[I 2025-04-29 12:14:23,420] Trial 31 finished with value: 0.7126457247183581 and parameters: {'learning_rate': 0.05241459078122112, 'num_leaves': 100, 'max_depth': 6, 'min_child_samples': 69, 'subsample': 0.693546392981348, 'colsample_bytree': 0.5900332768234661, 'reg_alpha': 5.042938545523251, 'reg_lambda': 7.490567526797641}. Best is trial 21 with value: 0.715238971866333.\n",
            "[I 2025-04-29 12:14:31,596] Trial 32 finished with value: 0.714894047005957 and parameters: {'learning_rate': 0.061548491412442494, 'num_leaves': 33, 'max_depth': 7, 'min_child_samples': 5, 'subsample': 0.7235718922180213, 'colsample_bytree': 0.5508022942207008, 'reg_alpha': 6.200876293952751, 'reg_lambda': 7.930144414808627}. Best is trial 21 with value: 0.715238971866333.\n",
            "[I 2025-04-29 12:14:41,112] Trial 33 finished with value: 0.7108099819792325 and parameters: {'learning_rate': 0.15631728545356469, 'num_leaves': 33, 'max_depth': 8, 'min_child_samples': 8, 'subsample': 0.7628239614951087, 'colsample_bytree': 0.7094819710581973, 'reg_alpha': 5.0061721377136505, 'reg_lambda': 8.24079991215537}. Best is trial 21 with value: 0.715238971866333.\n",
            "[I 2025-04-29 12:14:47,969] Trial 34 finished with value: 0.7148079678517009 and parameters: {'learning_rate': 0.07798348887522236, 'num_leaves': 20, 'max_depth': 7, 'min_child_samples': 47, 'subsample': 0.7194244719900919, 'colsample_bytree': 0.5416783139957518, 'reg_alpha': 6.204883518234648, 'reg_lambda': 6.253112206633719}. Best is trial 21 with value: 0.715238971866333.\n",
            "[I 2025-04-29 12:14:56,608] Trial 35 finished with value: 0.7158646161236949 and parameters: {'learning_rate': 0.09356930234213212, 'num_leaves': 21, 'max_depth': 7, 'min_child_samples': 31, 'subsample': 0.7965835646973495, 'colsample_bytree': 0.5398552348770301, 'reg_alpha': 6.215104679468559, 'reg_lambda': 4.832881988525944}. Best is trial 35 with value: 0.7158646161236949.\n",
            "[I 2025-04-29 12:15:03,528] Trial 36 finished with value: 0.6986246709234383 and parameters: {'learning_rate': 0.004109639684682705, 'num_leaves': 32, 'max_depth': 9, 'min_child_samples': 34, 'subsample': 0.8083786333541632, 'colsample_bytree': 0.5006338416114772, 'reg_alpha': 8.327975170496126, 'reg_lambda': 4.58649531199126}. Best is trial 35 with value: 0.7158646161236949.\n",
            "[I 2025-04-29 12:15:12,577] Trial 37 finished with value: 0.7146931965957583 and parameters: {'learning_rate': 0.09816355453902958, 'num_leaves': 20, 'max_depth': 12, 'min_child_samples': 5, 'subsample': 0.852013089881296, 'colsample_bytree': 0.5973552451705082, 'reg_alpha': 9.253117448355194, 'reg_lambda': 9.244732430566293}. Best is trial 35 with value: 0.7158646161236949.\n",
            "[I 2025-04-29 12:15:25,007] Trial 38 finished with value: 0.7126830214230678 and parameters: {'learning_rate': 0.03190778592685902, 'num_leaves': 118, 'max_depth': 8, 'min_child_samples': 27, 'subsample': 0.850806368697474, 'colsample_bytree': 0.5324412902909849, 'reg_alpha': 7.193418197983927, 'reg_lambda': 2.9029013579951446}. Best is trial 35 with value: 0.7158646161236949.\n",
            "[I 2025-04-29 12:15:37,291] Trial 39 finished with value: 0.7066672765342848 and parameters: {'learning_rate': 0.2006743952077875, 'num_leaves': 52, 'max_depth': 7, 'min_child_samples': 12, 'subsample': 0.7855623409695538, 'colsample_bytree': 0.5418149468404235, 'reg_alpha': 5.48338401461909, 'reg_lambda': 4.924598424575685}. Best is trial 35 with value: 0.7158646161236949.\n",
            "[I 2025-04-29 12:15:47,253] Trial 40 finished with value: 0.703886183313112 and parameters: {'learning_rate': 0.01471191806456348, 'num_leaves': 40, 'max_depth': 13, 'min_child_samples': 26, 'subsample': 0.7215898900001005, 'colsample_bytree': 0.6332187339561979, 'reg_alpha': 8.09178259989572, 'reg_lambda': 3.4848097336662858}. Best is trial 35 with value: 0.7158646161236949.\n",
            "[I 2025-04-29 12:15:54,898] Trial 41 finished with value: 0.7150558951150876 and parameters: {'learning_rate': 0.07482450285819754, 'num_leaves': 28, 'max_depth': 7, 'min_child_samples': 48, 'subsample': 0.72236458703919, 'colsample_bytree': 0.546007443055876, 'reg_alpha': 6.268997765902651, 'reg_lambda': 6.553476757207101}. Best is trial 35 with value: 0.7158646161236949.\n",
            "[I 2025-04-29 12:16:05,035] Trial 42 finished with value: 0.7099620521708079 and parameters: {'learning_rate': 0.15988016646180128, 'num_leaves': 29, 'max_depth': 8, 'min_child_samples': 42, 'subsample': 0.7485274712188221, 'colsample_bytree': 0.8864540328999752, 'reg_alpha': 6.1002306079810165, 'reg_lambda': 6.576850655003532}. Best is trial 35 with value: 0.7158646161236949.\n",
            "[I 2025-04-29 12:16:13,046] Trial 43 finished with value: 0.7146913682890336 and parameters: {'learning_rate': 0.09892157481912768, 'num_leaves': 27, 'max_depth': 5, 'min_child_samples': 49, 'subsample': 0.8349210480762713, 'colsample_bytree': 0.5926153790209688, 'reg_alpha': 6.558858719778191, 'reg_lambda': 5.30353714434903}. Best is trial 35 with value: 0.7158646161236949.\n",
            "[I 2025-04-29 12:16:18,418] Trial 44 finished with value: 0.710417330230583 and parameters: {'learning_rate': 0.02632270700918299, 'num_leaves': 39, 'max_depth': 7, 'min_child_samples': 56, 'subsample': 0.8966477507882389, 'colsample_bytree': 0.5236997628442709, 'reg_alpha': 5.263334189743468, 'reg_lambda': 8.161093557027643}. Best is trial 35 with value: 0.7158646161236949.\n",
            "[I 2025-04-29 12:16:25,261] Trial 45 finished with value: 0.7120959733672796 and parameters: {'learning_rate': 0.06909795232552984, 'num_leaves': 90, 'max_depth': 4, 'min_child_samples': 20, 'subsample': 0.7776127409105853, 'colsample_bytree': 0.54679348140572, 'reg_alpha': 4.5055909142508, 'reg_lambda': 5.82510735275876}. Best is trial 35 with value: 0.7158646161236949.\n",
            "[I 2025-04-29 12:16:33,872] Trial 46 finished with value: 0.7069376470305574 and parameters: {'learning_rate': 0.21208728562362603, 'num_leaves': 34, 'max_depth': 9, 'min_child_samples': 40, 'subsample': 0.8910591758996607, 'colsample_bytree': 0.5864807457929536, 'reg_alpha': 5.926874494947584, 'reg_lambda': 4.242080154790024}. Best is trial 35 with value: 0.7158646161236949.\n",
            "[I 2025-04-29 12:16:41,630] Trial 47 finished with value: 0.7138819607026659 and parameters: {'learning_rate': 0.13114147999742654, 'num_leaves': 52, 'max_depth': 6, 'min_child_samples': 78, 'subsample': 0.7352373714960889, 'colsample_bytree': 0.6383804208777581, 'reg_alpha': 8.678116687598118, 'reg_lambda': 7.334482664478427}. Best is trial 35 with value: 0.7158646161236949.\n",
            "[I 2025-04-29 12:16:49,669] Trial 48 finished with value: 0.7128497005255368 and parameters: {'learning_rate': 0.04339656755134046, 'num_leaves': 26, 'max_depth': 10, 'min_child_samples': 32, 'subsample': 0.8223190444458601, 'colsample_bytree': 0.609132404509343, 'reg_alpha': 7.867575109088953, 'reg_lambda': 9.314624640809113}. Best is trial 35 with value: 0.7158646161236949.\n",
            "[I 2025-04-29 12:16:56,867] Trial 49 finished with value: 0.6918194599429411 and parameters: {'learning_rate': 0.0011147200686597073, 'num_leaves': 51, 'max_depth': 5, 'min_child_samples': 12, 'subsample': 0.7156556057177251, 'colsample_bytree': 0.5012856273161036, 'reg_alpha': 1.4734152219507237, 'reg_lambda': 7.978042747277097}. Best is trial 35 with value: 0.7158646161236949.\n"
          ]
        },
        {
          "output_type": "stream",
          "name": "stdout",
          "text": [
            "Best AUC    : 0.7158646161236949\n",
            "Best Params : {'learning_rate': 0.09356930234213212, 'num_leaves': 21, 'max_depth': 7, 'min_child_samples': 31, 'subsample': 0.7965835646973495, 'colsample_bytree': 0.5398552348770301, 'reg_alpha': 6.215104679468559, 'reg_lambda': 4.832881988525944}\n",
            "[LightGBM] [Info] Number of positive: 11004, number of negative: 11196\n",
            "[LightGBM] [Info] Auto-choosing col-wise multi-threading, the overhead of testing was 0.010359 seconds.\n",
            "You can set `force_col_wise=true` to remove the overhead.\n",
            "[LightGBM] [Info] Total Bins 7345\n",
            "[LightGBM] [Info] Number of data points in the train set: 22200, number of used features: 52\n",
            "[LightGBM] [Info] [binary:BoostFromScore]: pavg=0.495676 -> initscore=-0.017298\n",
            "[LightGBM] [Info] Start training from score -0.017298\n",
            "\n",
            "Top 10 Feature Importances:\n",
            " self_reference_min_shares     107\n",
            "kw_avg_avg                    103\n",
            "kw_max_avg                     94\n",
            "LDA_02                         83\n",
            "n_unique_tokens                80\n",
            "LDA_00                         76\n",
            "global_rate_positive_words     65\n",
            "num_hrefs                      64\n",
            "kw_avg_max                     64\n",
            "kw_min_max                     64\n",
            "dtype: int32\n"
          ]
        }
      ]
    }
  ]
}