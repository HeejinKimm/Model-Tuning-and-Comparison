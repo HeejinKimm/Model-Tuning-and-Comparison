{
  "nbformat": 4,
  "nbformat_minor": 0,
  "metadata": {
    "colab": {
      "provenance": []
    },
    "kernelspec": {
      "name": "python3",
      "display_name": "Python 3"
    },
    "language_info": {
      "name": "python"
    }
  },
  "cells": [
    {
      "cell_type": "code",
      "source": [
        "from google.colab import drive\n",
        "drive.mount('/content/drive')"
      ],
      "metadata": {
        "colab": {
          "base_uri": "https://localhost:8080/"
        },
        "id": "ypFhD7iImcGL",
        "outputId": "45fae1c0-a6bb-4949-9460-074537555f08"
      },
      "execution_count": null,
      "outputs": [
        {
          "output_type": "stream",
          "name": "stdout",
          "text": [
            "Mounted at /content/drive\n"
          ]
        }
      ]
    },
    {
      "cell_type": "code",
      "source": [
        "# 필요한 라이브러리 불러오기\n",
        "import pandas as pd\n",
        "import numpy as np\n",
        "import tensorflow as tf\n",
        "from tensorflow import keras\n",
        "from tensorflow.keras import layers\n",
        "from sklearn.model_selection import train_test_split\n",
        "from sklearn.metrics import f1_score, roc_auc_score\n",
        "\n",
        "# 1. 데이터 불러오기\n",
        "train = pd.read_csv('/content/drive/MyDrive/패턴인식/train_processed.csv')\n",
        "test = pd.read_csv('/content/drive/MyDrive/패턴인식/test_processed.csv')\n",
        "\n",
        "# 2. Feature, Label 나누기 ('shares'도 제거해야 함)\n",
        "X = train.drop(['id', 'y', 'shares'], axis=1)\n",
        "y = train['y']\n",
        "\n",
        "# 3. Train/Validation 분리\n",
        "X_train, X_val, y_train, y_val = train_test_split(\n",
        "    X, y, test_size=0.2, random_state=42\n",
        ")\n",
        "\n",
        "# 4. Neural Network 모델 만들기 (BatchNormalization 추가, Dropout 줄이고 learning_rate 조정)\n",
        "model = keras.Sequential([\n",
        "    layers.Dense(128, activation='relu', input_shape=(X_train.shape[1],)),\n",
        "    layers.BatchNormalization(),\n",
        "    layers.Dropout(0.1),\n",
        "    layers.Dense(64, activation='relu'),\n",
        "    layers.BatchNormalization(),\n",
        "    layers.Dropout(0.1),\n",
        "    layers.Dense(1, activation='sigmoid')  # 이진 분류 문제니까 sigmoid 사용\n",
        "])\n",
        "\n",
        "# 5. 모델 컴파일\n",
        "model.compile(\n",
        "    optimizer=keras.optimizers.Adam(learning_rate=0.0005),\n",
        "    loss='binary_crossentropy',\n",
        "    metrics=['accuracy']\n",
        ")\n",
        "\n",
        "# 6. EarlyStopping 콜백 설정\n",
        "early_stop = keras.callbacks.EarlyStopping(\n",
        "    monitor='val_loss', patience=7, restore_best_weights=True\n",
        ")\n",
        "\n",
        "# 7. 모델 학습\n",
        "history = model.fit(\n",
        "    X_train, y_train,\n",
        "    epochs=100,\n",
        "    batch_size=64,\n",
        "    validation_data=(X_val, y_val),\n",
        "    callbacks=[early_stop]\n",
        ")\n",
        "\n",
        "# 8. 테스트 데이터 준비 (id는 제거)\n",
        "X_test = test.drop(['id'], axis=1)\n",
        "\n",
        "# 9. 예측 (확률 예측)\n",
        "prob_predictions = model.predict(X_test)\n",
        "\n",
        "# 10. 확률을 0.5 기준으로 0 또는 1로 변환\n",
        "y_predictions = (prob_predictions >= 0.5).astype(int)\n",
        "\n",
        "# 11. 결과 저장 (id + y_predict + y_prob)\n",
        "submission = pd.DataFrame({\n",
        "    'id': test['id'],\n",
        "    'y_predict': y_predictions.flatten(),\n",
        "    'y_prob': prob_predictions.flatten()\n",
        "})\n",
        "\n",
        "submission.to_csv('prediction.csv', index=False)\n",
        "\n",
        "print(\"Done! 결과는 prediction.csv에 저장됐습니다.\")\n",
        "\n",
        "# 12. Validation 데이터로 F1 Score, AUC 계산\n",
        "val_prob_predictions = model.predict(X_val)\n",
        "val_predictions = (val_prob_predictions >= 0.5).astype(int)\n",
        "\n",
        "f1 = f1_score(y_val, val_predictions)\n",
        "auc = roc_auc_score(y_val, val_prob_predictions)\n",
        "\n",
        "print(f\"Validation F1 Score: {f1:.4f}\")\n",
        "print(f\"Validation AUC Score: {auc:.4f}\")"
      ],
      "metadata": {
        "colab": {
          "base_uri": "https://localhost:8080/"
        },
        "id": "0IGhO4eDy_rE",
        "outputId": "8dc7da2b-e5f5-466c-937e-8ee9f3f5533e"
      },
      "execution_count": null,
      "outputs": [
        {
          "output_type": "stream",
          "name": "stdout",
          "text": [
            "Epoch 1/100\n"
          ]
        },
        {
          "output_type": "stream",
          "name": "stderr",
          "text": [
            "/usr/local/lib/python3.11/dist-packages/keras/src/layers/core/dense.py:87: UserWarning: Do not pass an `input_shape`/`input_dim` argument to a layer. When using Sequential models, prefer using an `Input(shape)` object as the first layer in the model instead.\n",
            "  super().__init__(activity_regularizer=activity_regularizer, **kwargs)\n"
          ]
        },
        {
          "output_type": "stream",
          "name": "stdout",
          "text": [
            "\u001b[1m278/278\u001b[0m \u001b[32m━━━━━━━━━━━━━━━━━━━━\u001b[0m\u001b[37m\u001b[0m \u001b[1m4s\u001b[0m 5ms/step - accuracy: 0.5613 - loss: 0.7480 - val_accuracy: 0.6282 - val_loss: 0.6454\n",
            "Epoch 2/100\n",
            "\u001b[1m278/278\u001b[0m \u001b[32m━━━━━━━━━━━━━━━━━━━━\u001b[0m\u001b[37m\u001b[0m \u001b[1m1s\u001b[0m 4ms/step - accuracy: 0.6219 - loss: 0.6619 - val_accuracy: 0.6360 - val_loss: 0.6394\n",
            "Epoch 3/100\n",
            "\u001b[1m278/278\u001b[0m \u001b[32m━━━━━━━━━━━━━━━━━━━━\u001b[0m\u001b[37m\u001b[0m \u001b[1m1s\u001b[0m 4ms/step - accuracy: 0.6436 - loss: 0.6387 - val_accuracy: 0.6417 - val_loss: 0.6360\n",
            "Epoch 4/100\n",
            "\u001b[1m278/278\u001b[0m \u001b[32m━━━━━━━━━━━━━━━━━━━━\u001b[0m\u001b[37m\u001b[0m \u001b[1m3s\u001b[0m 8ms/step - accuracy: 0.6525 - loss: 0.6265 - val_accuracy: 0.6430 - val_loss: 0.6321\n",
            "Epoch 5/100\n",
            "\u001b[1m278/278\u001b[0m \u001b[32m━━━━━━━━━━━━━━━━━━━━\u001b[0m\u001b[37m\u001b[0m \u001b[1m2s\u001b[0m 7ms/step - accuracy: 0.6573 - loss: 0.6188 - val_accuracy: 0.6417 - val_loss: 0.6330\n",
            "Epoch 6/100\n",
            "\u001b[1m278/278\u001b[0m \u001b[32m━━━━━━━━━━━━━━━━━━━━\u001b[0m\u001b[37m\u001b[0m \u001b[1m2s\u001b[0m 4ms/step - accuracy: 0.6585 - loss: 0.6176 - val_accuracy: 0.6423 - val_loss: 0.6315\n",
            "Epoch 7/100\n",
            "\u001b[1m278/278\u001b[0m \u001b[32m━━━━━━━━━━━━━━━━━━━━\u001b[0m\u001b[37m\u001b[0m \u001b[1m1s\u001b[0m 4ms/step - accuracy: 0.6663 - loss: 0.6122 - val_accuracy: 0.6484 - val_loss: 0.6284\n",
            "Epoch 8/100\n",
            "\u001b[1m278/278\u001b[0m \u001b[32m━━━━━━━━━━━━━━━━━━━━\u001b[0m\u001b[37m\u001b[0m \u001b[1m1s\u001b[0m 4ms/step - accuracy: 0.6652 - loss: 0.6124 - val_accuracy: 0.6583 - val_loss: 0.6253\n",
            "Epoch 9/100\n",
            "\u001b[1m278/278\u001b[0m \u001b[32m━━━━━━━━━━━━━━━━━━━━\u001b[0m\u001b[37m\u001b[0m \u001b[1m1s\u001b[0m 4ms/step - accuracy: 0.6660 - loss: 0.6070 - val_accuracy: 0.6516 - val_loss: 0.6274\n",
            "Epoch 10/100\n",
            "\u001b[1m278/278\u001b[0m \u001b[32m━━━━━━━━━━━━━━━━━━━━\u001b[0m\u001b[37m\u001b[0m \u001b[1m1s\u001b[0m 4ms/step - accuracy: 0.6683 - loss: 0.6033 - val_accuracy: 0.6536 - val_loss: 0.6293\n",
            "Epoch 11/100\n",
            "\u001b[1m278/278\u001b[0m \u001b[32m━━━━━━━━━━━━━━━━━━━━\u001b[0m\u001b[37m\u001b[0m \u001b[1m1s\u001b[0m 4ms/step - accuracy: 0.6765 - loss: 0.5991 - val_accuracy: 0.6471 - val_loss: 0.6292\n",
            "Epoch 12/100\n",
            "\u001b[1m278/278\u001b[0m \u001b[32m━━━━━━━━━━━━━━━━━━━━\u001b[0m\u001b[37m\u001b[0m \u001b[1m1s\u001b[0m 4ms/step - accuracy: 0.6744 - loss: 0.5966 - val_accuracy: 0.6466 - val_loss: 0.6286\n",
            "Epoch 13/100\n",
            "\u001b[1m278/278\u001b[0m \u001b[32m━━━━━━━━━━━━━━━━━━━━\u001b[0m\u001b[37m\u001b[0m \u001b[1m1s\u001b[0m 4ms/step - accuracy: 0.6773 - loss: 0.5996 - val_accuracy: 0.6509 - val_loss: 0.6275\n",
            "Epoch 14/100\n",
            "\u001b[1m278/278\u001b[0m \u001b[32m━━━━━━━━━━━━━━━━━━━━\u001b[0m\u001b[37m\u001b[0m \u001b[1m2s\u001b[0m 6ms/step - accuracy: 0.6819 - loss: 0.5894 - val_accuracy: 0.6464 - val_loss: 0.6257\n",
            "Epoch 15/100\n",
            "\u001b[1m278/278\u001b[0m \u001b[32m━━━━━━━━━━━━━━━━━━━━\u001b[0m\u001b[37m\u001b[0m \u001b[1m2s\u001b[0m 5ms/step - accuracy: 0.6907 - loss: 0.5859 - val_accuracy: 0.6482 - val_loss: 0.6298\n",
            "\u001b[1m298/298\u001b[0m \u001b[32m━━━━━━━━━━━━━━━━━━━━\u001b[0m\u001b[37m\u001b[0m \u001b[1m1s\u001b[0m 2ms/step\n",
            "Done! 결과는 prediction.csv에 저장됐습니다.\n",
            "\u001b[1m139/139\u001b[0m \u001b[32m━━━━━━━━━━━━━━━━━━━━\u001b[0m\u001b[37m\u001b[0m \u001b[1m0s\u001b[0m 2ms/step\n",
            "Validation F1 Score: 0.6502\n",
            "Validation AUC Score: 0.7090\n"
          ]
        }
      ]
    }
  ]
}